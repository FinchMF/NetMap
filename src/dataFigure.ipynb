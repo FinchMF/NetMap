{
 "metadata": {
  "language_info": {
   "codemirror_mode": {
    "name": "ipython",
    "version": 3
   },
   "file_extension": ".py",
   "mimetype": "text/x-python",
   "name": "python",
   "nbconvert_exporter": "python",
   "pygments_lexer": "ipython3",
   "version": "3.7.6"
  },
  "orig_nbformat": 2,
  "kernelspec": {
   "name": "python376jvsc74a57bd06ac79b1fdcb490579d7682732754f5f6cab407ac9f00894a844997adac3ef759",
   "display_name": "Python 3.7.6 64-bit ('base': conda)"
  }
 },
 "nbformat": 4,
 "nbformat_minor": 2,
 "cells": [
  {
   "source": [
    "## Follower Functionality"
   ],
   "cell_type": "markdown",
   "metadata": {}
  },
  {
   "cell_type": "code",
   "execution_count": 1,
   "metadata": {},
   "outputs": [],
   "source": [
    "from NetMap import TwCli\n",
    "import random"
   ]
  },
  {
   "cell_type": "code",
   "execution_count": 2,
   "metadata": {},
   "outputs": [],
   "source": [
    "client = TwCli()\n",
    "username = 'joebiden'"
   ]
  },
  {
   "cell_type": "code",
   "execution_count": 3,
   "metadata": {
    "tags": []
   },
   "outputs": [
    {
     "output_type": "stream",
     "name": "stdout",
     "text": [
      "2021-05-27 21:54:53 [INFO] NetMap-Log -  Page: 0\n",
      "2021-05-27 21:54:53 [INFO] NetMap-Log -  Collected: ['TriunfarEn', 'ScpgamerU', 'lordjustinn', 'JK12145', 'TheTrut62531693', 'AmeliaWorsham', 'info_dang', 'isabelmelende17', 'bah_marcellin', 'ibomcha', 'SolandaSanchez', 'bharathm1184', 'G1uravAttri', 'louiswe28419320', 'chrissmarie76', 'KhansaaRidouane', 'OneWordReviews7', 'Juannyrican', 'pannuca', 'KneeMoore', 'Neil18931135', '19e59', 'Haji_taji', 'aphsalt', 'umrr43226149', 'Bruce_II', 'DavidRa68595692', 'RosaneBocafoli', 'SUTYMZ', 'RahulMa29672438', 'ChannelKiya', 'Thanus49579482', 'oscar_lobaton', 'basu_swmdwn', 'JamesPepper93', 'Barbara23853355', 'BivasRo04686059', 'SiyaPatidar5', 'HenryTr02496784', 'americanbeowul1', 'rendelman_lisa', 'carlos_kledson', 'FarmworkerOf', 'joepatpatt', 'onThin20', 'LinukiG', 'JudeIgwilo', 'Eliannabjqhh', 'Chancha15891697', 'Asgar41902887', 'JacksonKai15', 'AnnieJa75661450', 'make_bus', 'BeRua112', 'KristinGholso13', 'candy5052', 'palaniselvan_m7', 'Aliouso97137997', 'shujongchang4', 'XxDavicarrixX', 'BaleDarit', 'Vigneshvilvan', 'JishnuKVishnu1', 'MohdSha42786197', 'Naren45741849', 'ashwin63183465', 'Bashir89328432', 'ORLANDO46818169', 'HctorRuizCasti2', 'huzefalokhanw52', 'JessChv75877143', '57011566', 'samarsa15971981', 'SettySreenu1', 'BillyScribner2', 'sunaihua609', 'UdharHui', 'Natalie39012038', 'catedch', 'JoeHall75898367', 'Nana_Reels', 'bumpnrun1515', 'sk12judo01', 'kojaepil95', 'Pranavvv_9', 'kerababy4', 'SujataB45119065', 'SubashC33807652', 'ByronDNelson1', 'LuisyRachel', 'OladejoAbayom10', 'Oscarfe25543036', 'TammarielloMark', 'DAYSIISABELSAN1', 'KeihKeih1', 'karlagomezrivas', 'Jayz86431841', 'yan_rup', 'Vinami16', 'allissonleitao', 'lionel21841003', 'Tariku55343128', 'Mengmemengna', 'TasoLiyi', 'SNNOOW', 'sanvi_shah', 'Rampal55988681', 'aidaf83467771', 'smallabs0210', 'kd_playboy', 'Christi70973217', 'mcschulbach', 'IrisB66337805', 'Prashan35506512', 'Oliver65097212', 'Nara23692984', 'MaddyHinkamp', 'Doaa72692979', 'Darkvad38530463', 'misozulu2', 'SteptoeRandall', 'William685', 'AbhiMau93572575', 'ShahabianSiavsh', 'dlP7k01x9jfKPDp', 'MDSobah68655466', 'mdumiak', 'cagyanteater', 'Daniel53462812', 'Gurudayalarya', 'vincentsun531', 'lNw7y1VLD4VC3u6', 'JoelMartin336', 'Sly24870223', 'miraclbeyi1', 'Leandrovpp', 'DeclanWaugh', 'MarkCha27957337', 'DEuisto', 'Sabbir12333', 'Golden24541621', 'TrishaLight1', 'MIA17303326', 'Rammilansahu16', 'pmunper', 'caagui21', 'rohitku18351344', 'rezahas18109780', 'Im_Skywalker', 'SakaBrown2', 'JITENDR23133359', 'Benjabuzz', 'Weera92993210', 'rjayapal48', 'MOHDZAHIRZAHIR2', 'mistymesentery', 'MesfinBalcha4', 'YarimYuliana', 'luutd92', 'souravdasj', 'BissonMarieN', 'Saravan32956890', 'ASaravanan7579', 'DmrcSaini', 'BonsuEd', 'LiyaCarrington', 'volmont08', 'PleePlano', 'Venturetour1', 'abdulvahidkm', 'JoJoe10409510', 'Emmanue20405649', 'pimentinhaajp', 'NickJayme', 'Susan3227624825', 'brandon_logan55', 'Fletcherv3wcb', 'MyatMin98387080', 'pacodeveze', 'valdivia05', 'JandriLorena', 'Chila46656187', 'OhJack17', 'GoytanKamal', 'imbishal1997', 'Nikhil48447596', 'Techshadow14', 'DestinyMhasta', 'lishijie5066627', 'Meektom1', 'LeslyAlonzo6', 'soungdoug', 'JoyceSandral', 'Ashok80440252', 'AllickKristi', 'shadrack_wise', 'aniket267888077', 'hossen_mohashin', 'viudfoggofi', 'Mohamma83642588'] \n",
      "\n",
      "2021-05-27 21:54:54 [INFO] NetMap-Log -  Page: 1\n",
      "2021-05-27 21:54:54 [INFO] NetMap-Log -  Collected: ['FarrazPatel', 'MoonLightNinja8', 'Y19115132', 'DelapenaHenry', 'ATOMIC92204437', 'farhadsedeqi2', 'revesian12', 'anna57490093', 'KayalFeras', 'naphtaiguie', 'MUAm9F0hxk14W7R', 'Ximena17235480', 'pandit_yugal', 'p0LD0sFljS3PsLz', 'JoeNicJunior', 'ANANDPR38241917', 'GatlawarShreyas', 'lai_kenz', 'Vikashk26452861', 'NayMin90504110', '5OFA4S1AGEJKsCy', '_hugan_', 'RandyLEveland1', 'voteswartz', 'mou007016', 'oogaboogabby', 'zhangle32653170', 'gk_sangamesh', 'KareemSamsonAy1', 'Nicoleallyson_', 'LisaSal26501074', 'ferrucho100', 'Sofia04917371', 'sarfojohn178', 'Alc405', 'benjaminjamess5', 'Ismaila23751144', 'wafae65775816', 'tifflewis99', 'Ariana04166621', 'BakouanRoger', 'Wang60159532', 'VivekKu77397675', 'RawanQassem6', 'nishan_faizal', 'PAOLAKHOURY', 'Mateo_murature', 'Yohana27479419', 'SantiagoBarredo', 'HT58021609', 'ChannMie', 'Kaileeds0w', 'lackey_chip', 'mrsjessicayates', 'LGJoseph2103', 'jamesWillies6', 'Maran55273151', 'THJowel1', 'michell04982697', 'LalitMo31857349', 'GlennWesleyJoh1', 'elfreda97286995', 'shachinraj04', 'PhilippeSangio3', 'NickOrbu', 'LaMale31497864', 'IrisTransforms', 'willian_eae', 'AdarshV66928789', 'AnastaciaSalam', 'JeremyD48336931', 'brosayss', 'RbKJzhUHD87kaBZ', 'wVa1M0x059PcTnr', '0YOqkOakAUzNEZY', 'NickyNicole1213', 'Ameer6lxo', 'Rhoda503', 'sajdanahmad_', 'poojaBhusal9', 'Galaxys64570354', 'sridhar_gundla', 'CintiaArantes3', 'rafsnake', 'Pushpak44697439', 'EK9KpBSmAqK3imq', 'Kevin12286444', 'piaoxuelingfen1', 'Manpree90521868', 'rokoroko322', 'Mark66046987', 'venusenleo', 'XxsCedar', 'Stephen67221960', 'HakanOk98860664', 'PhilippHu3', 'ne_sankar', 'William48705874', 'AjayaKumarC4', 'Sneha54638783', 'ZeLrUF6zpxzrgQQ', 'ale_loginow', 'mikuau', 'Anayeli92485626', 'XiiiSaenz', '2pFt1klAMnAgWD3', 'destini_long', 'Sluni2', 'Hrj5rMnIWSE3kQk', 'kridsadas', 'DKaisermeister', 'allaham_rima', 'LaurenB19823463', 'Matias81958683', 'jaybird_1863', 'alagic_salih', 'Ziiiro58680910', 'IlyasMabrouk4', 'MooreChes', 'Nesarrik', 'AsyaMomi', 'NikMangukiya27', 'AlokRanjanPoems', 'CaraPate15', 'Anwer70480348', 'Lifa25013811', 'ShaibShazmin', 'Sunan72480446', 'CRVpensioner', 'heshanmaduran20', 'mshayashrahmae', 'Alotabi34534394', 'MariDowns16', 'AhnJase', 'doggame63136238', 'shevamalik6', 'GhulamN55395370', 'uixYT3QsqaKxiuf', 'jolinewarni', 'AlexandreAllen2', 'JohnAMeno2', 'C70997796', 'Ibrahim53771972', 'RudiTar49465382', 'PawanKhaitan14', 'SandraR05038351', 'chinmaypanth', 'KhaledMuhiby', 'MiOtroY66433223', 'ChiDong16', 'arjunca1110', 'JimBarn51623964', 'Clement71230323', 'SaifUli67061022', 'LaxminarayanPt', 'jaydipdey3', 'TooRadhakrishna', 'rajchristy', 'DeKasta1', 'owlbaba00786', 'microyang2', 'Shane03678225', 'MuraliM08714831', 'LaurenBissett1', 'NguynPh32042808', 'AdarshK00649598', 'jainkhushi014', 'zaynwarraich', 'DavidRu30997034', 'alnaef888', 'Michael95191491', 'CurriculumRcrds', 'InfluxAPEX', 'Kentuckysun44', 'liveLevi4', 'ChokkaVenkates9', 'lea00909136', 'm3me5m4o', 'rhondaclark17', 'Kav35223700', 'Ruby89327166', 'MirandaSchenke1', 'HelpMe87553907', 'iamKishannn', 'GualbertoArria1', 'TrilokKashana', 'Ismaila09539916', 'CrazyKashyap', 'Davishannyleet1', 'xkxatxe', 'AshishY62237668', 'HUMANL16', 'Eduardo78848983', 'marcelamariart', 'Graysonyfsh', 'GNarhari', 'Bridget79267733', 'AngieGWang', 'Tiffanycourtn20', 'karter3w'] \n",
      "\n",
      "2021-05-27 21:54:55 [INFO] NetMap-Log -  Page: 2\n",
      "2021-05-27 21:54:55 [INFO] NetMap-Log -  Collected: ['Anand40419068', 'PrabinM22298603', 'neni_tem', 'b1gT7vl3Unf7VGd', 'Jonatas93094709', 'DevonaHickerson', 'Siddharth18_', 'VladimirFranoi', 'coplin_martha', 'Johan63517192', 'michael38721022', 'Rajasek32803063', 'mehtasaolcom1', 'amanda_sanu', 'cg58347953', 'AbiaziemKennedy', 'lngcH48736399', 'Sha83124733Amit', 'arielac26526123', 'nugzar', 'Muhamme13372857', 'Waseema21204307', 'John_Gregory_Vi', 'King69874598', 'A7mdSami141', 'GraceMpume', 'iandale113', 'noel_samintha', 'AbdulRahim5029', 'TaylorB0117', 'PalwinderH', 'Surajku08955084', 'man_inu', 'SantaYouth', 'ConstruesMinec9', 'CloudCoreJSC', 'ramses_erwan', 'tejeda_yamilka', 'UzairZaib4', 'leroydavis55', '0HZAJ07gnivFZKY', 'TvEustace', 'MiguelAngelMV90', 'cadagan_pablo', 'Elizabe59548188', 'carlancats', 'shine69179580', 'christo_kimmy', 'marenmarris41', 'defesasafins', 'JoyceIv45927600', 'Da_rrae', 'AliceBr81613375', 'juanHer64672358', 'XDragEm1', 'loginazs', 'LisaFor15808885', 'ItsJustAKissAw1', 'FengYueshi', 'PerryWi17144280', 'tujihusen2000', 'SHABUDINADVOCA5', 'Louisa59040411', 'abrohith', 'jodiijamez', 'fLI6xv9p9uUqUjg', 'ShahidLatief20', 'CoOp_in_crime', 'Shashan86357892', 'oso851', 'edgarhe81455192', 'Aimee53662375', 'MathusSarswati', 'TS06457905', 'ExgodZeus', 'wlOjJyecxyvGOqX', 'MoaPongen13', 'YarelZambrano', 'naelahsa', 'RonHubb63510891', 'Natt72110084', 'tyTlvzdIseI9Fip', 'Mahesh06339405', 'Harveycqnl', 'randyjordan10', 'HinkleDavis', 'JulitaCastro4', 'ntk_pc', 'mhma_nm', 'GasparT44605808', 'mjoNdPGjwQLqYat', 'LisaBeecher8', 'Samanth08978216', 'OFC88167471', 'ALFAHADMERCHAN1', 'KennyBelfast', 'Arulsuriya16', 'huthlai', 'fengkua05326886', 'JanardanPradha7', 'KyreeRogers1', 'julie94750490', 'AderaDesi', 'safari_jnr', 'BVigneswararaja', 'Anderso39032788', 'Gum73957811', 'companiony_jose', 'nazmula82056685', 'wait86263342', 'Samone1721', 'MenchitaRA', 'itsomort', 'piemonplays', 'Brian81009799', 'VirginiaMtz91', 'simplejones2', 'SatyamT78811432', 'ElianaZAgudelo', 'AungHtetPai2', 'DarcyLynnT', 'JohnPal86991125', 'Amerikadan_', 'Isiah6evr', 'Shivamg66883893', 'RichardDeDios8', 'Hamdi62981538', 'Iamabhi6565', 'zillurizit', 'ArcoCarreras', 'EdinsonSanmigu2', 'DngNguynThin1', 'Arabhorsegirl', 'mabel30829901', 'Kelly30387956', 'vrakblamann', 'kaorixyamamoto', 'Enes77cicek', 'xyjaaay', 'Rajesh58331639', 'DolphinLila', 'funnylifecoach', 'WASIYOUSAFZAI90', 'kareck66', 'KurtHolliday1', 'MRzaviy', 'brhan89955278', 'vikhas_v', 'KasoSeyfu', 'JoshiAmme', 'RamayMutahar', 'Missy76937249', 'LaxmiKu32866013', 'joyce_mimo', 'Daniela83273972', 'psychofaizan', 'AshleyLum2', 'mcinnes_ruby', 'ChehmaEl', 'glerean_ana', 'kola88820269', 'Richard21751593', 'PatriciaMare4', 'Yoki58041574', 'KAURDee78269355', 'areriibsa', 'Victor67835601', 'DSlbrdwMyuh55CY', 'mjukhank1', 'youthme5', 'Cheikho13150411', 'wunnicha1', 'YAdewae', 'kawaiishell', 'thoughtchallngr', 'PaulTho06300889', 'LeewinaH', 'storopainen1', 'bryanawastaken', 'AZARUDD28668695', 'Shailen08163047', 'scdpblack', 'OceanBilly4', 'IsacJun74970478', 'TNarksutti', 'KamaraAlhaji13', 'Priscil06875337', 'SOUMYAJITMAJI1', 'Mednamir1946', 'MashkourRania', 'Phillip46427358', 'EdisonSmiths1', 'Yashwan00942628', 'Anderso71614441', 'KeePlayhouse', 'woerse', 'Rockola84126569', 'Canteroski', 'MarkDyman', 'KevinHndel2'] \n",
      "\n",
      "2021-05-27 21:54:57 [INFO] NetMap-Log -  Page: 3\n",
      "2021-05-27 21:54:57 [INFO] NetMap-Log -  Collected: ['cconley78', 'Gibsonzxsa0', 'OnitijuSenami', 'HauaLeo', 'khongte17769934', 'KWilacky', 'Bibek57355620', 'Molly83274679', 'ChampCyndaquil', 'IjazAhm41372490', 'CarlosOpocue', 'Carmen49203187', 'SamiAli44258631', 'TimRoyse2', 'mahadev143s', 'Zana59604738', 'MichellePalomo9', 'Travis5s0', 'luvtendollars', 'AlbertGobius', 'CarlosG95503672', 'K_B_Olofsson', 'CamiishayC', 'malaki_miguel', 'SirMathew12', 'DistortedFN_', 'HikaruNakamur14', 'Milagro80951262', 'dinz687', 'Magicdhj1', 'ba_kingstone', 'PaulMor30689124', 'slagle_scotty', 'Narayan86991239', 'ghadama67156462', 'GovernmentBi', 'DyduchInc', 'sobersoul4', 'Awol29274826', 'QLea26', 'itsmeSatanSpawn', 'behindmysucces1', 'Alex64551767', 'KevinBouAbdall1', 'BabinShahi3', 'AzgerParvez', 'ZubairA08495902', 'AlexDecuSan', 'Raj65825801', 'best_empire', 'DomenechIssac', 'Phoenix2v50', 'ChinemenmaB', 'Khami_felt_art', 'minhneverdie', 'Sachindhillo4', 'dinhducday', 'Satyabr92301195', 'ccBsSsrL56pGnoe', 'Hey_Cruzz', 'idPlein', 'jdlivplay', 'hMPyExJHaRv3AjT', 'RodeUddhav', 'AG57291576', 'dushuren1', 'SatishK41127526', 'Yan19930201', 'Alquimi33943451', 'RmKhan37227617', 'Lmsh85606266', 'CROOKHAVEN3', 'weRThepeople420', 'Ibbbah', 'JaypalS22399215', '98hasham', 'RozalinaM1', 'ramaraj02761441', 'q_rim', 'joesseng', 'GawarSanjeev', 'Sp6Ux6E9VjVoeBB', 'jayhorn82', 'rowlandtanesha1', '6Tadex', '3Wr0Zg9POll1rPf', 'AungAun11144686', 'Aidenciyob', 'EmitaLomeli', 'corymoo12042607', 'RamiroRojasJr2', 'DuNZZM8a7050RLP', 'Matthew14405399', 'Guy06Bad', 'Carlos61832028', 'HIPSURRAHAMAN', 'carmen20564398', 'PenielRaymond', 'Muhamma89647341', 'TRAITORThune', 'tina_thammavong', 'kendall70398041', 'Charlsi96367918', 'AngieYo41847403', 'Annah988', 'L1RrPXVFSu5TMxc', 'loe_lester', 'HakimBest13', 'Richard17358671', 'PMMarino22', 'Bushra17844259', 'Mustafa63993319', 'poyraz45977981', 'MWechalekar', 'LuisRam35750006', 'atomd76', 'pdshveii', 'fabricioTS1971', 'MahasanurM', 'Ximenaqnqj', 'UPiriguete', 'Demi49603483', 'Yeraldi64264457', 'SNGAR11', 'bsimpungwe2014', 'KhinmaythuX', 'Chriszvduk', 'Aminac53', 'theyelad', 'ironic833', 'PanahariYahooc1', 'Majo51590312', 'Sonali79914876', 'AhmedAl76115954', 'AGhumandesign', 'CrrizyF', 'VaneCC11847407', '6mOn9FYTbNPsoqX', 'Wadoma7', 'BoppiinM', 'taibaicn', 'NaveenK79597100', 'JayChoi07054072', 'Classic_Guitars', 'ANTHONY36244592', 'iorikido', 'akanarika4ever', 'AjayaKu91939811', 'MaryLam81695651', 'JanetCoffman18', 'The_Ringa', 'RailbowJd', 'AhmedCh29332448', 'AshleyL94684931', 'DethBenz', 'asmitchell11', 'embarek_haddi', 'AmjedKhailh', 'Imad_Jee17', 'h3xnx', 'SumayyaFathima5', 'moroney1116', 'Longnguyen2k42', 'Rafahernandezmx', 'salik_rk', 'SamuelMotsitsi2', 'ProjectBuchanan', 'Subash8796Bosss', 'ArminisG', 'JoephB1', 'imhansrajyadav', 'SasikanKwan', 'Eve54809672', 'mouravirtual', 'moga94196131', 'windhowl1962', 'RafaelBarriga15', 'EzechielVie', 'brianna_lynnnn', 'liangzhang77', 'asher_le1', 'Federalist1989', 'masarras', 'DjibrinMahaman', 'MelissaSorianoo', 'Gaurav98084269', '5me4dxpee', 'miltondog11', 'Eduardo14458630', 'AhmedAd64118227', 'RoadMapIntl', 'enochddy1', 'johnnyparedessu', 'Yondie0303', 'Jayeshpatil665', 'Irin33535059', 'manuel36135991', 'BanBurnPits', 'AustraliaRosar1', 'elliot28937621'] \n",
      "\n",
      "2021-05-27 21:54:58 [INFO] NetMap-Log -  Page: 4\n",
      "2021-05-27 21:54:58 [INFO] NetMap-Log -  Collected: ['IChizodza', 'Valenti97224439', 'Nathan37060432', 'huhushengweipp', 'GabotVictoria', 'Ibrahim68407401', 'cc19172', 'SteveBurrus2', 'morgainebrigid', 'GbanaJoseph', 'Baoanhhon', 'KarinaG54216233', 'robinlongforsh', '88Ghaffar', 'parachutes18', 'AhmedIr63575562', 'FelixT25916815', 'AdelekeDino', 'discordstuff33', 'RAVILAMACKE', 'Kc8mVcWj8wOy1cH', 'badass_lesbian', 'ImaJalia', 'alandrecm', 'das_tiya', 'Tipie21', 'srI08oNcSl7v50h', 'damtewgmgr', 'n5V1V1lBAJ2bBbf', 'HamidRa88585914', 'renanestabillo3', 'sophie65952474', 'Chrissi11760661', 'Tristan13797087', 'lama_ganesh', 'DiosMons', 'TraceyS84175988', 'themama420', 'beijita16', 'Tr35_Undo', 'HailinZabala', 'enadegheconsta1', 'DelewJamie', 'hiBM4g0ONcrjj3a', '118Malalai', 'PascoliSabrina', 'paralixer', 'Jamarionvmz', 'Shahid97470950', 'WeerapongM1', 'bah_ikon', 'YahayagarbaAma4', 'CarmenT17308247', 'PKNagar20', 'taffy35371639', 'NyiNyiT19632544', 'ElCura66241230', 'paulin_prophete', 'JuarezMarmol', 'TigheMichaela', 'Ramki08473772', 'MDHabiburBashe1', 'EdnerBart', 'chilzil', 'AlondraWillis', 'MorrisVelmani', 'Tu266654574', 'Airdrop_20', 'amroali94', 'B26Lolo', 'Fraser246', 'NaweenX', 'qm_bs_qm', 'TarasKarmali2', 'LaminSa06877394', 'fumengyang1', 'CFrosinos', 'Thomassturgis11', 'GautamA27436178', 'scottdavisson24', 'danielm31423433', 'JKiribull', 'Justin67954302', 'DianaFish16', 'KoPhoeZaw13', 'julian_verdugoo', 'Heidi51578143', 'SueLROGERS1', 'Mayukh1996', 'Scottyphone', 'coraldrivegood1', 'IblisSwt', 'hellopravallika', 'mizabeldavit', 'laureneabel', 'KornblauMatty', 'MRKMRK16921996', 'Disan12298205', 'davidj2688', 'KaleyWingo', 'KClutch247', 'UJ0ZHSmrKax3SaM', 'mazcarate1', 'JoanisAlvarado', 'Alanisd7d', 'oleary1000', 'zkovit', 'Spawnshaw', 'P82vEPHQWpbxFhh', 'Black_Re_', 'Lovejoydewdrop', 'Jay91616', 'Joana40580193', 'CarlosC20809893', 'neuralinks009', '5eIyMqmOogpvY2K', 'ceeking14', 'ey_liz', 'amour_nijah', 'elgarhy5955', 'MohdSuh57583964', 'romina45907021', 'MakhanS98826770', 'SAbbasAliZaidi2', 'ignacio78153208', 'kerroll224', 'Omemma2', 'psyche_sasa', 'inhNamTo1', 'G18785656', 'mamsaghel', 'cT6GkQ7M8x2NzGL', 'SoumalyaPaul1', 'ucheagwu2020', 'HaitanaJae', 'Berk45599377', 'SfjGPvWZkrdH9zo', 'RaniaMaged18', 'meganmywaydwntn', 'veerah11', 'aryal_shivaraj', 'M4aFhJbgF5uK4uI', 'Kinyanu', 'Rafael19933560', 'RadebeBill', 'inareshmatta', 'Antonio09861348', 'MichaeljMelvin6', 'SagarNa39766828', 'MaxamudHon', 'Julissa17215574', 'dreyes18793739', 'SAFEMOON_AU', 'HanouHa98075252', 'Jean44531244', 'TreePoon', 'Flexmo8', 'MuslimFarhad3', 'VigneshLoganat9', 'Mignon44', 'vk41077', 'deubaka', 'JoeramChavez', 'shababmanjeri', 'Dicks42', 'im_crazyboy_Sk', 'misterale', 'AkshitgamingYt2', 'maze_cynthia', 'colormerose2', 'EllenJMartin1', 'RajaRiza1', 'MaryCuzcano2', 'Icicle0077', 'Juma42805259', 'traceybiggers', 'atrondon', 'MoversSmk', 'mary39215755', 'Maydo41003072', 'rippinlipps888', 'fastnfurious101', 'arezoo80215756', 'Miracleqch6', 'ChunLspring', 'Narendr26854223', 'SussusMoogus', 'Yusniel42303793', 'MaulanaSameer', 'riotslit', 'Mike27216289', 'Cateli27', 'AbbyBeans1', 'clemencia_luque', 'ThiVanHo1', 'ijahargroup', 'MelchiomW', 'Amansha25817761', 'krtU2hWtxDAARCg', 'yususan_'] \n",
      "\n"
     ]
    }
   ],
   "source": [
    "followers = client.get_user_followers(username=username, records=5)"
   ]
  },
  {
   "cell_type": "code",
   "execution_count": 5,
   "metadata": {},
   "outputs": [],
   "source": [
    "followers_df = client.build_dataframe(username=username, data=followers, save=False)"
   ]
  },
  {
   "cell_type": "code",
   "execution_count": 27,
   "metadata": {},
   "outputs": [],
   "source": [
    "def choose_random_accounts(followers: list, num_accounts: int) -> list:\n",
    "\n",
    "    collectedFollowers = []\n",
    "    \n",
    "    while len(collectedFollowers) < num_accounts:\n",
    "\n",
    "        rand_idx = random.randint(0, len(followers)-1)\n",
    "        follower = followers[rand_idx]\n",
    "        collectedFollowers.append(follower)\n",
    "        followers.remove(follower)\n",
    "\n",
    "    return collectedFollowers"
   ]
  },
  {
   "cell_type": "code",
   "execution_count": 28,
   "metadata": {},
   "outputs": [],
   "source": [
    "selected_followers = choose_random_accounts(followers=list(followers_df.screen_name), num_accounts=10)"
   ]
  },
  {
   "cell_type": "code",
   "execution_count": 29,
   "metadata": {},
   "outputs": [
    {
     "output_type": "execute_result",
     "data": {
      "text/plain": [
       "['CurriculumRcrds',\n",
       " 'idPlein',\n",
       " 'jaydipdey3',\n",
       " 'Yoki58041574',\n",
       " 'Daniela83273972',\n",
       " 'sunaihua609',\n",
       " 'XxsCedar',\n",
       " 'MaddyHinkamp',\n",
       " 'William685',\n",
       " 'enadegheconsta1']"
      ]
     },
     "metadata": {},
     "execution_count": 29
    }
   ],
   "source": [
    "selected_followers"
   ]
  },
  {
   "cell_type": "code",
   "execution_count": 30,
   "metadata": {},
   "outputs": [],
   "source": [
    "import pandas as pd"
   ]
  },
  {
   "cell_type": "code",
   "execution_count": 32,
   "metadata": {},
   "outputs": [
    {
     "output_type": "stream",
     "name": "stdout",
     "text": [
      "2021-05-28 00:44:46 [INFO] NetMap-Log -  Page: 0\n",
      "2021-05-28 00:44:46 [INFO] NetMap-Log -  Collected: ['Hope22299', 'nginbo68', 'TV___Movies'] \n",
      "\n",
      "2021-05-28 00:44:47 [INFO] NetMap-Log -  Page: 0\n",
      "2021-05-28 00:44:47 [INFO] NetMap-Log -  Collected: ['videoCVshop', 'CelineGeers', 'IctjobL', 'RotondeLLO', 'HrmDane', 'EllieTilburg', 'markusvanes', 'eerstegesprek', 'HireHR_NL', 'joopherman6060', 'hradviesonline', 'roelandvanlaer', 'Johanoosterbee1', 'hpmtue', 'MelFVV', 'RecruitRating', 'DonDada00985743', 'ank_veer', 'BraalBen', 'FelixCommunity', 'Eva20644054', 'sterkerMKB', 'MMCGerritsen', 'webrobwebsites', 'bartverheijen1', 'WerkkrachtCoach', 'DRConsultancy1', 'brighART', 'CDC_6600', 'mehmetd69', 'TalChan84', 'JEngels15', 'op_de_schop_nl', 'WerkGeld', 'GreetvanGorsel', 'ingridronk', 'PlanV13', 'prikklinzicht', 'BriseNederland', 'WNCKL', 'BinnertdeB', 'PGruite', 'andriesdupont', '074Roy', 'ronwalther', 'johnvanetten96', 'AFarajghani', 'egecla', 'Oxford_Review', 'WierengaDeGraaf', 'affinityfriend', 'vengroot', 'DianavanEngelen', 'jesuismaurice64', 'GezondinBedrijf', 'SpinzeNL', 'TarekelGamal', 'Mahbubh99861609', 'MaxCredibleNL', 'WillemG14', 'BudgetHomecare', 'will_lall', 'BernadineDirks', 'daniellebraunOL', 'jos_peschen', 'WiemanEmile', 'pa_ra', 'Cas_Bax', 'gertjanjacobs1', 'Marion62259265', 'AnthonissenA', 'ginabuydaert', 'SollicitatieDr', 'JlcmLeemkuil', 'M10advies', 'dnapapa', 'Jan57294321', 'AnneQuanjer', 'EgginkJeroen1', 'Corine0611', 'amandabinnendij', 'Kwetter14', 'LinkinBusiness', 'AllesoverHR', 'basknoester', 'JIBSER2', 'BeetErwin', 'PasMaNNi', 'rdstuddynl1', 'crl23776', 'HRMbulletin', 'ActieLeer', 'thichscam', 'AliceAHO', 'WouterHylarides', 'P_Vandeweerd', 'AnoniemeC', 'JimployTweets', 'GeertPeeks', 'IGBoelhouwer', 'SjanneMarievdG', 'thijs1993', 'AFriends4fun', 'mmdewalle', 'Johan_Zwiauer', 'SeLMadZE', 'KonnecteD_Dvntr', 'iljaja689', 'GrandTheft2021', 'FemkeNOVOAdvo', 'DYNADORITOS', 'DraaijerEllen', 'work_match', 'petrahartog', 'lorrainedeploeg', 'volinnhans', 'thmensen', 'patbr40', 'TheAgedGamerRBX', 'EricaBassie', 'Reina_HRM', 'ozy8125', 'coach2connect1', 'landsanita', 'JolandavS', 'animikuh', 'leonbroere', 'HarmvanderPol17', 'vlsearchgroup', 'FrisoVonder', 'Beroepsver_RNVC', 'JobRokket', 'Erik_Beelen', 'BeynMensenwerk', 'mariekewheida', 'arbeidsrecht020', 'SharonPeters', 'ReneeGeene', 'beaksnl', 'TofThissen', 'grootkde', 'Workforpeople', 'DadSpotlight', 'JSPlifestyle', 'deLeeuwJanneke', 'ConnectorsWork', 'debreedsubsidie', 'RoySchoemaker', 'jp_heijmans', 'trienen_van', 'dribibubu', 'MarjoleinKalter', 'm_peelen', 'PPPont', 'CCreos', 'octopusontdekt', 'RiekvanderVlag', 'zichtopwerk', 'MEE_Plus_Arbeid', 'MarianSlagman', 'GordonTredgold', 'Paays2', 'hr_shahmorad', 'claudia82515306', 'YourNewVision', 'APakkert', 'marneefels1', 'jobxs', 'HyphenNL', 'zelfregiewerkt', 'NAB_WerkOntslag', 'snpi_nl', 'StadsDenker', 'TinekeDruijf', 'SaschaBrasp', 'kerstzw', 'DirkGoossens', 'MarionGdeBoer', 'careercontrol', 'fullboxtech', 'loopbaangeluk', 'ZZPHaaglanden', 'Teamphoria', 'annemiekpas', 'verzuimconsult', 'SWITCHLoopbaan', 'violamajoie', '0231993n', 'de_Werkbank', 'Beweegopjewerk', 'Effectyf', 'HermanBakhuisen', 'Dieuwertje_RvD', 'CynthiaTaxx', 'ruizceder', 'mariekevennik', 'Stir_keurmerk', 'BrigitteEek', 'Estar4ever', 'hospitality_new'] \n",
      "\n",
      "2021-05-28 00:44:48 [INFO] NetMap-Log -  Page: 1\n",
      "2021-05-28 00:44:48 [INFO] NetMap-Log -  Collected: ['hansc45', 'helmaburg', 'igrowstaff', 'YMEProjects', 'Robinso80636422', 'nickdurand82', 'CMJGerritsen', 'WerkenVrElkaar', 'Miek71665820', 'CommuniCadans', 'LeadersServant', 'MGiesenBS', 'wirin_jewlal', 'petraboerZ', 'MartiniqueVisse', 'dickenkit', 'BanenGemeente', '50pluscarriere', 'Verywimp', 'ClubVanExperts', 'LVSCeu', 'lovesuriname2', 'AnstenHoope', 'JaapvanRingen', 'xiel_nl', 'GoudriaanPeter', 'UNLEASHgroup', 'serenegroup', 'paglkgg', 'cartouligans', 'Starcheck_BV', 'MaatschapWij', 'femke_steijlen', 'PK_Recruitment', 'NlPrimus', 'dit_WERKt', 'dONUS_Bonus', 'MfgSchilperoord', 'In2Talent', 'andregussekloo', 'DagvandeCoach', 'Laura_Flexian', 'in2talentscm', 'brnoutnederland', 'SparkYPotential', 'BizRetreats', 'HRzoneNL', 'YouJane1', 'RicohNL', 'daan_buijs', 'TechSmartFuture', 'platformOenO', 'SaleminkMedia', 'Jurre2005', 'SparkWiseNL', 'Fallenstein_E_S', 'aleidvdv', 'Baldy1972', 'onlineyou', 'Alterim033', 'Personeelsadmin', 'Mindtimeshare', 'VITmkb', 'SMKrassenburg', 'balance_hr', 'LisetteLigthart', 'Nanettetenhoor', 'WilcovanEtten', 'RenateBreunesse', 'OYA_training', '4CMediation', 'TillemanFilip', 'onderneemklndr', 'maaikenillesen', 'davidhain', 'polman_pablo', 'bepdevries_nl', 'EvelynCroonen', 'AnitaLacroix', '79Maris', 'RAJENDRANHR', 'syl_timmermans', 'CompleetHosting', 'TCG_groep', 'PieterdeLeth', 'sjaak5920', 'jantroost1972', 'ThisHelenNelson', 'shantiebaboelal', 'Conflictwerk', '4LikesNL', 'RobBoeyink', 'Deshaye42172434', 'loonbeslaghulp', 'roomkus', 'CiskaGento', 'Goedkoop__', 'surveyguy2', 'vdlaanisolatie', 'SiemonvD', 'BOOZZTinc', 'AutoVossestein', 'ZPnederland', 'tiemesadvies', 'DurkvanderMeer', 'RosariovdZon', 'gunbatimig', 'LoesWolfs', 'HanniedeHaan2', 'EnjoyYourFlow', 'hetisgeregeld', 'ProfABBakker', 'AstridvanWanum', 'PascalleLi', 'KvBrummelen', 'zzpopstart', 'jobbirdjobs', 'MelYon_MI', 'marlblok', 'justynazione', 'steunpuntzzp', 'BedrijfsadresNL', 'AcquisitieWork', 'EmployabilityTt', 'MarliekeM', 'twan_haan', 'clowntje007', 'Noel_jaden2003', 'JaleesaRothof', 'ChirinoSuenn', 'owaisspijkeniss', 'AmberMuyres1', 'HannekeLewin', 'brownielovess', 'AnneMarieSmelt', 'LeoLilek61', 'mlaonda', 'Arbeidsmarkt_TV', 'SwipeMatchAppli', 'firesupportras', 'Startkracht_ED', 'Lbarchitectuur', 'Robzwart63', 'pprzybylski_', 'WilmaLeatemia', 'JeanetteRozema', 'Visje185', 'dongen_harry', 'Emmalaan37', 'VincentS84', 'parie142', 'Edubookers_com', 'kernzaken', 'lucvanbussel', 'riannebosecke', 'RuurdtjedeBoer', 'pompgebouw', 'TEAM3punt0', 'DeLissenberg', 'EllenvanHierden', 'jamesloopbaan', 'RuudInt', 'SherienvdM', 'Kimberley_Naw', 'hasjk50', 'Merel_bespaart', 'danielguichelaa', 'Ghirmay13', 'helen_schrooten', 'vanderborgcoach', '500europerdag', 'ProEmailSales', 'mharens', 'kohenderiks', 'PraktijklerenNL', 'StudentenraadZO', 'AqwantaHRM', 'kossen_jan', 'werkmettalentNL', 'pure_tr', 'HayatAfkyr', 'GertJan99', 'droppie_56', 'LearningHeroes_', 'caoloon_com', 'CarolinekrulRL', 'sannylangel', 'AmyEl6', 'DijkslagM', 'HayHilkensCOACH', 'awesomesaucemkt', 'amanizorg', 'EllyEldovi', 'kb410h', 'Belderok75', 'periklesvisie', 'UZnetwerkcafe', 'VacaturesBreda', 'maarweloveral', 'SimoneAntoons'] \n",
      "\n",
      "2021-05-28 00:44:51 [INFO] NetMap-Log -  Page: 2\n",
      "2021-05-28 00:44:51 [INFO] NetMap-Log -  Collected: ['HermenUD', 'AndrewS91970180', 'TeunCoppens1989', 'talentdag', 'PlacesByFaces', '64Hermadijkstra', 'plezierwerkt', 'ChennaiSajjad', 'marlenelangbroe', 'BokhorstKarin', 'FalconEditing', 'LauraCortenbach', 'DeMensWerkt', 'Jebussenius', 'VacaturesGroni1', 'aardoomendejong', 'doriene_rensen', 'parleybv', 'Verzuimteam', 'TessNL', 'joke_care', 'EgbertdeHoop48', 'BUFully2016', 'newslocker_ict', 'basbeeld', 'mkb_it_support', 'brokelivinindxb', 'boer_rood', 'belindaikink', 'HRintegriteit', 'ThomasVencken', 'hertogfjm', 'EXCELLENCESecur', 'financeallworld', 'Deukspot', 'KilicAdvocatuur', 'SamuelInsane', 'jnshop', 'HKtwittaccount', 'ViaTrias', '50plusadwork', 'Monique_vRossum', 'ascotadvies', 'Marleenj', 'hostelconcepts', 'evaklat', 'HarverHRM', 'NicoleNijsen', 'IntermediairCZ', 'Reginazoektwerk', 'yahya13255029', 'MargretNoorman', 'loopbaan_in', 'EssebesWerkt', 'Enniroc65', 'Vianos', 'Fenn67', 'sharon_baldew', 'kadenderben1', 'NataschavNoord', 'VinnaNL', 'ahdebus', 'cmaasland', 'RichardMeulenk2', 'mirandadomburg', 'mlmullenders', 'carlitosvidales', 'VAbanenDeventer', 'andrewmbeh', 'houtendiershop', 'ElineMattheij', 'lmcvanderzande', 'MarthaJonge', 'NancyDeMuylder', 'sjroozen', 'RolandSturkenbo', 'odetteblok', 'xmikkie', 'kwielaardham', 'Daniellekleuver', 'Bespaarhypothk', 'KarelWijne1', 'tadooNL', 'JCamfferman', 'jannekevdloo', 'paratodus', 'Brockmeyer_nl', 'DionSchuller', 'gezondbelast', 'Ajax_primeur', '109arie', 'GeovanDam', 'ECAs_E_Commerce', 'PeterAVerboom', 'BureauHappiness', 'TruQuNL', 'FransHunerbein', 'JabaTalksEU', 'Marcelbogaart', 'CTACNV', 'Mobbingnl', 'HBiesmans', 'GJvanBodegraven', 'erikburema', 'beekhansvan', 'SterkWerkGroep', 'FietsrouteN', 'fysiovandermeij', 'InterFitNL', 'tonydebree', 'OlympiaDenBosch', 'NoordWest5', 'MijnBA', 'Gahenees', 'MirandaBusscher', 'FerryStroet', 'thk26470', 'TalenNL', 'bizzbalance', 'MarcLinsen1', 'OliviaMaengkom', 'getBIZZI_NL', 'corseijkens', 'radiantwellnet', 'InsideOutBrand', 'ChristLenny', 'talentwint', 'AlfredSahas', 'PieterCoumans', 'GordonOrta', 'BladZeide', 'CoachRoos', 'GezondVeluwe', 'TalentBenutten', 'marcel19655', 'Nieuwjduik2017', 'paul102876', 'TheGreenQuest', 'petrafokkens', 'Logo4all_nl', 'andysoewandi', 'borrellisse', 'MiddinOnline', 'AlainWozniak', 'henk_ras', 'UlusGokhan', 'Macht_eld', 'atlas2018org', 'BigaGroep', 'MartindeWerker', 'RijpMarketing', 'NicoletteKeuze1', 'bureaunr10', 'zozitt_nl', 'JohannaSinnema', 'andrea_otten5', 'duivje', 'davebruijn', 'IP_ITtrainingen', 'Werken_en_Jij', 'vkl020', 'HansNaderman', 'Torteltuin036', 'GertvanAssen', 'Annevandermeij', 'MindtimeBackup', 'buurman', 'Hatice_Turkmen', 'Somconsult', 'l2miyabi', 'jwconsultancy', 'MarjankaHouben', 'printgoedkoop', 'Conclusr_ICT', 'LeuvenActueel', 'JoyceKolk', 'richardtkiewiet', 'eltjedoddema', 'ronrikei', 'kanjijvoormij', 'Lucas_Schipper', 'raceplace100', 'NS_PerfectCare', 'StichtingPrisma', '1mel30', 'PauzeMediation', 'Niels_Padding', 'lanepark_tax', 'TMothi', 'C3werkt', 'Sandra_Fianke', 'olvg', 'InstaBoostNL', 'OBSDeBever', 'Levensreddend', 'tinabrandon6', 'gorissen_wilma', 'EddyReade', 'socialcrowdnl', 'firmazorgbehang'] \n",
      "\n",
      "2021-05-28 00:44:52 [INFO] NetMap-Log -  Page: 3\n",
      "2021-05-28 00:44:52 [INFO] NetMap-Log -  Collected: ['MarleenEndeveld', 'facetofacecoach', 'perryvanbeek', 'opweg', 'milnic285', 'hakim_hoseini', 'GreetCazemier', 'QOH_RESEARCH', 'HetFrieseHaagje', 'UwJuristnl', 'mariazanders19', 'start2succes', 'TLZ070', 'HRKompany', 'Choizzes_NL', 'HouseofLeisure_', 'AvniTurgut_', 'anoukeilander', 'JoyceKuijpers75', 'benfreriksen', 'werkzoekende70', 'Typischtyp', 'egonvanwees', 'WerkXYZ2', 'Loopbaan_coach', 'MeisMerle', 'dmeerval15', 'GeWoMaBa', 'AvanceBreda', 'DennisBoutkan', 'travel131', 'AnjaHilgers', 'erwinvdzwaag', 'SarahVstk', 'PRSchoolfeest', 'vacaturenieuws', 'ICTbanenbank', 'marrierietveld', 'Sjoerdhania', 'AGrebler', 'm_dekruijf', 'jouwstap', 'TheaBrinkhuis', 'Niekbarendregt', 'Actric_ICT', 'WerkVinden', 'werkzevandaag', 'HRNavigatorBV', 'Chantal_Valk', 'cvdburgt', 'SimoneBeerthuis', 'DanielleElenga', 'LievenJacobs', 'FamousMoment', 'EstherinFlex', 'MiekeBauduin', 'Simpelengoed', 'WorkFastBV', 'marleenbuijsman', 'RkKoerts', 'LeoSchrijft', 'WerkenbijMMC', 'carla_devries', 'CarterPetrieBV', 'onsbedrijf', 'dblejie', 'Jouw_Beste_Ik', 'Bekensteyn', 'BINoptie', 'BW7juristen', 'DEMOHR1', 'WNKPersoneel', 'GertBouter', 'TimingOvertoom', 'IrishdeVeer', 'Peet1974', 'rsvangarderen', 'BlondekaatjeD', 'ValentineZ_', 'quartier_angele', 'LopendeZaken15', 'GGZ__Nieuws', 'Hanneke62542502', 'scriptplus', 'NaomiWerktNet', 'wimvwanrooij', 'SjoerddeBoerHRM', 'KosOdin', 'BZIENGS', 'JeannetteKolk', 'robertkientz65', 'HaLeukWerk', 'MarioSpoor', 'MontapackingNL', 'Rataplantweet', 'MaasSusanne', 'FlexResearch', 'Vaardig_Werk', 'ha_marjolein', 'HRMaltenburg', 'theoklungers', 'MarjaGreve', 'leobonefaas', 'MvanRijsingen', 'janveldik', 'Hansschil', 'KD_Partners', 'DieterKlobedanz', 'hetbeleenhuis', 'froe_de', 'GoudjeH', 'SabineHulshorst', 'NAHcoach', 'natacha_pinas', 'MonicaSalm', 'devrijheidsboom', 'IvonnevdHoek', 'YvettevdL79', 'veerlevanloon', 'Alex9801', 'FianneStroeken', 'nv_specialist', 'claimjesucces', 'Raghnie97', 'wiekievisscher', 'GetSeenBeHeard', 'GerrievanWely', 'lievenverstraet', 'markvanzijp', 'aneliesonline', 'Rene_Ekker', 'tenholteri', 'JoseWelink', 'Leagiba', 'annetgrethe67', 'VanessaGroot', 'DeBewusteWeg', 'daywize', 'mairiemersma', 'MarcKeur', 'nlkb_nl', 'EvaBeeftink', 'Luc_Willems', 'Onlinegeld2014', 'VoogelJanine', 'TQMkring', 'Bernicebos', 'MarjoleinLdG', 'susannekoenders', 'VD_Management', 'rondomdenken', 'gaby407', 'FrankTomassen', 'marietteamsing', 'kestrel1177', 'USPLeppers', 'TLTMediation', 'MiszzK', 'BertensRen', 'Maartje_Kroon', 'mnavandenbroek', 'LauraVijverberg', 'nirajpurkuti1', 'LAHavermans', 'CeesHoogendijk', 'PetravanGentHRM', 'kurtulusnl', 'Karen_Hofstede', 'MarcoHendrikse', 'IreneNuver', 'verhagen', 'bramwerkt', 'UrsulaBrinkmann', 'NormaVoos', 'FrederikeMewe', 'hansklink', 'MyHealthyWork', 'FransvanDommele', 'Brendaschuller', 'Qlogic_NL', 'mahaliapeters', 'huubpennock', 'EQIB', 'All4jobsAnnette', 'EmileWieman', 'KralingenOffice', 'MoVDHR', 'janbommerez', 'moniquevdmark', 'sonjavanbeveren', 'WerktZo', 'MiloStokman', 'MenZenWet', 'kop_paul', 'PartijenSteltse', 'Interselektie', 'claassenbart', 'eeshuis', 'jobvizier', 'Eseblondelle'] \n",
      "\n",
      "2021-05-28 00:44:54 [INFO] NetMap-Log -  Page: 4\n",
      "2021-05-28 00:44:54 [INFO] NetMap-Log -  Collected: ['Upgres', 'DeSociale', 'JolandaHenge', 'WerkXYZ', 'vscharenborg', 'Manuela9to5', 'MarionHijmensen', 'Creatiefnr1', 'robvianen', 'AnnemiekeK_', 'JablotchkoffK', 'novahrsolutions', 'TonOerlemans', 'albert_los', 'esnijder', 'Events_NL', 'Moniekkleinsman', 'WouterLimmen', 'Gmheuvel', 'johandevassy', 'WerkpsychNL', 'Yoga033', 'guusjesnip', 'Daphaer', 'JanSchuurman', 'JSmolders', 'RockYourB', 'DeZZPayer', 'JoyceKnibbeler', 'rooshijner', 'romao_torres', 'managementfun', 'ByeByeBurnout', 'DaringNans', 'eva_pas', 'Prokkel', 'CarolineemelyAA', 'MAMArotterdam', 'speeldernis', 'WerkXYZvacature', 'quizvraag', 'IrmaHassing', 'NaDeAMA', 'Mandyke13', 'ocpvacatures', 'Passieterie_', 'jeannettekl', 'noeliaromero', 'gideondehaan', 'RvdbHR', 'jurgengudde', 'AlertVerzuim', 'znwv', 'EerlijkeFlex', 'Cored62', 'boekenbrouwerij', 'digivisie', 'ArboGooi', 'RalphHackmann', 'JoostDusseljee', 'PeterVos_', 'WerkKompasNu', 'ArboDrenthe', 'moutainbike', 'WerkXYZHRM', 'WerkXYZHR', 'WerkXYZbanen', 'HRMensen', 'project014', 'marijkevbeurden', 'martinjmelinga', 'depeperbus', 'ErikaLunsche', 'Taxiwerq', 'JBVr', 'intoeu', 'signofficeNL', 'OMNIVENTS', 'TradeQoin', 'brouwer72', 'ZG_Apeldoorn', 'StichtingGTS', 'siimonee90', 'ghjwaanders', 'CIOSHvnLwdn', 'CO3Logie', 'DeGineke', 'JobcoachO', 'workbooster', 'GonniedeLeeuw', 'BosWim', 'overheidbericht', 'WelkomophetWerk', 'Eigenzinnig1984', 'BoxHopesDreams', 'LangMerel', 'ZandloperCambio', 'AuthenticEva', 'DuurzaamEnergie', 'SocBrander', 'wiakompas', 'JeroenRegtop', 'eMPower_nu', 'AngeliquePos', 'tamaratielen', 'remkoschotsman', 'MatzCarwash', 'Business_Open', 'StefanKrijnen', 'MoooiiisteFFP', 'mooiwerkmakers', 'alexandrarietbe', 'IILGDAILYY', 'Miriamvane', 'EttinaWalsma', 'lizmeij', 'HenkHospes', 'LvLieshout1', 'm_dijkhuizen', 'JosDusseldorp', 'dorinevanbree', 'Vterwal', 'Zegtekst', 'RichardBonthui1', 'LouisePuur', 'road2energy', 'reginastreekst1', 'JamieNederpel', 'ClayBurnettGrp', 'AkdenizNL', 'NOADIN_NL', 'KirstenGodding', 'gelukkige_juf', 'SectorZorg', 'AutismeNVA', 'Rikkie66', 'YvonneEikens', 'FelixHoek', 'JanDoosje', 'TonVermin', 'AlieRegts', 'GroepZwolleVGNL', 'tavernecoaching', 'JosvanDrogen', 'Selmersbv', 'meronefxp3489', '_hetismij_', 'RobFiege', 'robertoord', 'OfficeStarsNL', 'murfje', 'PeterSteenkamer', 'NegentigTien', 'RoyTheusink', 'SherandelRosa', 'zzpboekhouder', 'phhacademie', 'petergelens', 'AdFontesTwente', 'PHOCUS360_NL', 'CVWorksnl', 'MariekeLangenbe', 'rg_rudolph', 'dokumentncrv', 'SilBlankestijn', 'moreballstm', 'natuurlijkvenlo', 'ePortfolioNL', 'NicoPraat', 'TalentCompaz', 'ICM', 'Hak19', 'MNiepoth', 'AdeccoWS', 'AndreElbertsen', 'socialmedia4tra', 'GvMWerkt', 'SchoolvCoaching', 'pieterpeelen', 'LauraBisschop', 'leongrim1', 'EWBPSchoenmaker', '_DOEN', 'gerdaroos1', 'BlueMoon_SA', 'HRSuccessGuide', 'E_vanAkkeren', 'ojee1965', 'ToegepastPsy', 'geldzorgnet', 'DanConsu', 'EvLieshout62', 'rksvGroeneSter', 'kjuog', 'Jindra68', 'SamenNaar', 'MarielleSlager', 'FeliciaVos', 'Jolannie31', 'Nancymdevries'] \n",
      "\n",
      "2021-05-28 00:44:54 [INFO] NetMap-Log -  Page: 0\n",
      "2021-05-28 00:44:54 [INFO] NetMap-Log -  Collected: ['rahulku90465921'] \n",
      "\n",
      "\"['_api' '_json'] not found in axis\" | []\n",
      "2021-05-28 00:57:11 [INFO] NetMap-Log -  Page: 0\n",
      "2021-05-28 00:57:11 [INFO] NetMap-Log -  Collected: ['RaelynnKahani'] \n",
      "\n",
      "\"['_api' '_json'] not found in axis\" | []\n",
      "\"['_api' '_json'] not found in axis\" | []\n",
      "2021-05-28 00:57:12 [INFO] NetMap-Log -  Page: 0\n",
      "2021-05-28 00:57:12 [INFO] NetMap-Log -  Collected: ['vivobum', 'hannahrjahnke', 'ChrisANeilson', 'hoeprich', 'McCombster', 'jiatechnologies', 'FeltonInstitute', 'SF_DPH', 'anthony36754096', 'CoreyHusak', 'iVantageHealth', 'Garrett78563843', 'GodsXon', 'yalmoz', 'LowerPolkCBD', 'theleonori', 'LowerPolkTLC', 'Kerryk9', 'jorgegh28', 'FixItTeamSF', 'becmayers', 'Jay_Nath', 'willbarkis', 'whenjenn', 'TyroneJue', 'AshleyFetters', 'SFMOCI', 'mrsiltanen', 'kristallakis', 'TSIConsulting', 'JessicasRoots', 'ekourakos'] \n",
      "\n",
      "2021-05-28 00:57:12 [INFO] NetMap-Log -  Page: 0\n",
      "2021-05-28 00:57:12 [INFO] NetMap-Log -  Collected: ['GardenerAllyssa'] \n",
      "\n",
      "2021-05-28 00:57:13 [INFO] NetMap-Log -  Page: 0\n",
      "2021-05-28 00:57:13 [INFO] NetMap-Log -  Collected: ['BanzoWolrd'] \n",
      "\n"
     ]
    }
   ],
   "source": [
    "follower_frames = []\n",
    "\n",
    "for follower in selected_followers:\n",
    "\n",
    "    F = client.get_user_followers(username=follower, records=5)\n",
    "    try:\n",
    "        df = client.build_dataframe(username=follower, data=F, save=False)\n",
    "    except Exception as e:\n",
    "        print(f\"{e} | {F}\")\n",
    "\n",
    "    follower_frames.append(df)\n",
    "\n",
    "concated_frames = pd.concat(follower_frames)"
   ]
  },
  {
   "cell_type": "code",
   "execution_count": 38,
   "metadata": {},
   "outputs": [
    {
     "output_type": "execute_result",
     "data": {
      "text/plain": [
       "['CurriculumRcrds',\n",
       " 'Daniela83273972',\n",
       " 'MaddyHinkamp',\n",
       " 'William685',\n",
       " 'enadegheconsta1',\n",
       " 'idPlein',\n",
       " 'jaydipdey3']"
      ]
     },
     "metadata": {},
     "execution_count": 38
    }
   ],
   "source": [
    "sorted(list(set(concated_frames['USER'])))"
   ]
  },
  {
   "cell_type": "code",
   "execution_count": 40,
   "metadata": {},
   "outputs": [
    {
     "output_type": "execute_result",
     "data": {
      "text/plain": [
       "['CurriculumRcrds',\n",
       " 'Daniela83273972',\n",
       " 'MaddyHinkamp',\n",
       " 'William685',\n",
       " 'XxsCedar',\n",
       " 'Yoki58041574',\n",
       " 'enadegheconsta1',\n",
       " 'idPlein',\n",
       " 'jaydipdey3',\n",
       " 'sunaihua609']"
      ]
     },
     "metadata": {},
     "execution_count": 40
    }
   ],
   "source": [
    "sorted(selected_followers)"
   ]
  },
  {
   "cell_type": "code",
   "execution_count": 41,
   "metadata": {},
   "outputs": [
    {
     "output_type": "execute_result",
     "data": {
      "text/plain": [
       "                     id               id_str  \\\n",
       "0   1392511353122746381  1392511353122746381   \n",
       "1   1393354189070209025  1393354189070209025   \n",
       "2             193649970            193649970   \n",
       "0   1378846038371471365  1378846038371471365   \n",
       "1             778179019            778179019   \n",
       "..                  ...                  ...   \n",
       "29            603862550            603862550   \n",
       "30           3233015960           3233015960   \n",
       "31            284379780            284379780   \n",
       "0   1398035547399012360  1398035547399012360   \n",
       "0   1363755318392610818  1363755318392610818   \n",
       "\n",
       "                                name      screen_name        location  \\\n",
       "0                               Hope        Hope22299                   \n",
       "1                             Nginbo         nginbo68                   \n",
       "2                          TV Movies      TV___Movies                   \n",
       "0                        videoCVshop      videoCVshop                   \n",
       "1                   Brigitte Rommers      CelineGeers                   \n",
       "..                               ...              ...             ...   \n",
       "29  TSI-Transforming Solutions, Inc.    TSIConsulting     Chicago, IL   \n",
       "30                   Jessica's Roots    JessicasRoots                   \n",
       "31                    Ellen Kourakos        ekourakos    New York, NY   \n",
       "0                   Allyssa Gardener  GardenerAllyssa                   \n",
       "0                       Wolrd Richie       BanzoWolrd  Delta, Nigeria   \n",
       "\n",
       "                                          description  \\\n",
       "0                                                       \n",
       "1                                     Lazy crazy baby   \n",
       "2   Carrie-Anne Moss OFFICIAL: https://t.co/A8Lp4d...   \n",
       "0   Maak een videoCV en pitch jezelf!\\nVal op tuss...   \n",
       "1                                                       \n",
       "..                                                ...   \n",
       "29  A leading consulting firm helping our corporat...   \n",
       "30                                                      \n",
       "31  Product Manager // @northwesternu alum // #hea...   \n",
       "0   it takes enough trust and love ♥️to win my hea...   \n",
       "0                                           DELTA BOY   \n",
       "\n",
       "                        url  \\\n",
       "0                      None   \n",
       "1                      None   \n",
       "2                      None   \n",
       "0   https://t.co/baI8VxjXzs   \n",
       "1                      None   \n",
       "..                      ...   \n",
       "29   http://t.co/mc6hLKPMCp   \n",
       "30                     None   \n",
       "31  https://t.co/gc8sfm4fj8   \n",
       "0                      None   \n",
       "0                      None   \n",
       "\n",
       "                                             entities  protected  \\\n",
       "0                       {'description': {'urls': []}}      False   \n",
       "1                       {'description': {'urls': []}}      False   \n",
       "2   {'description': {'urls': [{'url': 'https://t.c...      False   \n",
       "0   {'url': {'urls': [{'url': 'https://t.co/baI8Vx...      False   \n",
       "1                       {'description': {'urls': []}}       True   \n",
       "..                                                ...        ...   \n",
       "29  {'url': {'urls': [{'url': 'http://t.co/mc6hLKP...      False   \n",
       "30                      {'description': {'urls': []}}      False   \n",
       "31  {'url': {'urls': [{'url': 'https://t.co/gc8sfm...      False   \n",
       "0                       {'description': {'urls': []}}      False   \n",
       "0                       {'description': {'urls': []}}      False   \n",
       "\n",
       "    followers_count  ...  follow_request_sent  notifications muting  blocking  \\\n",
       "0               176  ...                False          False  False     False   \n",
       "1                46  ...                False          False  False     False   \n",
       "2              3925  ...                False          False  False     False   \n",
       "0                19  ...                False          False  False     False   \n",
       "1                22  ...                False          False  False     False   \n",
       "..              ...  ...                  ...            ...    ...       ...   \n",
       "29              257  ...                False          False  False     False   \n",
       "30               11  ...                False          False  False     False   \n",
       "31              300  ...                False          False  False     False   \n",
       "0                 2  ...                False          False  False     False   \n",
       "0                22  ...                False          False  False     False   \n",
       "\n",
       "   blocked_by translator_type  withheld_in_countries             USER  \\\n",
       "0       False            none                     []  CurriculumRcrds   \n",
       "1       False            none                     []  CurriculumRcrds   \n",
       "2       False            none                     []  CurriculumRcrds   \n",
       "0       False            none                     []          idPlein   \n",
       "1       False            none                     []          idPlein   \n",
       "..        ...             ...                    ...              ...   \n",
       "29      False            none                     []     MaddyHinkamp   \n",
       "30      False            none                     []     MaddyHinkamp   \n",
       "31      False            none                     []     MaddyHinkamp   \n",
       "0       False            none                     []       William685   \n",
       "0       False            none                     []  enadegheconsta1   \n",
       "\n",
       "                                               status  \\\n",
       "0                                                 NaN   \n",
       "1   Status(_api=<tweepy.api.API object at 0x7fa748...   \n",
       "2   Status(_api=<tweepy.api.API object at 0x7fa748...   \n",
       "0   Status(_api=<tweepy.api.API object at 0x7fa748...   \n",
       "1                                                 NaN   \n",
       "..                                                ...   \n",
       "29  Status(_api=<tweepy.api.API object at 0x7fa748...   \n",
       "30                                                NaN   \n",
       "31  Status(_api=<tweepy.api.API object at 0x7fa748...   \n",
       "0   Status(_api=<tweepy.api.API object at 0x7fa748...   \n",
       "0   Status(_api=<tweepy.api.API object at 0x7fa748...   \n",
       "\n",
       "                                   profile_banner_url  \n",
       "0                                                 NaN  \n",
       "1   https://pbs.twimg.com/profile_banners/13933541...  \n",
       "2                                                 NaN  \n",
       "0   https://pbs.twimg.com/profile_banners/13788460...  \n",
       "1                                                 NaN  \n",
       "..                                                ...  \n",
       "29  https://pbs.twimg.com/profile_banners/60386255...  \n",
       "30  https://pbs.twimg.com/profile_banners/32330159...  \n",
       "31  https://pbs.twimg.com/profile_banners/28437978...  \n",
       "0                                                 NaN  \n",
       "0   https://pbs.twimg.com/profile_banners/13637553...  \n",
       "\n",
       "[1042 rows x 49 columns]"
      ],
      "text/html": "<div>\n<style scoped>\n    .dataframe tbody tr th:only-of-type {\n        vertical-align: middle;\n    }\n\n    .dataframe tbody tr th {\n        vertical-align: top;\n    }\n\n    .dataframe thead th {\n        text-align: right;\n    }\n</style>\n<table border=\"1\" class=\"dataframe\">\n  <thead>\n    <tr style=\"text-align: right;\">\n      <th></th>\n      <th>id</th>\n      <th>id_str</th>\n      <th>name</th>\n      <th>screen_name</th>\n      <th>location</th>\n      <th>description</th>\n      <th>url</th>\n      <th>entities</th>\n      <th>protected</th>\n      <th>followers_count</th>\n      <th>...</th>\n      <th>follow_request_sent</th>\n      <th>notifications</th>\n      <th>muting</th>\n      <th>blocking</th>\n      <th>blocked_by</th>\n      <th>translator_type</th>\n      <th>withheld_in_countries</th>\n      <th>USER</th>\n      <th>status</th>\n      <th>profile_banner_url</th>\n    </tr>\n  </thead>\n  <tbody>\n    <tr>\n      <th>0</th>\n      <td>1392511353122746381</td>\n      <td>1392511353122746381</td>\n      <td>Hope</td>\n      <td>Hope22299</td>\n      <td></td>\n      <td></td>\n      <td>None</td>\n      <td>{'description': {'urls': []}}</td>\n      <td>False</td>\n      <td>176</td>\n      <td>...</td>\n      <td>False</td>\n      <td>False</td>\n      <td>False</td>\n      <td>False</td>\n      <td>False</td>\n      <td>none</td>\n      <td>[]</td>\n      <td>CurriculumRcrds</td>\n      <td>NaN</td>\n      <td>NaN</td>\n    </tr>\n    <tr>\n      <th>1</th>\n      <td>1393354189070209025</td>\n      <td>1393354189070209025</td>\n      <td>Nginbo</td>\n      <td>nginbo68</td>\n      <td></td>\n      <td>Lazy crazy baby</td>\n      <td>None</td>\n      <td>{'description': {'urls': []}}</td>\n      <td>False</td>\n      <td>46</td>\n      <td>...</td>\n      <td>False</td>\n      <td>False</td>\n      <td>False</td>\n      <td>False</td>\n      <td>False</td>\n      <td>none</td>\n      <td>[]</td>\n      <td>CurriculumRcrds</td>\n      <td>Status(_api=&lt;tweepy.api.API object at 0x7fa748...</td>\n      <td>https://pbs.twimg.com/profile_banners/13933541...</td>\n    </tr>\n    <tr>\n      <th>2</th>\n      <td>193649970</td>\n      <td>193649970</td>\n      <td>TV Movies</td>\n      <td>TV___Movies</td>\n      <td></td>\n      <td>Carrie-Anne Moss OFFICIAL: https://t.co/A8Lp4d...</td>\n      <td>None</td>\n      <td>{'description': {'urls': [{'url': 'https://t.c...</td>\n      <td>False</td>\n      <td>3925</td>\n      <td>...</td>\n      <td>False</td>\n      <td>False</td>\n      <td>False</td>\n      <td>False</td>\n      <td>False</td>\n      <td>none</td>\n      <td>[]</td>\n      <td>CurriculumRcrds</td>\n      <td>Status(_api=&lt;tweepy.api.API object at 0x7fa748...</td>\n      <td>NaN</td>\n    </tr>\n    <tr>\n      <th>0</th>\n      <td>1378846038371471365</td>\n      <td>1378846038371471365</td>\n      <td>videoCVshop</td>\n      <td>videoCVshop</td>\n      <td></td>\n      <td>Maak een videoCV en pitch jezelf!\\nVal op tuss...</td>\n      <td>https://t.co/baI8VxjXzs</td>\n      <td>{'url': {'urls': [{'url': 'https://t.co/baI8Vx...</td>\n      <td>False</td>\n      <td>19</td>\n      <td>...</td>\n      <td>False</td>\n      <td>False</td>\n      <td>False</td>\n      <td>False</td>\n      <td>False</td>\n      <td>none</td>\n      <td>[]</td>\n      <td>idPlein</td>\n      <td>Status(_api=&lt;tweepy.api.API object at 0x7fa748...</td>\n      <td>https://pbs.twimg.com/profile_banners/13788460...</td>\n    </tr>\n    <tr>\n      <th>1</th>\n      <td>778179019</td>\n      <td>778179019</td>\n      <td>Brigitte Rommers</td>\n      <td>CelineGeers</td>\n      <td></td>\n      <td></td>\n      <td>None</td>\n      <td>{'description': {'urls': []}}</td>\n      <td>True</td>\n      <td>22</td>\n      <td>...</td>\n      <td>False</td>\n      <td>False</td>\n      <td>False</td>\n      <td>False</td>\n      <td>False</td>\n      <td>none</td>\n      <td>[]</td>\n      <td>idPlein</td>\n      <td>NaN</td>\n      <td>NaN</td>\n    </tr>\n    <tr>\n      <th>...</th>\n      <td>...</td>\n      <td>...</td>\n      <td>...</td>\n      <td>...</td>\n      <td>...</td>\n      <td>...</td>\n      <td>...</td>\n      <td>...</td>\n      <td>...</td>\n      <td>...</td>\n      <td>...</td>\n      <td>...</td>\n      <td>...</td>\n      <td>...</td>\n      <td>...</td>\n      <td>...</td>\n      <td>...</td>\n      <td>...</td>\n      <td>...</td>\n      <td>...</td>\n      <td>...</td>\n    </tr>\n    <tr>\n      <th>29</th>\n      <td>603862550</td>\n      <td>603862550</td>\n      <td>TSI-Transforming Solutions, Inc.</td>\n      <td>TSIConsulting</td>\n      <td>Chicago, IL</td>\n      <td>A leading consulting firm helping our corporat...</td>\n      <td>http://t.co/mc6hLKPMCp</td>\n      <td>{'url': {'urls': [{'url': 'http://t.co/mc6hLKP...</td>\n      <td>False</td>\n      <td>257</td>\n      <td>...</td>\n      <td>False</td>\n      <td>False</td>\n      <td>False</td>\n      <td>False</td>\n      <td>False</td>\n      <td>none</td>\n      <td>[]</td>\n      <td>MaddyHinkamp</td>\n      <td>Status(_api=&lt;tweepy.api.API object at 0x7fa748...</td>\n      <td>https://pbs.twimg.com/profile_banners/60386255...</td>\n    </tr>\n    <tr>\n      <th>30</th>\n      <td>3233015960</td>\n      <td>3233015960</td>\n      <td>Jessica's Roots</td>\n      <td>JessicasRoots</td>\n      <td></td>\n      <td></td>\n      <td>None</td>\n      <td>{'description': {'urls': []}}</td>\n      <td>False</td>\n      <td>11</td>\n      <td>...</td>\n      <td>False</td>\n      <td>False</td>\n      <td>False</td>\n      <td>False</td>\n      <td>False</td>\n      <td>none</td>\n      <td>[]</td>\n      <td>MaddyHinkamp</td>\n      <td>NaN</td>\n      <td>https://pbs.twimg.com/profile_banners/32330159...</td>\n    </tr>\n    <tr>\n      <th>31</th>\n      <td>284379780</td>\n      <td>284379780</td>\n      <td>Ellen Kourakos</td>\n      <td>ekourakos</td>\n      <td>New York, NY</td>\n      <td>Product Manager // @northwesternu alum // #hea...</td>\n      <td>https://t.co/gc8sfm4fj8</td>\n      <td>{'url': {'urls': [{'url': 'https://t.co/gc8sfm...</td>\n      <td>False</td>\n      <td>300</td>\n      <td>...</td>\n      <td>False</td>\n      <td>False</td>\n      <td>False</td>\n      <td>False</td>\n      <td>False</td>\n      <td>none</td>\n      <td>[]</td>\n      <td>MaddyHinkamp</td>\n      <td>Status(_api=&lt;tweepy.api.API object at 0x7fa748...</td>\n      <td>https://pbs.twimg.com/profile_banners/28437978...</td>\n    </tr>\n    <tr>\n      <th>0</th>\n      <td>1398035547399012360</td>\n      <td>1398035547399012360</td>\n      <td>Allyssa Gardener</td>\n      <td>GardenerAllyssa</td>\n      <td></td>\n      <td>it takes enough trust and love ♥️to win my hea...</td>\n      <td>None</td>\n      <td>{'description': {'urls': []}}</td>\n      <td>False</td>\n      <td>2</td>\n      <td>...</td>\n      <td>False</td>\n      <td>False</td>\n      <td>False</td>\n      <td>False</td>\n      <td>False</td>\n      <td>none</td>\n      <td>[]</td>\n      <td>William685</td>\n      <td>Status(_api=&lt;tweepy.api.API object at 0x7fa748...</td>\n      <td>NaN</td>\n    </tr>\n    <tr>\n      <th>0</th>\n      <td>1363755318392610818</td>\n      <td>1363755318392610818</td>\n      <td>Wolrd Richie</td>\n      <td>BanzoWolrd</td>\n      <td>Delta, Nigeria</td>\n      <td>DELTA BOY</td>\n      <td>None</td>\n      <td>{'description': {'urls': []}}</td>\n      <td>False</td>\n      <td>22</td>\n      <td>...</td>\n      <td>False</td>\n      <td>False</td>\n      <td>False</td>\n      <td>False</td>\n      <td>False</td>\n      <td>none</td>\n      <td>[]</td>\n      <td>enadegheconsta1</td>\n      <td>Status(_api=&lt;tweepy.api.API object at 0x7fa748...</td>\n      <td>https://pbs.twimg.com/profile_banners/13637553...</td>\n    </tr>\n  </tbody>\n</table>\n<p>1042 rows × 49 columns</p>\n</div>"
     },
     "metadata": {},
     "execution_count": 41
    }
   ],
   "source": [
    "concated_frames"
   ]
  },
  {
   "source": [
    "## SEARCH FUNCTIONALITY"
   ],
   "cell_type": "markdown",
   "metadata": {}
  },
  {
   "cell_type": "code",
   "execution_count": 1,
   "metadata": {},
   "outputs": [],
   "source": [
    "from NetMap import TwCli\n",
    "from NetMap import SearchParams\n",
    "client = TwCli()"
   ]
  },
  {
   "cell_type": "code",
   "execution_count": 27,
   "metadata": {},
   "outputs": [
    {
     "output_type": "execute_result",
     "data": {
      "text/plain": [
       "NetMap.twBot.TwCli"
      ]
     },
     "metadata": {},
     "execution_count": 27
    }
   ],
   "source": [
    "type(client)"
   ]
  },
  {
   "cell_type": "code",
   "execution_count": 2,
   "metadata": {},
   "outputs": [
    {
     "output_type": "stream",
     "name": "stdout",
     "text": [
      "2021-06-06 14:36:04 [INFO] NetMap-Log -  Finished\n"
     ]
    }
   ],
   "source": [
    "params = SearchParams(locations=['manhattan', 'detroit'],\n",
    "                      words=['Trump', 'Biden', 'Covid19', 'fauciliedpeopledied'],\n",
    "                      start_date='2021-06-01', num_days=7)"
   ]
  },
  {
   "cell_type": "code",
   "execution_count": 13,
   "metadata": {},
   "outputs": [
    {
     "output_type": "execute_result",
     "data": {
      "text/plain": [
       "4"
      ]
     },
     "metadata": {},
     "execution_count": 13
    }
   ],
   "source": [
    "params.words['count']"
   ]
  },
  {
   "cell_type": "code",
   "execution_count": 8,
   "metadata": {},
   "outputs": [
    {
     "output_type": "stream",
     "name": "stdout",
     "text": [
      "['2021-05-28', '2021-05-29']\n40.7830603,-73.9712488,4mi\n#fauciliedpeopledied\n"
     ]
    }
   ],
   "source": [
    "dates=params.dates[3]\n",
    "print(dates)\n",
    "geocode=params.locations['manhattan'].replace(' ', '')\n",
    "print(geocode)\n",
    "search_query=params.words['as_hashtags'][-1]\n",
    "print(search_query)"
   ]
  },
  {
   "cell_type": "code",
   "execution_count": 9,
   "metadata": {
    "tags": []
   },
   "outputs": [
    {
     "output_type": "stream",
     "name": "stdout",
     "text": [
      "2021-06-06 14:37:24 [INFO] NetMap-Log - Calling Twitter\n",
      "2021-06-06 14:37:28 [INFO] NetMap-Log - PAGE: 0 | Tweets Filtered: 90\n",
      "2021-06-06 14:37:29 [INFO] NetMap-Log - PAGE: 1 | Tweets Filtered: 190\n"
     ]
    }
   ],
   "source": [
    "tweets = client.search(date=dates[0], records=2, geocode=geocode, search_query=search_query)"
   ]
  },
  {
   "cell_type": "code",
   "execution_count": 10,
   "metadata": {},
   "outputs": [],
   "source": [
    "df = client.build_tweet_dataframe(search_query=search_query, data=tweets)"
   ]
  },
  {
   "cell_type": "code",
   "execution_count": 11,
   "metadata": {},
   "outputs": [
    {
     "output_type": "execute_result",
     "data": {
      "text/plain": [
       "              tweet_time             tweet_id  \\\n",
       "0    2021-06-06T17:52:14  1401597816590454790   \n",
       "1    2021-06-06T17:47:52  1401596715631726595   \n",
       "2    2021-06-06T17:13:35  1401588090448318465   \n",
       "3    2021-06-06T16:26:35  1401576259876921345   \n",
       "4    2021-06-06T16:25:23  1401575960776871945   \n",
       "..                   ...                  ...   \n",
       "185  2021-06-04T04:39:26  1400673524751159296   \n",
       "186  2021-06-04T04:39:13  1400673471181565956   \n",
       "187  2021-06-04T04:33:52  1400672124122042369   \n",
       "188  2021-06-04T04:33:39  1400672072360206336   \n",
       "189  2021-06-04T04:32:19  1400671735096217601   \n",
       "\n",
       "                                             full_text text_range  \\\n",
       "0    While #FireFauci and #FauciLiedPeopleDied is t...   [0, 106]   \n",
       "1    RT @rantsbybobby: I have been saying Dr. Fauci...   [0, 140]   \n",
       "2    When is this sleeping world going to wake up? ...   [0, 134]   \n",
       "3    RT @rantsbybobby: I have been saying Dr. Fauci...   [0, 140]   \n",
       "4    RT @rantsbybobby: I have been saying Dr. Fauci...   [0, 140]   \n",
       "..                                                 ...        ...   \n",
       "185  Okay, so #FauciLiedPeopleDied\\nHe knew the vir...   [0, 252]   \n",
       "186  RT @trish_regan: Fauci’s Boss Admits The U.S. ...   [0, 140]   \n",
       "187  RT @trish_regan: Fauci’s Boss Admits The U.S. ...   [0, 140]   \n",
       "188  RT @trish_regan: Fauci’s Boss Admits The U.S. ...   [0, 140]   \n",
       "189  RT @iamchanteezy: Only Republicans (including ...   [0, 140]   \n",
       "\n",
       "           tweet_user_id      tweet_user_name tweet_user_screen_name  \\\n",
       "0     996426159482130432  ♟️Syed Haq سيد هق♟️        SyedHaqReporter   \n",
       "1             3521985804    Seamus McCallahan                 efob68   \n",
       "2              432261373          BonfireLana            BonfireLana   \n",
       "3             3730158073                LINDA           poodle_linda   \n",
       "4              132721000                    🐶            astrodawg__   \n",
       "..                   ...                  ...                    ...   \n",
       "185           3290426028             KD Singh          SaskerutheUlt   \n",
       "186   813925823673729029                Jonez                 1m2j3b   \n",
       "187  1229929537334628353      Jillary Blinton         JillaryBlinton   \n",
       "188  1350985675303227399        Nadia Johnson        NadiaJo75768886   \n",
       "189             21857073     Dr. Flocka Flame             DeepVision   \n",
       "\n",
       "    tweet_user_location                             tweet_user_description  \\\n",
       "0         New York, USA  Journalist\\n@BklynCollege411 graduate\\n@newmar...   \n",
       "1                                                                            \n",
       "2              New York  Well seasoned, marinated in many flavors of li...   \n",
       "3                    CA          CA girl. Loves God, All animals and Trump   \n",
       "4                                                                            \n",
       "..                  ...                                                ...   \n",
       "185       New York, USA  Game player, Wrestling fan, Politics follower,...   \n",
       "186          Texas, USA  Judge what is happening by what is actually ha...   \n",
       "187                                                                          \n",
       "188          Texas, USA  Texan ..Christian .. Business Owner ...❤️ my c...   \n",
       "189       United States                         Perception is not reality.   \n",
       "\n",
       "     tweet_user_followers_count  ...  users_mentions_ids_6  \\\n",
       "0                           164  ...                  None   \n",
       "1                            12  ...                  None   \n",
       "2                           407  ...                  None   \n",
       "3                           965  ...                  None   \n",
       "4                           151  ...                  None   \n",
       "..                          ...  ...                   ...   \n",
       "185                         126  ...                  None   \n",
       "186                         223  ...                  None   \n",
       "187                        5231  ...                  None   \n",
       "188                         198  ...                  None   \n",
       "189                        2186  ...                  None   \n",
       "\n",
       "    users_mentions_ids_7  users_mentions_ids_8  users_mentions_ids_9  \\\n",
       "0                   None                  None                  None   \n",
       "1                   None                  None                  None   \n",
       "2                   None                  None                  None   \n",
       "3                   None                  None                  None   \n",
       "4                   None                  None                  None   \n",
       "..                   ...                   ...                   ...   \n",
       "185                 None                  None                  None   \n",
       "186                 None                  None                  None   \n",
       "187                 None                  None                  None   \n",
       "188                 None                  None                  None   \n",
       "189                 None                  None                  None   \n",
       "\n",
       "     users_mentions_ids_10  users_mentions_ids_11  users_mentions_ids_12  \\\n",
       "0                     None                   None                   None   \n",
       "1                     None                   None                   None   \n",
       "2                     None                   None                   None   \n",
       "3                     None                   None                   None   \n",
       "4                     None                   None                   None   \n",
       "..                     ...                    ...                    ...   \n",
       "185                   None                   None                   None   \n",
       "186                   None                   None                   None   \n",
       "187                   None                   None                   None   \n",
       "188                   None                   None                   None   \n",
       "189                   None                   None                   None   \n",
       "\n",
       "    users_mentions_ids_13 users_mentions_ids_14 users_mentions_ids_15  \n",
       "0                    None                  None                  None  \n",
       "1                    None                  None                  None  \n",
       "2                    None                  None                  None  \n",
       "3                    None                  None                  None  \n",
       "4                    None                  None                  None  \n",
       "..                    ...                   ...                   ...  \n",
       "185                  None                  None                  None  \n",
       "186                  None                  None                  None  \n",
       "187                  None                  None                  None  \n",
       "188                  None                  None                  None  \n",
       "189                  None                  None                  None  \n",
       "\n",
       "[190 rows x 147 columns]"
      ],
      "text/html": "<div>\n<style scoped>\n    .dataframe tbody tr th:only-of-type {\n        vertical-align: middle;\n    }\n\n    .dataframe tbody tr th {\n        vertical-align: top;\n    }\n\n    .dataframe thead th {\n        text-align: right;\n    }\n</style>\n<table border=\"1\" class=\"dataframe\">\n  <thead>\n    <tr style=\"text-align: right;\">\n      <th></th>\n      <th>tweet_time</th>\n      <th>tweet_id</th>\n      <th>full_text</th>\n      <th>text_range</th>\n      <th>tweet_user_id</th>\n      <th>tweet_user_name</th>\n      <th>tweet_user_screen_name</th>\n      <th>tweet_user_location</th>\n      <th>tweet_user_description</th>\n      <th>tweet_user_followers_count</th>\n      <th>...</th>\n      <th>users_mentions_ids_6</th>\n      <th>users_mentions_ids_7</th>\n      <th>users_mentions_ids_8</th>\n      <th>users_mentions_ids_9</th>\n      <th>users_mentions_ids_10</th>\n      <th>users_mentions_ids_11</th>\n      <th>users_mentions_ids_12</th>\n      <th>users_mentions_ids_13</th>\n      <th>users_mentions_ids_14</th>\n      <th>users_mentions_ids_15</th>\n    </tr>\n  </thead>\n  <tbody>\n    <tr>\n      <th>0</th>\n      <td>2021-06-06T17:52:14</td>\n      <td>1401597816590454790</td>\n      <td>While #FireFauci and #FauciLiedPeopleDied is t...</td>\n      <td>[0, 106]</td>\n      <td>996426159482130432</td>\n      <td>♟️Syed Haq سيد هق♟️</td>\n      <td>SyedHaqReporter</td>\n      <td>New York, USA</td>\n      <td>Journalist\\n@BklynCollege411 graduate\\n@newmar...</td>\n      <td>164</td>\n      <td>...</td>\n      <td>None</td>\n      <td>None</td>\n      <td>None</td>\n      <td>None</td>\n      <td>None</td>\n      <td>None</td>\n      <td>None</td>\n      <td>None</td>\n      <td>None</td>\n      <td>None</td>\n    </tr>\n    <tr>\n      <th>1</th>\n      <td>2021-06-06T17:47:52</td>\n      <td>1401596715631726595</td>\n      <td>RT @rantsbybobby: I have been saying Dr. Fauci...</td>\n      <td>[0, 140]</td>\n      <td>3521985804</td>\n      <td>Seamus McCallahan</td>\n      <td>efob68</td>\n      <td></td>\n      <td></td>\n      <td>12</td>\n      <td>...</td>\n      <td>None</td>\n      <td>None</td>\n      <td>None</td>\n      <td>None</td>\n      <td>None</td>\n      <td>None</td>\n      <td>None</td>\n      <td>None</td>\n      <td>None</td>\n      <td>None</td>\n    </tr>\n    <tr>\n      <th>2</th>\n      <td>2021-06-06T17:13:35</td>\n      <td>1401588090448318465</td>\n      <td>When is this sleeping world going to wake up? ...</td>\n      <td>[0, 134]</td>\n      <td>432261373</td>\n      <td>BonfireLana</td>\n      <td>BonfireLana</td>\n      <td>New York</td>\n      <td>Well seasoned, marinated in many flavors of li...</td>\n      <td>407</td>\n      <td>...</td>\n      <td>None</td>\n      <td>None</td>\n      <td>None</td>\n      <td>None</td>\n      <td>None</td>\n      <td>None</td>\n      <td>None</td>\n      <td>None</td>\n      <td>None</td>\n      <td>None</td>\n    </tr>\n    <tr>\n      <th>3</th>\n      <td>2021-06-06T16:26:35</td>\n      <td>1401576259876921345</td>\n      <td>RT @rantsbybobby: I have been saying Dr. Fauci...</td>\n      <td>[0, 140]</td>\n      <td>3730158073</td>\n      <td>LINDA</td>\n      <td>poodle_linda</td>\n      <td>CA</td>\n      <td>CA girl. Loves God, All animals and Trump</td>\n      <td>965</td>\n      <td>...</td>\n      <td>None</td>\n      <td>None</td>\n      <td>None</td>\n      <td>None</td>\n      <td>None</td>\n      <td>None</td>\n      <td>None</td>\n      <td>None</td>\n      <td>None</td>\n      <td>None</td>\n    </tr>\n    <tr>\n      <th>4</th>\n      <td>2021-06-06T16:25:23</td>\n      <td>1401575960776871945</td>\n      <td>RT @rantsbybobby: I have been saying Dr. Fauci...</td>\n      <td>[0, 140]</td>\n      <td>132721000</td>\n      <td>🐶</td>\n      <td>astrodawg__</td>\n      <td></td>\n      <td></td>\n      <td>151</td>\n      <td>...</td>\n      <td>None</td>\n      <td>None</td>\n      <td>None</td>\n      <td>None</td>\n      <td>None</td>\n      <td>None</td>\n      <td>None</td>\n      <td>None</td>\n      <td>None</td>\n      <td>None</td>\n    </tr>\n    <tr>\n      <th>...</th>\n      <td>...</td>\n      <td>...</td>\n      <td>...</td>\n      <td>...</td>\n      <td>...</td>\n      <td>...</td>\n      <td>...</td>\n      <td>...</td>\n      <td>...</td>\n      <td>...</td>\n      <td>...</td>\n      <td>...</td>\n      <td>...</td>\n      <td>...</td>\n      <td>...</td>\n      <td>...</td>\n      <td>...</td>\n      <td>...</td>\n      <td>...</td>\n      <td>...</td>\n      <td>...</td>\n    </tr>\n    <tr>\n      <th>185</th>\n      <td>2021-06-04T04:39:26</td>\n      <td>1400673524751159296</td>\n      <td>Okay, so #FauciLiedPeopleDied\\nHe knew the vir...</td>\n      <td>[0, 252]</td>\n      <td>3290426028</td>\n      <td>KD Singh</td>\n      <td>SaskerutheUlt</td>\n      <td>New York, USA</td>\n      <td>Game player, Wrestling fan, Politics follower,...</td>\n      <td>126</td>\n      <td>...</td>\n      <td>None</td>\n      <td>None</td>\n      <td>None</td>\n      <td>None</td>\n      <td>None</td>\n      <td>None</td>\n      <td>None</td>\n      <td>None</td>\n      <td>None</td>\n      <td>None</td>\n    </tr>\n    <tr>\n      <th>186</th>\n      <td>2021-06-04T04:39:13</td>\n      <td>1400673471181565956</td>\n      <td>RT @trish_regan: Fauci’s Boss Admits The U.S. ...</td>\n      <td>[0, 140]</td>\n      <td>813925823673729029</td>\n      <td>Jonez</td>\n      <td>1m2j3b</td>\n      <td>Texas, USA</td>\n      <td>Judge what is happening by what is actually ha...</td>\n      <td>223</td>\n      <td>...</td>\n      <td>None</td>\n      <td>None</td>\n      <td>None</td>\n      <td>None</td>\n      <td>None</td>\n      <td>None</td>\n      <td>None</td>\n      <td>None</td>\n      <td>None</td>\n      <td>None</td>\n    </tr>\n    <tr>\n      <th>187</th>\n      <td>2021-06-04T04:33:52</td>\n      <td>1400672124122042369</td>\n      <td>RT @trish_regan: Fauci’s Boss Admits The U.S. ...</td>\n      <td>[0, 140]</td>\n      <td>1229929537334628353</td>\n      <td>Jillary Blinton</td>\n      <td>JillaryBlinton</td>\n      <td></td>\n      <td></td>\n      <td>5231</td>\n      <td>...</td>\n      <td>None</td>\n      <td>None</td>\n      <td>None</td>\n      <td>None</td>\n      <td>None</td>\n      <td>None</td>\n      <td>None</td>\n      <td>None</td>\n      <td>None</td>\n      <td>None</td>\n    </tr>\n    <tr>\n      <th>188</th>\n      <td>2021-06-04T04:33:39</td>\n      <td>1400672072360206336</td>\n      <td>RT @trish_regan: Fauci’s Boss Admits The U.S. ...</td>\n      <td>[0, 140]</td>\n      <td>1350985675303227399</td>\n      <td>Nadia Johnson</td>\n      <td>NadiaJo75768886</td>\n      <td>Texas, USA</td>\n      <td>Texan ..Christian .. Business Owner ...❤️ my c...</td>\n      <td>198</td>\n      <td>...</td>\n      <td>None</td>\n      <td>None</td>\n      <td>None</td>\n      <td>None</td>\n      <td>None</td>\n      <td>None</td>\n      <td>None</td>\n      <td>None</td>\n      <td>None</td>\n      <td>None</td>\n    </tr>\n    <tr>\n      <th>189</th>\n      <td>2021-06-04T04:32:19</td>\n      <td>1400671735096217601</td>\n      <td>RT @iamchanteezy: Only Republicans (including ...</td>\n      <td>[0, 140]</td>\n      <td>21857073</td>\n      <td>Dr. Flocka Flame</td>\n      <td>DeepVision</td>\n      <td>United States</td>\n      <td>Perception is not reality.</td>\n      <td>2186</td>\n      <td>...</td>\n      <td>None</td>\n      <td>None</td>\n      <td>None</td>\n      <td>None</td>\n      <td>None</td>\n      <td>None</td>\n      <td>None</td>\n      <td>None</td>\n      <td>None</td>\n      <td>None</td>\n    </tr>\n  </tbody>\n</table>\n<p>190 rows × 147 columns</p>\n</div>"
     },
     "metadata": {},
     "execution_count": 11
    }
   ],
   "source": [
    "df"
   ]
  },
  {
   "cell_type": "code",
   "execution_count": 24,
   "metadata": {},
   "outputs": [
    {
     "output_type": "execute_result",
     "data": {
      "text/plain": [
       "['full_text',\n",
       " 'hashtags_0',\n",
       " 'hashtags_1',\n",
       " 'hashtags_2',\n",
       " 'hashtags_3',\n",
       " 'hashtags_4',\n",
       " 'hashtags_5',\n",
       " 'hashtags_6',\n",
       " 'retweet_favorited_count',\n",
       " 'retweet_in_reply_to_id',\n",
       " 'retweet_in_reply_to_user_id',\n",
       " 'retweet_in_reply_to_user_screenname',\n",
       " 'retweet_retweeted_count',\n",
       " 'retweet_user_creation',\n",
       " 'retweet_user_description',\n",
       " 'retweet_user_followers',\n",
       " 'retweet_user_friends_count',\n",
       " 'retweet_user_id',\n",
       " 'retweet_user_screen_name',\n",
       " 'retweeted_full_text',\n",
       " 'retweeted_hashtags_0',\n",
       " 'retweeted_hashtags_1',\n",
       " 'retweeted_hashtags_2',\n",
       " 'retweeted_hashtags_3',\n",
       " 'retweeted_hashtags_4',\n",
       " 'retweeted_hashtags_5',\n",
       " 'retweeted_hashtags_6',\n",
       " 'retweeted_hashtags_7',\n",
       " 'retweeted_hashtags_8',\n",
       " 'retweeted_hashtags_9',\n",
       " 'retweeted_mentions_ids_0',\n",
       " 'retweeted_mentions_ids_1',\n",
       " 'retweeted_mentions_ids_10',\n",
       " 'retweeted_mentions_ids_11',\n",
       " 'retweeted_mentions_ids_12',\n",
       " 'retweeted_mentions_ids_13',\n",
       " 'retweeted_mentions_ids_14',\n",
       " 'retweeted_mentions_ids_2',\n",
       " 'retweeted_mentions_ids_3',\n",
       " 'retweeted_mentions_ids_4',\n",
       " 'retweeted_mentions_ids_5',\n",
       " 'retweeted_mentions_ids_6',\n",
       " 'retweeted_mentions_ids_7',\n",
       " 'retweeted_mentions_ids_8',\n",
       " 'retweeted_mentions_ids_9',\n",
       " 'retweeted_mentions_names_0',\n",
       " 'retweeted_mentions_names_1',\n",
       " 'retweeted_mentions_names_10',\n",
       " 'retweeted_mentions_names_11',\n",
       " 'retweeted_mentions_names_12',\n",
       " 'retweeted_mentions_names_13',\n",
       " 'retweeted_mentions_names_14',\n",
       " 'retweeted_mentions_names_2',\n",
       " 'retweeted_mentions_names_3',\n",
       " 'retweeted_mentions_names_4',\n",
       " 'retweeted_mentions_names_5',\n",
       " 'retweeted_mentions_names_6',\n",
       " 'retweeted_mentions_names_7',\n",
       " 'retweeted_mentions_names_8',\n",
       " 'retweeted_mentions_names_9',\n",
       " 'retweeted_mentions_screennames_0',\n",
       " 'retweeted_mentions_screennames_1',\n",
       " 'retweeted_mentions_screennames_10',\n",
       " 'retweeted_mentions_screennames_11',\n",
       " 'retweeted_mentions_screennames_12',\n",
       " 'retweeted_mentions_screennames_13',\n",
       " 'retweeted_mentions_screennames_14',\n",
       " 'retweeted_mentions_screennames_2',\n",
       " 'retweeted_mentions_screennames_3',\n",
       " 'retweeted_mentions_screennames_4',\n",
       " 'retweeted_mentions_screennames_5',\n",
       " 'retweeted_mentions_screennames_6',\n",
       " 'retweeted_mentions_screennames_7',\n",
       " 'retweeted_mentions_screennames_8',\n",
       " 'retweeted_mentions_screennames_9',\n",
       " 'retweeted_source',\n",
       " 'retweeted_text_range',\n",
       " 'retweeted_tweet_id',\n",
       " 'retweeted_tweet_time',\n",
       " 'search_query',\n",
       " 'text_range',\n",
       " 'tweet_favorite_count',\n",
       " 'tweet_favorited',\n",
       " 'tweet_id',\n",
       " 'tweet_in_reply_to_status_id',\n",
       " 'tweet_in_reply_to_user_id',\n",
       " 'tweet_in_reply_to_user_screen_name',\n",
       " 'tweet_retweet_count',\n",
       " 'tweet_retweeted',\n",
       " 'tweet_time',\n",
       " 'tweet_user_creation',\n",
       " 'tweet_user_description',\n",
       " 'tweet_user_followers_count',\n",
       " 'tweet_user_friends_count',\n",
       " 'tweet_user_id',\n",
       " 'tweet_user_location',\n",
       " 'tweet_user_name',\n",
       " 'tweet_user_screen_name',\n",
       " 'tweet_user_tweet_count',\n",
       " 'users_mentions_ids_0',\n",
       " 'users_mentions_ids_1',\n",
       " 'users_mentions_ids_10',\n",
       " 'users_mentions_ids_11',\n",
       " 'users_mentions_ids_12',\n",
       " 'users_mentions_ids_13',\n",
       " 'users_mentions_ids_14',\n",
       " 'users_mentions_ids_15',\n",
       " 'users_mentions_ids_2',\n",
       " 'users_mentions_ids_3',\n",
       " 'users_mentions_ids_4',\n",
       " 'users_mentions_ids_5',\n",
       " 'users_mentions_ids_6',\n",
       " 'users_mentions_ids_7',\n",
       " 'users_mentions_ids_8',\n",
       " 'users_mentions_ids_9',\n",
       " 'users_mentions_names_0',\n",
       " 'users_mentions_names_1',\n",
       " 'users_mentions_names_10',\n",
       " 'users_mentions_names_11',\n",
       " 'users_mentions_names_12',\n",
       " 'users_mentions_names_13',\n",
       " 'users_mentions_names_14',\n",
       " 'users_mentions_names_15',\n",
       " 'users_mentions_names_2',\n",
       " 'users_mentions_names_3',\n",
       " 'users_mentions_names_4',\n",
       " 'users_mentions_names_5',\n",
       " 'users_mentions_names_6',\n",
       " 'users_mentions_names_7',\n",
       " 'users_mentions_names_8',\n",
       " 'users_mentions_names_9',\n",
       " 'users_mentions_screennames_0',\n",
       " 'users_mentions_screennames_1',\n",
       " 'users_mentions_screennames_10',\n",
       " 'users_mentions_screennames_11',\n",
       " 'users_mentions_screennames_12',\n",
       " 'users_mentions_screennames_13',\n",
       " 'users_mentions_screennames_14',\n",
       " 'users_mentions_screennames_15',\n",
       " 'users_mentions_screennames_2',\n",
       " 'users_mentions_screennames_3',\n",
       " 'users_mentions_screennames_4',\n",
       " 'users_mentions_screennames_5',\n",
       " 'users_mentions_screennames_6',\n",
       " 'users_mentions_screennames_7',\n",
       " 'users_mentions_screennames_8',\n",
       " 'users_mentions_screennames_9']"
      ]
     },
     "metadata": {},
     "execution_count": 24
    }
   ],
   "source": [
    "sorted(list(df.columns))"
   ]
  },
  {
   "cell_type": "code",
   "execution_count": 21,
   "metadata": {},
   "outputs": [],
   "source": [
    "#TODO: write loop to iterate through all search parameters and return on dataframe\n",
    "#question -- at one point do we enter into SQL DB and how should the DB be organized?\n",
    "#question -- should the networkX display be querying the SQL DB - rather than the csv?\n",
    "#question -- overtime can the networkX display continue to grow and display more complex search words?"
   ]
  },
  {
   "cell_type": "code",
   "execution_count": 25,
   "metadata": {},
   "outputs": [
    {
     "output_type": "execute_result",
     "data": {
      "text/plain": [
       "5"
      ]
     },
     "metadata": {},
     "execution_count": 25
    }
   ],
   "source": []
  },
  {
   "cell_type": "code",
   "execution_count": null,
   "metadata": {},
   "outputs": [],
   "source": []
  }
 ]
}