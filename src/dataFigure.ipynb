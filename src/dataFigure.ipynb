{
 "cells": [
  {
   "cell_type": "markdown",
   "source": [
    "## Follower Functionality\n",
    "This idea is currently depreciated - we will keep it here to document possiblility -- but for now, it will not be used"
   ],
   "metadata": {}
  },
  {
   "cell_type": "code",
   "execution_count": 1,
   "source": [
    "# from NetMap import TwCli, Tools\n",
    "# client = TwCli()\n",
    "# username = 'joebiden'\n",
    "# followers = client.get_user_followers(username=username, records=5)\n",
    "# followers_df = client.build_followers_dataframe(username=username, data=followers, save=False)\n",
    "# selected_followers = Tools.choose_random_accounts(followers=list(followers_df.screen_name), num_accounts=10)\n",
    "# followersDf = Tools.collect_randomly_chosen(selected_followers=selected_followers, client=client)\n",
    "# followerDf"
   ],
   "outputs": [],
   "metadata": {}
  },
  {
   "cell_type": "markdown",
   "source": [
    "## SEARCH FUNCTIONALITY"
   ],
   "metadata": {}
  },
  {
   "cell_type": "code",
   "execution_count": 1,
   "source": [
    "from NetMap import LINE"
   ],
   "outputs": [],
   "metadata": {}
  },
  {
   "cell_type": "code",
   "execution_count": 2,
   "source": [
    "params: dict = {\n",
    "    'locations': ['manhattan', 'detroit'],\n",
    "    'words': ['Olympics', 'FBI'],\n",
    "    'start_date': '2021-07-23',\n",
    "    'num_days': 7\n",
    "}\n",
    "\n",
    "records: int = 1"
   ],
   "outputs": [],
   "metadata": {}
  },
  {
   "cell_type": "code",
   "execution_count": 3,
   "source": [
    "pipeline = LINE(params=params, records=records)"
   ],
   "outputs": [
    {
     "output_type": "stream",
     "name": "stdout",
     "text": [
      "2021-07-23 15:28:01 [INFO] NetMap-Log -  Finished\n",
      "2021-07-23 15:28:01 [INFO] NetMap-Log - Client Connected to server: mongodb://localhost:27017/\n",
      "2021-07-23 15:28:01 [INFO] NetMap-Log - Client Connected to database: NetMap | Collection: TwitterRecords\n"
     ]
    }
   ],
   "metadata": {}
  },
  {
   "cell_type": "code",
   "execution_count": 4,
   "source": [
    "pipeline.getData()\n",
    "pipeline.send2db()"
   ],
   "outputs": [
    {
     "output_type": "stream",
     "name": "stdout",
     "text": [
      "2021-07-23 15:28:02 [INFO] NetMap-Log - Calling Twitter | 2021-07-22 | 40.7830603,-73.9712488,4mi | #olympics\n",
      "2021-07-23 15:28:03 [INFO] NetMap-Log - PAGE: 0 | Tweets Filtered: 100\n",
      "2021-07-23 15:28:03 [INFO] NetMap-Log - Calling Twitter | 2021-07-22 | 40.7830603,-73.9712488,4mi | #fbi\n",
      "2021-07-23 15:28:03 [INFO] NetMap-Log - PAGE: 0 | Tweets Filtered: 19\n",
      "2021-07-23 15:28:03 [INFO] NetMap-Log - Calling Twitter | 2021-07-22 | 42.331427,-83.0457538,4mi | #olympics\n",
      "2021-07-23 15:28:03 [INFO] NetMap-Log - PAGE: 0 | Tweets Filtered: 28\n",
      "2021-07-23 15:28:03 [INFO] NetMap-Log - Calling Twitter | 2021-07-22 | 42.331427,-83.0457538,4mi | #fbi\n",
      "2021-07-23 15:28:04 [INFO] NetMap-Log - Calling Twitter | 2021-07-21 | 40.7830603,-73.9712488,4mi | #olympics\n",
      "2021-07-23 15:28:04 [INFO] NetMap-Log - PAGE: 0 | Tweets Filtered: 100\n",
      "2021-07-23 15:28:04 [INFO] NetMap-Log - Calling Twitter | 2021-07-21 | 40.7830603,-73.9712488,4mi | #fbi\n",
      "2021-07-23 15:28:05 [INFO] NetMap-Log - PAGE: 0 | Tweets Filtered: 30\n",
      "2021-07-23 15:28:05 [INFO] NetMap-Log - Calling Twitter | 2021-07-21 | 42.331427,-83.0457538,4mi | #olympics\n",
      "2021-07-23 15:28:05 [INFO] NetMap-Log - PAGE: 0 | Tweets Filtered: 37\n",
      "2021-07-23 15:28:05 [INFO] NetMap-Log - Calling Twitter | 2021-07-21 | 42.331427,-83.0457538,4mi | #fbi\n",
      "2021-07-23 15:28:05 [INFO] NetMap-Log - Calling Twitter | 2021-07-20 | 40.7830603,-73.9712488,4mi | #olympics\n",
      "2021-07-23 15:28:06 [INFO] NetMap-Log - PAGE: 0 | Tweets Filtered: 100\n",
      "2021-07-23 15:28:06 [INFO] NetMap-Log - Calling Twitter | 2021-07-20 | 40.7830603,-73.9712488,4mi | #fbi\n",
      "2021-07-23 15:28:06 [INFO] NetMap-Log - PAGE: 0 | Tweets Filtered: 36\n",
      "2021-07-23 15:28:06 [INFO] NetMap-Log - Calling Twitter | 2021-07-20 | 42.331427,-83.0457538,4mi | #olympics\n",
      "2021-07-23 15:28:07 [INFO] NetMap-Log - PAGE: 0 | Tweets Filtered: 39\n",
      "2021-07-23 15:28:07 [INFO] NetMap-Log - Calling Twitter | 2021-07-20 | 42.331427,-83.0457538,4mi | #fbi\n",
      "2021-07-23 15:28:07 [INFO] NetMap-Log - Calling Twitter | 2021-07-19 | 40.7830603,-73.9712488,4mi | #olympics\n",
      "2021-07-23 15:28:08 [INFO] NetMap-Log - PAGE: 0 | Tweets Filtered: 100\n",
      "2021-07-23 15:28:08 [INFO] NetMap-Log - Calling Twitter | 2021-07-19 | 40.7830603,-73.9712488,4mi | #fbi\n",
      "2021-07-23 15:28:08 [INFO] NetMap-Log - PAGE: 0 | Tweets Filtered: 39\n",
      "2021-07-23 15:28:08 [INFO] NetMap-Log - Calling Twitter | 2021-07-19 | 42.331427,-83.0457538,4mi | #olympics\n",
      "2021-07-23 15:28:09 [INFO] NetMap-Log - PAGE: 0 | Tweets Filtered: 42\n",
      "2021-07-23 15:28:09 [INFO] NetMap-Log - Calling Twitter | 2021-07-19 | 42.331427,-83.0457538,4mi | #fbi\n",
      "2021-07-23 15:28:09 [INFO] NetMap-Log - Calling Twitter | 2021-07-18 | 40.7830603,-73.9712488,4mi | #olympics\n",
      "2021-07-23 15:28:10 [INFO] NetMap-Log - PAGE: 0 | Tweets Filtered: 100\n",
      "2021-07-23 15:28:10 [INFO] NetMap-Log - Calling Twitter | 2021-07-18 | 40.7830603,-73.9712488,4mi | #fbi\n",
      "2021-07-23 15:28:10 [INFO] NetMap-Log - PAGE: 0 | Tweets Filtered: 41\n",
      "2021-07-23 15:28:10 [INFO] NetMap-Log - Calling Twitter | 2021-07-18 | 42.331427,-83.0457538,4mi | #olympics\n",
      "2021-07-23 15:28:10 [INFO] NetMap-Log - PAGE: 0 | Tweets Filtered: 42\n",
      "2021-07-23 15:28:10 [INFO] NetMap-Log - Calling Twitter | 2021-07-18 | 42.331427,-83.0457538,4mi | #fbi\n",
      "2021-07-23 15:28:11 [INFO] NetMap-Log - Calling Twitter | 2021-07-17 | 40.7830603,-73.9712488,4mi | #olympics\n",
      "2021-07-23 15:28:11 [INFO] NetMap-Log - PAGE: 0 | Tweets Filtered: 100\n",
      "2021-07-23 15:28:11 [INFO] NetMap-Log - Calling Twitter | 2021-07-17 | 40.7830603,-73.9712488,4mi | #fbi\n",
      "2021-07-23 15:28:12 [INFO] NetMap-Log - PAGE: 0 | Tweets Filtered: 41\n",
      "2021-07-23 15:28:12 [INFO] NetMap-Log - Calling Twitter | 2021-07-17 | 42.331427,-83.0457538,4mi | #olympics\n",
      "2021-07-23 15:28:12 [INFO] NetMap-Log - PAGE: 0 | Tweets Filtered: 45\n",
      "2021-07-23 15:28:12 [INFO] NetMap-Log - Calling Twitter | 2021-07-17 | 42.331427,-83.0457538,4mi | #fbi\n",
      "2021-07-23 15:28:13 [INFO] NetMap-Log - 1039 Documents Added\n"
     ]
    }
   ],
   "metadata": {}
  },
  {
   "cell_type": "markdown",
   "source": [
    "## Idea for setting up Network Map\n",
    "\n",
    "\n",
    "    Node = Hashtag | Twitter Handle\n",
    "    Edges = Connection between Hashtag and Handles\n",
    "    - details in the handle nodes:\n",
    "        - tweet (sentiment score if can get to that)\n",
    "        - retweet, of if retweeted\n",
    "        - city\n",
    "        - how many other hashtags the account is connected to\n",
    "        - time of day\n",
    "\n",
    "**FUTURE POSSIBILITIES**\n",
    "\n",
    "secondary layer of connections, showing who the the accounts are connected (if a reply)"
   ],
   "metadata": {}
  }
 ],
 "metadata": {
  "interpreter": {
   "hash": "6ac79b1fdcb490579d7682732754f5f6cab407ac9f00894a844997adac3ef759"
  },
  "kernelspec": {
   "name": "python3",
   "display_name": "Python 3.7.6 64-bit ('base': conda)"
  },
  "language_info": {
   "codemirror_mode": {
    "name": "ipython",
    "version": 3
   },
   "file_extension": ".py",
   "mimetype": "text/x-python",
   "name": "python",
   "nbconvert_exporter": "python",
   "pygments_lexer": "ipython3",
   "version": "3.7.6"
  },
  "orig_nbformat": 2
 },
 "nbformat": 4,
 "nbformat_minor": 2
}