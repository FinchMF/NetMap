{
 "metadata": {
  "language_info": {
   "codemirror_mode": {
    "name": "ipython",
    "version": 3
   },
   "file_extension": ".py",
   "mimetype": "text/x-python",
   "name": "python",
   "nbconvert_exporter": "python",
   "pygments_lexer": "ipython3",
   "version": "3.7.6"
  },
  "orig_nbformat": 2,
  "kernelspec": {
   "name": "python376jvsc74a57bd06ac79b1fdcb490579d7682732754f5f6cab407ac9f00894a844997adac3ef759",
   "display_name": "Python 3.7.6 64-bit ('base': conda)"
  }
 },
 "nbformat": 4,
 "nbformat_minor": 2,
 "cells": [
  {
   "cell_type": "code",
   "execution_count": 1,
   "metadata": {},
   "outputs": [],
   "source": [
    "from NetMap import TwCli"
   ]
  },
  {
   "cell_type": "code",
   "execution_count": 2,
   "metadata": {},
   "outputs": [],
   "source": [
    "client = TwCli()\n",
    "username = 'littlefishsix'"
   ]
  },
  {
   "cell_type": "code",
   "execution_count": 3,
   "metadata": {
    "tags": []
   },
   "outputs": [
    {
     "output_type": "stream",
     "name": "stdout",
     "text": [
      "2021-05-22 16:25:24 [INFO] notebook - Collected: ['katiekrywo', 'alicelgriff', 'the_maudster', 'ButGourmet', 'FloDoval', 'chuckbanana', 'l_i_n_d_', 'secabotahyr', 'ariari_picPic__', 'ninagracemusic', 'aigerthetiger', 'bleuplaneteer', 'everjoslightly', 'BCamstud', 'jkassanoff', 'AvidSwami', 'White_CollarFan', 'inceptionwips', '100PrizeSites']\n"
     ]
    }
   ],
   "source": [
    "followers = client.get_user_followers(username=username)"
   ]
  },
  {
   "cell_type": "code",
   "execution_count": 4,
   "metadata": {},
   "outputs": [
    {
     "output_type": "execute_result",
     "data": {
      "text/plain": [
       "                     id               id_str                name  \\\n",
       "0            2381004961           2381004961          Bob Tomato   \n",
       "1             803564784            803564784       Alice Griffin   \n",
       "2             287419237            287419237                maud   \n",
       "3   1315405655013044224  1315405655013044224  Simple But Gourmet   \n",
       "4   1265709252850544640  1265709252850544640    Flo Doval, Ph.D.   \n",
       "5    822606249988685824   822606249988685824               Sarah   \n",
       "6    904931781597478912   904931781597478912              💕🦄👩🏻‍💻   \n",
       "7            2540380021           2540380021     二宮和也のおどるポンポコリン✩   \n",
       "8            2499860808           2499860808        有岡大貴くんの画像だよ♡   \n",
       "9             739102795            739102795          Nina Grace   \n",
       "10           1029484662           1029484662     Aiger the Tiger   \n",
       "11            389819510            389819510      Caroline Moore   \n",
       "12            161125940            161125940           Jo Chiang   \n",
       "13            613450295            613450295      Barnard AmStud   \n",
       "14            282781858            282781858        JA Kassanoff   \n",
       "15            420971200            420971200          D.A. Swami   \n",
       "16            195087362            195087362        White Collar   \n",
       "17            215078869            215078869       inceptionwips   \n",
       "18            204584984            204584984            P. Sites   \n",
       "\n",
       "        screen_name               location  \\\n",
       "0        katiekrywo  Theranos Bounce House   \n",
       "1       alicelgriff                          \n",
       "2      the_maudster                          \n",
       "3        ButGourmet         Washington, DC   \n",
       "4          FloDoval     Salt Lake City, UT   \n",
       "5       chuckbanana          Manhattan, NY   \n",
       "6          l_i_n_d_                          \n",
       "7       secabotahyr                          \n",
       "8   ariari_picPic__                          \n",
       "9    ninagracemusic           New York, NY   \n",
       "10    aigerthetiger                          \n",
       "11    bleuplaneteer               New York   \n",
       "12   everjoslightly           Brooklyn, NY   \n",
       "13         BCamstud           New York, NY   \n",
       "14       jkassanoff           New York, NY   \n",
       "15        AvidSwami          Manhattan, NY   \n",
       "16  White_CollarFan                     NY   \n",
       "17    inceptionwips                          \n",
       "18    100PrizeSites                    USA   \n",
       "\n",
       "                                          description  \\\n",
       "0   33.33% of the Better Read than Dead podcast wi...   \n",
       "1   metadata enthusiast // archives-focused // cur...   \n",
       "2   My grandpa's deck has no pathetic cards.\\n\\nsh...   \n",
       "3   Working for a simple goal of providing everyon...   \n",
       "4                      Biophysicist, dog mom, she/her   \n",
       "5                                                       \n",
       "6                                                       \n",
       "7                           二宮和也のおどるポンポコリン画像をご紹介致します♪   \n",
       "8                     有岡君の画像あつめちゃいました(*´з`)いっぱい紹介するね♡   \n",
       "9   Singer/Songwriter. Animal Lover. Outdoor Enthu...   \n",
       "10                                                      \n",
       "11  Tug boat enthusiast and part-time practitioner...   \n",
       "12  storyteller, agitator. she/they. Follow For Mo...   \n",
       "13  Barnard College Program in American Studies, N...   \n",
       "14  Turn-of-twentieth-century American lit, Barnar...   \n",
       "15  #occupymorningside\\r\\nThe era of change is upo...   \n",
       "16  An unofficial fan page for the USA Series Whit...   \n",
       "17  This account tracks Inception WIPs. To see the...   \n",
       "18  Looking for great sites to win Amazon gift car...   \n",
       "\n",
       "                        url  \\\n",
       "0                      None   \n",
       "1                      None   \n",
       "2                      None   \n",
       "3   https://t.co/tChBW8nwho   \n",
       "4                      None   \n",
       "5                      None   \n",
       "6                      None   \n",
       "7                      None   \n",
       "8                      None   \n",
       "9   https://t.co/vzFXXrjAND   \n",
       "10                     None   \n",
       "11                     None   \n",
       "12  https://t.co/h2lxhObKus   \n",
       "13   http://t.co/3FjLMT8FvT   \n",
       "14                     None   \n",
       "15   http://t.co/0N5HZY3lVw   \n",
       "16                     None   \n",
       "17   http://t.co/OgOZfJcW1L   \n",
       "18   http://t.co/NLXfDI7reN   \n",
       "\n",
       "                                             entities  protected  \\\n",
       "0                       {'description': {'urls': []}}      False   \n",
       "1                       {'description': {'urls': []}}      False   \n",
       "2                       {'description': {'urls': []}}      False   \n",
       "3   {'url': {'urls': [{'url': 'https://t.co/tChBW8...      False   \n",
       "4                       {'description': {'urls': []}}       True   \n",
       "5                       {'description': {'urls': []}}      False   \n",
       "6                       {'description': {'urls': []}}       True   \n",
       "7                       {'description': {'urls': []}}      False   \n",
       "8                       {'description': {'urls': []}}      False   \n",
       "9   {'url': {'urls': [{'url': 'https://t.co/vzFXXr...      False   \n",
       "10                      {'description': {'urls': []}}      False   \n",
       "11                      {'description': {'urls': []}}      False   \n",
       "12  {'url': {'urls': [{'url': 'https://t.co/h2lxhO...      False   \n",
       "13  {'url': {'urls': [{'url': 'http://t.co/3FjLMT8...      False   \n",
       "14                      {'description': {'urls': []}}      False   \n",
       "15  {'url': {'urls': [{'url': 'http://t.co/0N5HZY3...      False   \n",
       "16                      {'description': {'urls': []}}      False   \n",
       "17  {'url': {'urls': [{'url': 'http://t.co/OgOZfJc...      False   \n",
       "18  {'url': {'urls': [{'url': 'http://t.co/NLXfDI7...      False   \n",
       "\n",
       "    followers_count  ...  following  live_following follow_request_sent  \\\n",
       "0               153  ...      False           False               False   \n",
       "1               196  ...      False           False               False   \n",
       "2               173  ...      False           False               False   \n",
       "3                76  ...      False           False               False   \n",
       "4                21  ...      False           False               False   \n",
       "5                14  ...      False           False               False   \n",
       "6               599  ...      False           False               False   \n",
       "7               352  ...      False           False               False   \n",
       "8               256  ...      False           False               False   \n",
       "9                81  ...      False           False               False   \n",
       "10               11  ...      False           False               False   \n",
       "11               70  ...      False           False               False   \n",
       "12              407  ...      False           False               False   \n",
       "13              451  ...      False           False               False   \n",
       "14              460  ...      False           False               False   \n",
       "15               13  ...      False           False               False   \n",
       "16             6685  ...      False           False               False   \n",
       "17              339  ...      False           False               False   \n",
       "18              248  ...      False           False               False   \n",
       "\n",
       "    notifications muting blocking  blocked_by  translator_type  \\\n",
       "0           False  False    False       False             none   \n",
       "1           False  False    False       False             none   \n",
       "2           False  False    False       False             none   \n",
       "3           False  False    False       False             none   \n",
       "4           False  False    False       False             none   \n",
       "5           False  False    False       False             none   \n",
       "6           False  False    False       False             none   \n",
       "7           False  False    False       False             none   \n",
       "8           False  False    False       False             none   \n",
       "9           False  False    False       False             none   \n",
       "10          False  False    False       False             none   \n",
       "11          False  False    False       False             none   \n",
       "12          False  False    False       False             none   \n",
       "13          False  False    False       False             none   \n",
       "14          False  False    False       False             none   \n",
       "15          False  False    False       False             none   \n",
       "16          False  False    False       False             none   \n",
       "17          False  False    False       False             none   \n",
       "18          False  False    False       False             none   \n",
       "\n",
       "    withheld_in_countries           USER  \n",
       "0                      []  littlefishsix  \n",
       "1                      []  littlefishsix  \n",
       "2                      []  littlefishsix  \n",
       "3                      []  littlefishsix  \n",
       "4                      []  littlefishsix  \n",
       "5                      []  littlefishsix  \n",
       "6                      []  littlefishsix  \n",
       "7                      []  littlefishsix  \n",
       "8                      []  littlefishsix  \n",
       "9                      []  littlefishsix  \n",
       "10                     []  littlefishsix  \n",
       "11                     []  littlefishsix  \n",
       "12                     []  littlefishsix  \n",
       "13                     []  littlefishsix  \n",
       "14                     []  littlefishsix  \n",
       "15                     []  littlefishsix  \n",
       "16                     []  littlefishsix  \n",
       "17                     []  littlefishsix  \n",
       "18                     []  littlefishsix  \n",
       "\n",
       "[19 rows x 49 columns]"
      ],
      "text/html": "<div>\n<style scoped>\n    .dataframe tbody tr th:only-of-type {\n        vertical-align: middle;\n    }\n\n    .dataframe tbody tr th {\n        vertical-align: top;\n    }\n\n    .dataframe thead th {\n        text-align: right;\n    }\n</style>\n<table border=\"1\" class=\"dataframe\">\n  <thead>\n    <tr style=\"text-align: right;\">\n      <th></th>\n      <th>id</th>\n      <th>id_str</th>\n      <th>name</th>\n      <th>screen_name</th>\n      <th>location</th>\n      <th>description</th>\n      <th>url</th>\n      <th>entities</th>\n      <th>protected</th>\n      <th>followers_count</th>\n      <th>...</th>\n      <th>following</th>\n      <th>live_following</th>\n      <th>follow_request_sent</th>\n      <th>notifications</th>\n      <th>muting</th>\n      <th>blocking</th>\n      <th>blocked_by</th>\n      <th>translator_type</th>\n      <th>withheld_in_countries</th>\n      <th>USER</th>\n    </tr>\n  </thead>\n  <tbody>\n    <tr>\n      <th>0</th>\n      <td>2381004961</td>\n      <td>2381004961</td>\n      <td>Bob Tomato</td>\n      <td>katiekrywo</td>\n      <td>Theranos Bounce House</td>\n      <td>33.33% of the Better Read than Dead podcast wi...</td>\n      <td>None</td>\n      <td>{'description': {'urls': []}}</td>\n      <td>False</td>\n      <td>153</td>\n      <td>...</td>\n      <td>False</td>\n      <td>False</td>\n      <td>False</td>\n      <td>False</td>\n      <td>False</td>\n      <td>False</td>\n      <td>False</td>\n      <td>none</td>\n      <td>[]</td>\n      <td>littlefishsix</td>\n    </tr>\n    <tr>\n      <th>1</th>\n      <td>803564784</td>\n      <td>803564784</td>\n      <td>Alice Griffin</td>\n      <td>alicelgriff</td>\n      <td></td>\n      <td>metadata enthusiast // archives-focused // cur...</td>\n      <td>None</td>\n      <td>{'description': {'urls': []}}</td>\n      <td>False</td>\n      <td>196</td>\n      <td>...</td>\n      <td>False</td>\n      <td>False</td>\n      <td>False</td>\n      <td>False</td>\n      <td>False</td>\n      <td>False</td>\n      <td>False</td>\n      <td>none</td>\n      <td>[]</td>\n      <td>littlefishsix</td>\n    </tr>\n    <tr>\n      <th>2</th>\n      <td>287419237</td>\n      <td>287419237</td>\n      <td>maud</td>\n      <td>the_maudster</td>\n      <td></td>\n      <td>My grandpa's deck has no pathetic cards.\\n\\nsh...</td>\n      <td>None</td>\n      <td>{'description': {'urls': []}}</td>\n      <td>False</td>\n      <td>173</td>\n      <td>...</td>\n      <td>False</td>\n      <td>False</td>\n      <td>False</td>\n      <td>False</td>\n      <td>False</td>\n      <td>False</td>\n      <td>False</td>\n      <td>none</td>\n      <td>[]</td>\n      <td>littlefishsix</td>\n    </tr>\n    <tr>\n      <th>3</th>\n      <td>1315405655013044224</td>\n      <td>1315405655013044224</td>\n      <td>Simple But Gourmet</td>\n      <td>ButGourmet</td>\n      <td>Washington, DC</td>\n      <td>Working for a simple goal of providing everyon...</td>\n      <td>https://t.co/tChBW8nwho</td>\n      <td>{'url': {'urls': [{'url': 'https://t.co/tChBW8...</td>\n      <td>False</td>\n      <td>76</td>\n      <td>...</td>\n      <td>False</td>\n      <td>False</td>\n      <td>False</td>\n      <td>False</td>\n      <td>False</td>\n      <td>False</td>\n      <td>False</td>\n      <td>none</td>\n      <td>[]</td>\n      <td>littlefishsix</td>\n    </tr>\n    <tr>\n      <th>4</th>\n      <td>1265709252850544640</td>\n      <td>1265709252850544640</td>\n      <td>Flo Doval, Ph.D.</td>\n      <td>FloDoval</td>\n      <td>Salt Lake City, UT</td>\n      <td>Biophysicist, dog mom, she/her</td>\n      <td>None</td>\n      <td>{'description': {'urls': []}}</td>\n      <td>True</td>\n      <td>21</td>\n      <td>...</td>\n      <td>False</td>\n      <td>False</td>\n      <td>False</td>\n      <td>False</td>\n      <td>False</td>\n      <td>False</td>\n      <td>False</td>\n      <td>none</td>\n      <td>[]</td>\n      <td>littlefishsix</td>\n    </tr>\n    <tr>\n      <th>5</th>\n      <td>822606249988685824</td>\n      <td>822606249988685824</td>\n      <td>Sarah</td>\n      <td>chuckbanana</td>\n      <td>Manhattan, NY</td>\n      <td></td>\n      <td>None</td>\n      <td>{'description': {'urls': []}}</td>\n      <td>False</td>\n      <td>14</td>\n      <td>...</td>\n      <td>False</td>\n      <td>False</td>\n      <td>False</td>\n      <td>False</td>\n      <td>False</td>\n      <td>False</td>\n      <td>False</td>\n      <td>none</td>\n      <td>[]</td>\n      <td>littlefishsix</td>\n    </tr>\n    <tr>\n      <th>6</th>\n      <td>904931781597478912</td>\n      <td>904931781597478912</td>\n      <td>💕🦄👩🏻‍💻</td>\n      <td>l_i_n_d_</td>\n      <td></td>\n      <td></td>\n      <td>None</td>\n      <td>{'description': {'urls': []}}</td>\n      <td>True</td>\n      <td>599</td>\n      <td>...</td>\n      <td>False</td>\n      <td>False</td>\n      <td>False</td>\n      <td>False</td>\n      <td>False</td>\n      <td>False</td>\n      <td>False</td>\n      <td>none</td>\n      <td>[]</td>\n      <td>littlefishsix</td>\n    </tr>\n    <tr>\n      <th>7</th>\n      <td>2540380021</td>\n      <td>2540380021</td>\n      <td>二宮和也のおどるポンポコリン✩</td>\n      <td>secabotahyr</td>\n      <td></td>\n      <td>二宮和也のおどるポンポコリン画像をご紹介致します♪</td>\n      <td>None</td>\n      <td>{'description': {'urls': []}}</td>\n      <td>False</td>\n      <td>352</td>\n      <td>...</td>\n      <td>False</td>\n      <td>False</td>\n      <td>False</td>\n      <td>False</td>\n      <td>False</td>\n      <td>False</td>\n      <td>False</td>\n      <td>none</td>\n      <td>[]</td>\n      <td>littlefishsix</td>\n    </tr>\n    <tr>\n      <th>8</th>\n      <td>2499860808</td>\n      <td>2499860808</td>\n      <td>有岡大貴くんの画像だよ♡</td>\n      <td>ariari_picPic__</td>\n      <td></td>\n      <td>有岡君の画像あつめちゃいました(*´з`)いっぱい紹介するね♡</td>\n      <td>None</td>\n      <td>{'description': {'urls': []}}</td>\n      <td>False</td>\n      <td>256</td>\n      <td>...</td>\n      <td>False</td>\n      <td>False</td>\n      <td>False</td>\n      <td>False</td>\n      <td>False</td>\n      <td>False</td>\n      <td>False</td>\n      <td>none</td>\n      <td>[]</td>\n      <td>littlefishsix</td>\n    </tr>\n    <tr>\n      <th>9</th>\n      <td>739102795</td>\n      <td>739102795</td>\n      <td>Nina Grace</td>\n      <td>ninagracemusic</td>\n      <td>New York, NY</td>\n      <td>Singer/Songwriter. Animal Lover. Outdoor Enthu...</td>\n      <td>https://t.co/vzFXXrjAND</td>\n      <td>{'url': {'urls': [{'url': 'https://t.co/vzFXXr...</td>\n      <td>False</td>\n      <td>81</td>\n      <td>...</td>\n      <td>False</td>\n      <td>False</td>\n      <td>False</td>\n      <td>False</td>\n      <td>False</td>\n      <td>False</td>\n      <td>False</td>\n      <td>none</td>\n      <td>[]</td>\n      <td>littlefishsix</td>\n    </tr>\n    <tr>\n      <th>10</th>\n      <td>1029484662</td>\n      <td>1029484662</td>\n      <td>Aiger the Tiger</td>\n      <td>aigerthetiger</td>\n      <td></td>\n      <td></td>\n      <td>None</td>\n      <td>{'description': {'urls': []}}</td>\n      <td>False</td>\n      <td>11</td>\n      <td>...</td>\n      <td>False</td>\n      <td>False</td>\n      <td>False</td>\n      <td>False</td>\n      <td>False</td>\n      <td>False</td>\n      <td>False</td>\n      <td>none</td>\n      <td>[]</td>\n      <td>littlefishsix</td>\n    </tr>\n    <tr>\n      <th>11</th>\n      <td>389819510</td>\n      <td>389819510</td>\n      <td>Caroline Moore</td>\n      <td>bleuplaneteer</td>\n      <td>New York</td>\n      <td>Tug boat enthusiast and part-time practitioner...</td>\n      <td>None</td>\n      <td>{'description': {'urls': []}}</td>\n      <td>False</td>\n      <td>70</td>\n      <td>...</td>\n      <td>False</td>\n      <td>False</td>\n      <td>False</td>\n      <td>False</td>\n      <td>False</td>\n      <td>False</td>\n      <td>False</td>\n      <td>none</td>\n      <td>[]</td>\n      <td>littlefishsix</td>\n    </tr>\n    <tr>\n      <th>12</th>\n      <td>161125940</td>\n      <td>161125940</td>\n      <td>Jo Chiang</td>\n      <td>everjoslightly</td>\n      <td>Brooklyn, NY</td>\n      <td>storyteller, agitator. she/they. Follow For Mo...</td>\n      <td>https://t.co/h2lxhObKus</td>\n      <td>{'url': {'urls': [{'url': 'https://t.co/h2lxhO...</td>\n      <td>False</td>\n      <td>407</td>\n      <td>...</td>\n      <td>False</td>\n      <td>False</td>\n      <td>False</td>\n      <td>False</td>\n      <td>False</td>\n      <td>False</td>\n      <td>False</td>\n      <td>none</td>\n      <td>[]</td>\n      <td>littlefishsix</td>\n    </tr>\n    <tr>\n      <th>13</th>\n      <td>613450295</td>\n      <td>613450295</td>\n      <td>Barnard AmStud</td>\n      <td>BCamstud</td>\n      <td>New York, NY</td>\n      <td>Barnard College Program in American Studies, N...</td>\n      <td>http://t.co/3FjLMT8FvT</td>\n      <td>{'url': {'urls': [{'url': 'http://t.co/3FjLMT8...</td>\n      <td>False</td>\n      <td>451</td>\n      <td>...</td>\n      <td>False</td>\n      <td>False</td>\n      <td>False</td>\n      <td>False</td>\n      <td>False</td>\n      <td>False</td>\n      <td>False</td>\n      <td>none</td>\n      <td>[]</td>\n      <td>littlefishsix</td>\n    </tr>\n    <tr>\n      <th>14</th>\n      <td>282781858</td>\n      <td>282781858</td>\n      <td>JA Kassanoff</td>\n      <td>jkassanoff</td>\n      <td>New York, NY</td>\n      <td>Turn-of-twentieth-century American lit, Barnar...</td>\n      <td>None</td>\n      <td>{'description': {'urls': []}}</td>\n      <td>False</td>\n      <td>460</td>\n      <td>...</td>\n      <td>False</td>\n      <td>False</td>\n      <td>False</td>\n      <td>False</td>\n      <td>False</td>\n      <td>False</td>\n      <td>False</td>\n      <td>none</td>\n      <td>[]</td>\n      <td>littlefishsix</td>\n    </tr>\n    <tr>\n      <th>15</th>\n      <td>420971200</td>\n      <td>420971200</td>\n      <td>D.A. Swami</td>\n      <td>AvidSwami</td>\n      <td>Manhattan, NY</td>\n      <td>#occupymorningside\\r\\nThe era of change is upo...</td>\n      <td>http://t.co/0N5HZY3lVw</td>\n      <td>{'url': {'urls': [{'url': 'http://t.co/0N5HZY3...</td>\n      <td>False</td>\n      <td>13</td>\n      <td>...</td>\n      <td>False</td>\n      <td>False</td>\n      <td>False</td>\n      <td>False</td>\n      <td>False</td>\n      <td>False</td>\n      <td>False</td>\n      <td>none</td>\n      <td>[]</td>\n      <td>littlefishsix</td>\n    </tr>\n    <tr>\n      <th>16</th>\n      <td>195087362</td>\n      <td>195087362</td>\n      <td>White Collar</td>\n      <td>White_CollarFan</td>\n      <td>NY</td>\n      <td>An unofficial fan page for the USA Series Whit...</td>\n      <td>None</td>\n      <td>{'description': {'urls': []}}</td>\n      <td>False</td>\n      <td>6685</td>\n      <td>...</td>\n      <td>False</td>\n      <td>False</td>\n      <td>False</td>\n      <td>False</td>\n      <td>False</td>\n      <td>False</td>\n      <td>False</td>\n      <td>none</td>\n      <td>[]</td>\n      <td>littlefishsix</td>\n    </tr>\n    <tr>\n      <th>17</th>\n      <td>215078869</td>\n      <td>215078869</td>\n      <td>inceptionwips</td>\n      <td>inceptionwips</td>\n      <td></td>\n      <td>This account tracks Inception WIPs. To see the...</td>\n      <td>http://t.co/OgOZfJcW1L</td>\n      <td>{'url': {'urls': [{'url': 'http://t.co/OgOZfJc...</td>\n      <td>False</td>\n      <td>339</td>\n      <td>...</td>\n      <td>False</td>\n      <td>False</td>\n      <td>False</td>\n      <td>False</td>\n      <td>False</td>\n      <td>False</td>\n      <td>False</td>\n      <td>none</td>\n      <td>[]</td>\n      <td>littlefishsix</td>\n    </tr>\n    <tr>\n      <th>18</th>\n      <td>204584984</td>\n      <td>204584984</td>\n      <td>P. Sites</td>\n      <td>100PrizeSites</td>\n      <td>USA</td>\n      <td>Looking for great sites to win Amazon gift car...</td>\n      <td>http://t.co/NLXfDI7reN</td>\n      <td>{'url': {'urls': [{'url': 'http://t.co/NLXfDI7...</td>\n      <td>False</td>\n      <td>248</td>\n      <td>...</td>\n      <td>False</td>\n      <td>False</td>\n      <td>False</td>\n      <td>False</td>\n      <td>False</td>\n      <td>False</td>\n      <td>False</td>\n      <td>none</td>\n      <td>[]</td>\n      <td>littlefishsix</td>\n    </tr>\n  </tbody>\n</table>\n<p>19 rows × 49 columns</p>\n</div>"
     },
     "metadata": {},
     "execution_count": 4
    }
   ],
   "source": [
    "client.build_dataframe(username=username, data=followers, save=True)"
   ]
  },
  {
   "cell_type": "code",
   "execution_count": 5,
   "metadata": {},
   "outputs": [
    {
     "output_type": "stream",
     "name": "stdout",
     "text": [
      "\u001b[34mNetMap\u001b[m\u001b[m                      littlefishsix_followers.csv\ndataFigure.ipynb\n"
     ]
    }
   ],
   "source": [
    "!ls"
   ]
  },
  {
   "cell_type": "code",
   "execution_count": 6,
   "metadata": {},
   "outputs": [],
   "source": []
  },
  {
   "cell_type": "code",
   "execution_count": null,
   "metadata": {},
   "outputs": [],
   "source": []
  }
 ]
}