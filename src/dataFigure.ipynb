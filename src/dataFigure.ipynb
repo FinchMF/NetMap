{
 "metadata": {
  "language_info": {
   "codemirror_mode": {
    "name": "ipython",
    "version": 3
   },
   "file_extension": ".py",
   "mimetype": "text/x-python",
   "name": "python",
   "nbconvert_exporter": "python",
   "pygments_lexer": "ipython3",
   "version": "3.7.6"
  },
  "orig_nbformat": 2,
  "kernelspec": {
   "name": "python3",
   "display_name": "Python 3.7.6 64-bit ('base': conda)"
  },
  "interpreter": {
   "hash": "6ac79b1fdcb490579d7682732754f5f6cab407ac9f00894a844997adac3ef759"
  }
 },
 "nbformat": 4,
 "nbformat_minor": 2,
 "cells": [
  {
   "source": [
    "## Follower Functionality"
   ],
   "cell_type": "markdown",
   "metadata": {}
  },
  {
   "cell_type": "code",
   "execution_count": 1,
   "metadata": {},
   "outputs": [],
   "source": [
    "from NetMap import TwCli, Tools\n",
    "import random"
   ]
  },
  {
   "cell_type": "code",
   "execution_count": 2,
   "metadata": {},
   "outputs": [],
   "source": [
    "client = TwCli()\n",
    "username = 'joebiden'"
   ]
  },
  {
   "cell_type": "code",
   "execution_count": 3,
   "metadata": {
    "tags": []
   },
   "outputs": [
    {
     "output_type": "stream",
     "name": "stdout",
     "text": [
      "2021-06-21 23:39:19 [INFO] NetMap-Log -  Page: 0\n",
      "2021-06-21 23:39:19 [INFO] NetMap-Log -  Collected: ['ArslanH30962504', 'zefkr1624333105', 'WILSONMATTEOCA1', 'QADARMO17417017', 'John14817488', 'bwebbupfront', 'BeatriceBhee', 'ckvmo1624333062', 'FrankArtis5', 'Blue80504699', 'eSwLdN0EZ9vTJZu', 'berta83415099', 'Egg15934895', 'Ssblack996', 'Paa57390619', 'HemantY14424662', 'shourjyo007', 'iZw7juVj5O2CgdV', 'kalaekanan', 'Bachchu75885166', 'amritprakash007', 'AvalynDangelo', 'LalaYou39231208', 'Enzongo1', 'elguajeo73', 'zhjhc1624332962', 'DUDYALASREENIV4', 'KabirCh83288169', 'eehm281292', 'g_sungmin', 'MatiasMagela', 'BrodieMiriam1', 'arthomy_senore', 'SWeingberg', 'saifhdj', 'kkm520', 'fund_ijoba', 'RebellionHuman', 'colibri_nica', 'sandra23339010', 'ashar195', 'apipo1624332747', 'Heather08597923', 'Brannie92884970', 'ChetanK62419624', 'saquk1624332892', 'Mylesc4pc', 'Traceybless1', 'prpWLhh7LUJp3EN', 'Aryamm87502620', 'notyuagain', 'mohamma43590578', 'Kv6NqaTiQ3Nx2iU', 'AmandaB52992458', 'AbdulQa59426548', 'YULIZETH_CH', 'HugoMM04260414', 'Ellen_613', 'twittybirdgirl2', 'Kayleigh9w6', 'sokhenglem', 'KeteliBairros', 'Jose54673401', 'GriffinAJ2', 'SabrinaMcAlist6', 'RennaJohn80', 'TrangDo96850680', 'Sparaw55', 'Rayneuz1c', 'ismael_mjubah', 'SonuG334', 'Salem51598965', 'yy691335336', 'MrsWandaT', 'uvspn1624332656', 'aonwm1624332656', 'January028028', 'Mizanur88626569', 'Saibala29350193', 'boy_mariam', 'Wushouji1', 'haliyasch', 'anthonyimbasci2', 'air16563968', 'BhupendraBohora', 'Paige73162019', 'o_danielw', 'yukienvyme', 'Moshekgzl', 'BrileyOrtiz', 'KofiAma37209476', 'Zoz24994985', 'HonMohamedHass5', 'X23CAoyBYqQdE5L', 'Jatinde99872990', 'shakibh00177010', 'Reuben46885863', 'Goldie_Stocks', 'asdasda78911557', 'Cetortolero', 'BarryTangBT', 'lm_wright', 'GreensKao', 'RatheBrad', 'NizigiyimanaEp2', 'Tanishk23363513', 'xiaoyao666', 'AHINDUNational1', 'francess_wendy', 'iysuna1', 'maxkspear', 'AdamsZyasia', 'AlexFrozer', 'sim_wooseok', 'Dibyajy15013882', 'ShirWafa2', 'Thatboydavee', 'GilfoyleDotOrg', 'Mangeramjaglan2', 'NikollSalamanca', 'iamngoc845', 'Sandrajosephi17', 'Kevingu91418448', 'SamiBuzaglo', 'mendy36540540', 'yoseph64142333', 'NT_Dat_86', 'tomgorgolis', 'SusanGElizondo1', 'melody212333', 'Veronic03756290', 'MrDee45705907', 'cathyemanuel1', 'ShadowM11300248', 'Pravash16047420', 'JuJu41760064', 'Sabina21647908', 'babulal83488463', 'kennedyrhea3', 'BeckyPfeifer6', 'TreysSpider', 'anmol_jot_', 'PadraigDaniel', 'AshokGautam506', 'jorgeeulaliog', 'NicoleS83499618', 'GXiang0408', 'hisfavheaux', 'ych53011219', 'pvmarcondes', 'LopezJa60324695', 'ssemmamba', 'jackma74264089', 'ThiagoL52975474', 'Anthony89013050', 'FallenDays3', 'ArijitC69809696', 'Chancha29163403', 'SamSutorus', '872b949ab7414ee', 'CONGTYTKXDNAMP1', 'Richard54043707', 'Kamelha98351267', 'llumingzel', 'MaggieY72724743', 'EinstienAshiqur', 'Bebe11085604', 'LeahSky97972253', 'TheTammyLanier', 'tweetzbyhari', 'Thiha80554781', 'HimJones1911', 'account77204555', 'Janet07420042', 'ShlokaShah10', 'MohammadRKhan4', 'ABluBirdUser1', 'Chrispunk17', 'francis_alem', 'potadeer1', 'JayantK35530678', 'Mug7k', 'JhoanRoman7', 'melanie92048638', 'N0o0ova', 'MsNinja13', 'hannah09926146', 'WilliomJohnson', 'Aviannaqnvu', 'ZLEMCAFER2', 'alalejoshua36', 'CSV9wxFrQHXreJF', 'ganne81008567', 'TandelDhananja4', 'volar_volver', 'Chris_Carlsen', '2GagaBV9JbfhWF6', 'itsginas', 'XxxxBestie', 'Globalastro2'] \n",
      "\n",
      "2021-06-21 23:39:20 [INFO] NetMap-Log -  Page: 1\n",
      "2021-06-21 23:39:20 [INFO] NetMap-Log -  Collected: ['VivekKu51451192', 'Michell16546440', 'JKM84373580', 'Adeline9525', 'SKYLERB98345686', 'Jacob_797', 'muyu806', 'SpinsterBaron', 'FakeNameBuncha1', 'sofolfreelance1', 'Chimx24527982', '7ZEr82z9fg2PetJ', 'Fabianutbd', 'conesil', 'AbbasGori5', 'Sandhya79649645', 'Haren76417033', 'Bella40268587', 'GaneshSBade', 'Terrance85s', 'biiba54296711', 'Paytonv5m', 'BitchyfaceSays', 'SeemaJh33930953', 'v4singh2', 'vWO5XrcbkXRd7d8', 'Averyvjgy3', 'BakieCc', 'KpatchaYves', 'Allen24058454', 'laylay71133917', 'arnoldbjj', 'Marcocamas5gma1', 'ShwetaY39231662', 'Reganp96y', 'jawhar34201739', 'sadman06357519', 'Jeremiahs67j3', 'HiteshMalviya90', 'Edithi5n1s', 'DiazPao85', 'Journey3vxu', 'chawhanke', 'US09AlodolsuAfV', 'aaaaa1624331631', 'DULCEAG09350641', 'Jitendr00659901', 'Titan6ot2', 'Diamondk85w', 'Cristinaxep', 'Jennife26770178', 'linuxwise', 'Caroline8h5', 'Albert31473119', 'erbetta_hugo', 'BapinSelma', 'Raelyn85z9v', 'Jaxeny25dm', 'sburgosandeliz', 'CongKhaiNGUYEN1', 'BrownLatota', 'xyvyus', 'ManojDw94106476', 'Amirali08054340', 'arleybeltran19', 'HaydenDietric15', 'Mollyfup3', 'MJavid92', 'Serenityy4r', 'LiSaurabh', 'RakeshR73959521', 'Ariel82847021', '1c2oU5QkSaS5SU6', 'MariaLyira', 'hardy_makelele', 'emineminguneyg1', 'YvonneY86754219', 'Emmalee3jsoq', 'KabirAn36455739', 'DarshitSaiya13', 'Paloma7as22', 'tQg4NvOrP8JnCVb', 'juanant24809665', 'Raphaelvem', 'Dariusnfy', 'ZinGyi36027436', 'TriciaStachels4', 'Rihannaomset', 'SusanDa24024215', 'PBootlicker', 'EmmanuellaAki13', 'Urielvh01z', 'JohnshatlerA', 'Sattu_Jaat_Rlp_', 'The_Embraced', 'SteveBr09602984', 'mama_emmieg', 'Raynaw4x1', '3u7ANppZlsMh3w3', 'Nicolas0q2tp', 'MohamadSala75', 'Jonahr9o2c', 'Serat53352745', 'Rebeccaf3g', 'WzGqWHYCQnmZEQz', 'Gibsonm6q', 'Kourtneyikq3', 'DelBroberg', 'Bharath45422584', 'Raphaelpj7', 'Elliott9nou9', 'Jurnee9241x', 'Olivia72330653', 'Dravenxtf', 'Bryannaor1c7', 'Khalilb4n2b', 'kalyankangula', 'Violetlem', 'PremGil86133335', 'Elishawm9', 'Angelicak3scb', 'Abdishu82863693', 'QaisarKhattak18', 'Albertmika3', 'big_rango', 'j8PddjJwB6NL3j9', 'tyrion_zhang', 'Shirley66312801', 'welshcomrade', 'Azariahvl9x', 'HaldharPal', 'jana_musicart', 'bestchinanews', 'Lilith06626203', 'MaxRose15667422', 'Brandon68423439', 'MJAustin17', 'Apolllo49', 'abdul_mustaffa', 'qujunheng', 'Hela4Senator', 'Trinhquynhlinh7', 'DennisP08078538', 'SANTAAPOLONIA2', 'AsifNAZ01063664', 'Annette83123006', 'praveensiyak35', 'Dylan09536515', 'vincent_nzeh', 'Penny86270236', 'Edgard41738058', 'ClaudinhaFileh', 'rosanadiaz770', 'leonard_769', 'Irving97363883', 'Faith34736236', 'e032917', 'Richard77694241', 'Avneesh47559642', 'Sahilpr90692849', 'RoAlconada', 'shellygalla3', 'Piyushsabhani2', 'Youssou19397120', 'SBollea', 'DemamariaA', 'BharatChhapriya', 'hailey50431177', 'Ashu_2781', 'rico_katsumoto', 'looiqi', 'MargorieFuente5', 'aaaaa1624330911', 'BhambraPawan', 'marinet47376041', 'MDIvYa03737888', 'HasanAlMahmudA1', 'REINALDOGRA1', 'iZ8UhPpvxKvwyH9', 'aureliohnrqz', 'oneboring4', 'JiteshK78153688', 'ibrahem_marie', 'Cybershark6', 'hicom06492453', 'rai_mou', 'LewisJavier26', 'ahmetdo34048998', 'omarman43560945', 'aaaaa1624330906', 'rphasithapraba1', 'x132official', 'Karthic49969384', 'Lmayo99619662', 'jessica52659706', 'Stealth21894022', 'PialNaimur', 'cfRiRFAzzcO93BQ', 'Mandymarharris', 'Sobble82920759'] \n",
      "\n",
      "2021-06-21 23:39:21 [INFO] NetMap-Log -  Page: 2\n",
      "2021-06-21 23:39:21 [INFO] NetMap-Log -  Collected: ['Dhananj08834133', 'Penelop03494235', 'Zamaneeelliott1', 'Ali72142334', 'MulugetaMeles10', 'SachinC83244272', 'Railer02990194', 'trichyrizwan', 'wLyNg2', 'Jaspree28491581', 'AndyMaru3', 'JacksonPumpkin', 'brynnamax', 'Mubarik60893811', 'JeremyC77186288', 'Simon68060954', '1001Zanat', 'Tava31234459', 'LukeBry77282816', 'iamkhv', 'CharlestonWalk9', 'sachinsuryawan3', 'OmuSTeve', 'joynnashville', 'tnashspeaks', 'RonaldAbad20', 'GauravBrijwasi7', 'saifdar8545', 'Nuup20', 'bigstilla', 'souravk63637158', 'KayB39885739', 'MaraRam02045402', 'shahzar49', 'Ellenfanspage15', 'ksen12238787', 'AdrianaRubin5', 'GlezJolette', 'cutypottie', 'Jupiter35825493', 'jan_beumer', 'cyngood', 'katelynnglassc1', 'YoureNoJack', 'Osanpun7', 'gyami_eric', 'HarithaVaddadi', 'ShenSJ9', 'LegRemoval', 'AkaashFunky', 'game__kami', 'RavichandraSP1', 'CyrilleMuhongya', 'VenusdeAtena1', 'estz_z', 'imasavage83', 'danielflorezboy', 'Siddhan77653401', 'marsusbd', 'diannepryor4', 'Birendr83964154', 'yizuz143', 'Bozzam', 'kamalth84667269', 'harger_herbert', 'V350IOvRg5tpeJs', 'Jeffo6Jeff', 'bNc7yJ5wCv6akE6', 'LegitZit', 'tq3scmxgclxyng', 'BiriXala', 'GarenCollinsII7', 'Sandeep57443436', 'GAURAVRAVINDRA1', 'itaiwanla', 'NguynThNhiBnh1', 'India32000395', 'potterzou', 'Cameroncool19', 'SayedMurtazaS10', 'javon28495515', 'Chandan86527127', 'NazzyFrom', 'KaramoC02256348', 'JonathanThibea5', 'AnishSo06776183', 'AugustineNadim2', 'yogeswaran_001', 'MariaPTurnerEs1', 'dangvanvuong13', 'Rohitsa57179061', 'MuhdYusram', 'MxMac3', 'Munna__Ansari', 'RahmanMdazad', 'CartisanoCatie', 'RhondaHeflin3', 'WuWoody5', 'RachaelGore8', 'yuwonderful', 'SolahHu02406223', 'David08850047', 'AinsOoalGown420', 'DelusionPrime', 'Sal19387537', 'Burn68485397', 'kosh_alaa', 'ValerieSays2', 'ScarlettBertaa', 'Molonla32520620', 'KumarAlok1982', 'sensen72669698', 'thunderedinlate', 'ben28064226', 'Sukhwin17675032', 'GiuliaS84275261', 'pravesh_agrawal', 'RiyanPa59592213', 'Sahil17452582', 'WencongR', 'BoiLimpid', 'baco_palm', '1Hd5i8u3AQgpbWj', 'KhimMira1', 'Fernand14916990', '_bretslater', 'AKHENATOBI', 'hakkanoodles7', 'EricSch06594521', 'Byi2i27PF58NeVe', 'peter33060461', 'ErSHYAMKUMAR10', 'PCromie', 'RayLynn08524938', 'KennyChege4', 'Nashanti2C', 'cristobalmoli_1', 'bagya_aminu', 'Peterpe25512494', 'LuigiAgostini15', 'ChanChiKong12', 'minter_sr', 'HairstonDemond', 'RSvg18', 'muhannadkhattab', 'Rishabh60364593', 'jebus98165272', 'AishaAlbar', 'Avinash30669435', 'ShantoSharbon', 'RahulKu81304414', 'MareschRachel', 'cowboytoe2021', 'Melissa69927840', 'Brownwo70946384', 'KevinMo99797640', 'sam37989659', 'georgeajacob', 'mayabgonzalez', 'LuisMar10152742', 'MitalieSharma', 'vTxvacuhZLDhlq5', 'HamidouAnne11', 'Teofiloalvarad8', 'bhojraj_borkar', 'ihuman12', 'aaaaa1624329792', 'CharliJulander', 'TARAH80351504', 'Abulbas68539940', 'Virgini61337956', 'GersonSamaniega', 'RickBirnan', 'Sukhjin08424372', 'sarozz', 'Nimasla2', 'Independent7773', 'amtaugust', 'SyahmiMirza1', 'RoyaleUnite', 'yrkdrdr5', 'jessicaigel0', 'MatheusZappite1', 'Peque14894092', 'vivianf40358954', 'KyleQuan4', 'AnkitKaliraman8', 'SunsetRainbow6', 'jwjfiwhdvs', 'shumr8', 'SahitiM_', 'SaritaG02860056', 'waseema33273132', 'lucho112', 'ricky_prescott', 'ficheallaigh', 'DoloresMatting4', 'lemonok6', 'FoXiDoggie', 'Sylvest81904888'] \n",
      "\n",
      "2021-06-21 23:39:22 [INFO] NetMap-Log -  Page: 3\n",
      "2021-06-21 23:39:22 [INFO] NetMap-Log -  Collected: ['KaelaUrfav', 'NickKid12384573', 'dandu_nithya', 'GaganpreetMour', 'cbleech_wright', 'masembegeorge', 'BleierChantal', 'AvijitLaha14', 'rehfgir', 'AsifHasanTomal4', 'Flizzle32', 'Shubha98162702', 'SameerD59182286', 'MwalimuOndieki2', 'ruthaliagav', 'TrnVnHi96916992', 'lydiaewing34', 'kaiserbastard', 'Politicsisdumb3', 'MoloiMabale', 'Valenti38576363', 'Estela0000001', 'Sadiq30376057', 'PriyranjanMish1', 'MehulPa96189278', 'ljyqan', 'NguynPh80180563', 'kiiiiii50210018', 'cursedtoeatshit', 'MilagroGodoy7', 'FahmidaHamid11', 'tkuff', 'Balramchawla2', 'Arthur02715', 'DayaSha50814306', 'PmNCZ2EABy1EypA', 'BidyasagarShar2', 'NewDoris3', 'Cristhi83965347', 'wenndhdz', 'neverboltnever', 'nesa_mir', 'xieyidian1', 'Joshua69018133', 'kainanchou', 'KorosCherono', 'pingsheep2', 'GrossGirlsOnly', 'Chandan45695397', 'GeorginaBerbari', 'gbaray12', 'LaClau23503186', 'HarshSo69834558', 'Zion11797403', 'Nadeemsharif96', 'leo73166979', '21Trh', 'o99812224', 'AlexisW58620651', 'PMkirE', 'amazing07154764', 'Aziz12635093', 'Amoda_india', 'Patrici55915340', 'wangzhe62847422', 'Melony82888664', 'MCW94689042', 'nsfwvanz', 'J23009730', 'intotechcomp', 'ensom20', 'Jennife55195944', 'HarshYa41191728', 'Rajat95816641', 'Suguru_Zhou', 'Bjorling5', 'sage07032115', 'NathanKidima', 'JAYPRAK12064009', 'ReligiosaDel', 'KalpanaVeerara1', 'AmmarEldezel', 'kris_haagenson', 'KeremCe60090260', 'IZALDIN_', 'tigerlove031', 'marrielauw', 'qJh09iAQ1YNIWFZ', 'merlinchel', 'DeniseC50450745', 'Smalarvizhi8', 'AdrarYanis1', '0x0x35016709', 'LaurenTillotso3', 'l67126285', 'JuanDan45551185', 'yashikagupta014', 'theOG_oliviaG', 'DavinderHardeep', 'baduwal_indra', 'sachin82699608', 'grace_exiline', 'you_toaru', 'cheikhg86775044', 'kittah16', 'tatalapo48', 'marketfreshmak1', 'pkrout99', 'ZiQ2jeGvUOjQoLv', 'zhifeng_sun', 'OTV9ETuO1AcUtAq', 'MohsinI00442027', 'LKodakh', 'Kayleigh1qc5c', 'Cole47138880', 'swichstyle', 'nLluVakpvEO47aP', 'prasant17445221', 'Andreza74383526', 'MelodyBoateng5', 'Kris40219179', 'sysufzh', 'WingardMikell', 'J3nt4ur', 'LoganPh02910583', 'RNLoveMyJob1', 'j1akakHeV5Wia2H', 'ginalev05161239', 'GonzaloGavila17', 'natasacola', 'bj35637223', 'DhifallahMouadh', 'cloudyriri', 'JoshuaK64729212', 'Jaydeep68306246', 'sazam1578', '2q4IaWyLWsj8Mzy', 'JohnDemir4', 'Nandhucruze', 'CaioLimaGonalv1', 'six2sixdude', 'Marina25isa', 'BB00tz', 'paigievans', 'housheng6226', 'vlayike', 'ZiGv35o1K7YMw3t', 'sono_io_jenwel_', 'dariya36945522', 'ThiHuy75651491', 'maoguohui', 'raquelfre', 'StarWalkersFdn', 'hayden84775583', 'sponge2630', 'Vira33634087', 'DorothyEubank16', 'sidneyswim', 'Stacey88706647', 'mandeepjune2006', 'JaimeSantanaPa2', 'aaaaa1624328526', 'KuknaParmeshwer', 'izzo_richard', 'JAlexan26550183', 'politicaliberaI', 'ChiragVaidya', 'denisse31029352', 'ihategayfaggots', 'HooWa0820', 'KatieJo99548429', 'nazan23', 'GeiRaccoon', 'JumboRomelA', 'shanayah_owusu', 'yaghubi_amir', 'JanNat99047067', 'NCibrone', 'Jean65895365', 'SomraiMandi', 'dJwmoA4xVULYxZ6', 'Intakha06633632', 'HGulyah', 'Alhassa57711430', 'eric19412577', 'kuteng_4869', 'CrispenSamutete', 'StephenJamesBD1', 'NaufragoUribe', 'zry35808346', '79Danes', 'yuhao_zou', 'AdeeshaTiran', 'LizuPattanaik', 'DrJeanLefebvre', 'MygOF3QKBJLzlUS', 'rohitchoubey21', 'katie99445874', 'Samanth16671219', 'Jok79098794'] \n",
      "\n",
      "2021-06-21 23:39:23 [INFO] NetMap-Log -  Page: 4\n",
      "2021-06-21 23:39:23 [INFO] NetMap-Log -  Collected: ['AhmedSa90835904', 'cocoUM3', 'SwanHte70883272', 'mickaelespindo3', 'jumaSulaiman13', 'OdaatRocks', 'bailey_keintz', 'GeisaHaitman', 'SaadKhanGhauri', 'HollywoodHillsM', 'arpitgupta536', 'VanaySingh5', 'james54790337', 'Alberto40288814', 'meheeyai', 'TrentLane20', 'RobertPolynice', 'HarisEhtesham', 'KaytlenHelms1', 'TripureshShuk15', 'blsilva10', 'Amayrany999', 'haylie50405485', 'Drijazkhan15', 'SunnyZh69005566', 'NayeliEspinal5', 'MatelaTc', 'ZarnaSurti', 'Ale70113721', 'Florenc61872890', 'Betsy_Gamez3', 'WebIdeaUS1', 'EdieHaab', 'Anjali89818189', '5rBMxlh0GWegMOm', 'NewRomeTimes', 'sessie01', 'Manikum83270337', 'Alicia19417834', 'yuanstar4', 'Alpha56333382', 'kate_linez', 'RUBALSHAHPURI', 'KgfMaurya', 'MadFDScientist', 'NBunchhou', 'AbsarTanmoy', 'Rebecca36981490', 'voiceof99243940', 'paJEP5eUx1cgfYa', 'VitoriaKalica', 'AjenifujaOla', 'polecatty', 'monnachil', 'F1233211234567', 'Hima01445675', 'GotteroPabloGui', 'CarlinSteere', 'Sukhpre56813050', 'Kelly56479941', 'RyooSeon', 'Beni08048437', 'LYT78212629', 'joseolga3', 'ThangaiyanP1', 'Rajnish84207236', 'papalockratin', 'DhruvPrabhu4', 'AndCanceller', 'MichaelSongJH1', 'YANGQIA96548016', '9Elshanawany', 'imgoodb49330571', 'keshawn95817530', 'Jko3CoagYDSrMOh', 'zhanglinna1206', 'pursuant2mm', 'JoeDue6', 'RonaldCares7', 'AmyChiu18079314', 'b9LMuj3bNAKbkVM', 'Pankaj89433703', 'Mekenaytigrwoi1', 'BeeHourigan', 'SarahisShock', 'Kimscheel3', 'itakilasara66', 'jack57871182', 'krislee34927053', 'Johnnyxan5', 'patty16110924', 'ember_pm', 'esso_the', 'Leonard01839787', 'BataanHost', 'CarolinaJibelys', 'RakeshNPatel17', 'DulceIsabeldel2', 'RiteshD65802967', 'Dani_LSandoval', 'xzpkpower', 'DanaeMWolfe', 'CodersHola', 'DharmaR00442944', 'harger_julie', 'GudeTulasinath', 'Sarah59321575', 'psychicservice4', 'MaggieDriscoll8', 'hernandez7_tony', 'MoussaDiepkile2', 'LLinh69035608', 'ArbiAnjum', 'manojku24453152', 'I_ri1114', 'J7QVnNTgy6RPLR8', 'mrSilen90669015', 'Dorothy17735982', 'TheOtherBooth', 'ankoor5', 'chrisbonne4', 'RoshaniPayam', 'O9yG3cCu4bMEnSy', 'Jayon75601540', 'ItitaHerrera', 'JohnShi54693954', 'jiaw71766', 'ClaytonVoignier', 'Jileah16', 'LuaBerger', 'AprilVandevand1', 'LmTon20179366', 'rosuelo2k', 'viva_le_ri', 'Saurabh21930277', 'AlhajiI49269346', 'aaaaa1624327172', 'saideekshith7', '74Mikaeil', 'williamsharksh1', 'Kingjames2218', 'znOBbitBGnpCYrK', 'Antwood33', 'aimeedujour', 'dejesus_damaris', 'peggierose16', 'SahilMa62378490', 'Bubloiz2308', 'KassRm19', 'LaloMp8', 'Yaser84673903', 'Alihabi41984844', 'puputtt63852299', 'AnayaMoreno4', 'Josede_Carlosc5', 'DavidOc94293032', 'staceyq43898597', 'veronic32958912', 'ChasinJulio', 'Brenda72978473', 'M22988997', 'GalardoMacron', 'MNn0cent', 'KauloGabriel', 'PrivLook', 'TheGGoblin1', 'Domingo98845599', 'dropaoopkam', '_Arlyn___', 'AshGagliardi', 'TinitsonM', 'raereyes10', 'Deepak07128549', 'DanP69', 'Manoj10011579', 'quetalfm', 'Sandeep_0002', 'ncw851011', 'elvinsalguero6', 'DeDiamelis', 'TRunaas', 'andree_uriel', 'BobY63391289', 'nfrfpbRcxv9i8f4', 'abbytracie2', 'JorgeHiguerey', 'JennyHum2', 'Moises47438627', 'Cyto1400', 'Mars15334659', 'DBelladere', 'bayratis', 'Gabriel05363124', 'MAROPENGLibera1', 'BhekiMasina9', 'WElkarn', 'Pame334', 'JoshuaG11967341', 'hasnai_mohammed', 'Jesus58677239'] \n",
      "\n"
     ]
    }
   ],
   "source": [
    "followers = client.get_user_followers(username=username, records=5)"
   ]
  },
  {
   "cell_type": "code",
   "execution_count": 4,
   "metadata": {},
   "outputs": [],
   "source": [
    "followers_df = client.build_followers_dataframe(username=username, data=followers, save=False)"
   ]
  },
  {
   "cell_type": "code",
   "execution_count": 5,
   "metadata": {},
   "outputs": [],
   "source": [
    "selected_followers = Tools.choose_random_accounts(followers=list(followers_df.screen_name), num_accounts=10)"
   ]
  },
  {
   "cell_type": "code",
   "execution_count": 6,
   "metadata": {},
   "outputs": [
    {
     "output_type": "execute_result",
     "data": {
      "text/plain": [
       "['SusanDa24024215',\n",
       " 'Balramchawla2',\n",
       " 'Jatinde99872990',\n",
       " 'Chimx24527982',\n",
       " 'AdamsZyasia',\n",
       " 'SarahisShock',\n",
       " 'Jayon75601540',\n",
       " 'MargorieFuente5',\n",
       " 'sachin82699608',\n",
       " 'Peterpe25512494']"
      ]
     },
     "metadata": {},
     "execution_count": 6
    }
   ],
   "source": [
    "selected_followers"
   ]
  },
  {
   "cell_type": "code",
   "execution_count": 7,
   "metadata": {},
   "outputs": [
    {
     "output_type": "stream",
     "name": "stdout",
     "text": [
      "2021-06-21 23:39:40 [INFO] NetMap-Log -  Page: 0\n",
      "2021-06-21 23:39:40 [INFO] NetMap-Log -  Collected: ['wallacemaxwell7', 'wolfgordonpack'] \n",
      "\n",
      "2021-06-21 23:39:41 [INFO] NetMap-Log -  Page: 0\n",
      "2021-06-21 23:39:41 [INFO] NetMap-Log -  Collected: ['AshishK75670684', 'Rahulpatidar526', 'JagseerKashyap', 'NarayanGuajar1', 'Miss_Geetika', 'Shubham76191588', 'Kishori89015018', 'ChitraArya6', 'Sanjeev06028419', 'hemant_k_gavel', 'Vandnadassi', 'Real__mili', 'Anshulnamdv6', 'Komal52798316', 'RohitSi75767265', 'PP23329954', 'SweetySuryavan1', 'iamdeepakmaran1', 'SanamSh64701740', 'Priyank24843301', 'Deepahirwar5555', 'iampritika1', 'Chandri46192031', 'd5gamDDjQt5rF4w', 'PoojaPa41237599', 'malik__ka_das', 'DpPatel62087563', 'RSVerma84082174', 'VivekDa40751329', 'Priyank19570020', 'PriyaSa22298244', 'PoojaNargawe2', 'SunilDh68552279', 'Niteen17972822', 'MuskanKhichi3', 'SanjayA40377509', 'jivanti_jadon', 'Chhotu963037', 'khanalng5', 'Sanjeev37771966', 'UdayDas82505958', 'bhati_losal', 'Jay_Sat_Kabir', 'Pooja76825377', 'ShantiD89914645', 'RenuDas36166629', '_Priya_Bairagi', 'Santosh53648944', 'cJh1mUGA102UiFU', 'arunkumarckt', 'KapilDh42311165', 'RatanDasRatanD5', 'lalita_kalawat', 'ChoutiDasi', 'UdayDas74413149', 'PoojaCh63316344', 'Jagriti2000', 'Amulyamoharana3', 'dasvirendra09', 'RinkuCh79507856', 'Sonu18529567', 'HariimPatel', 'Ram12057807', 'babluda60255893', 'NitishNitishNi1', 'Ram44063944', 'PremDas33842208', 'PremKum39781564', 'savitasuryavan3', 'Amritamp1', 'RamgopalDaas4', 'neha_kabira', 'LavYadav_', 'Yogeshc20057782', 'GgKshwh1', 'KAPILRA74169853', 'AjeetTalk', 'MukeshK95142790', 'Poojapatel8269', 'Real_god02', 'JyotiPr35318273', 'BrajkisoreD', 'ChandreshK_', 'Jageshw83642789', 'GarimaK53752064', 'mela_das', 'Anamika61931779', 'KirpalDas15', 'Jagatra62052687', 'BishalB80010958', 'ashi9988', 'rtipratapgarh', 'MDaas12', 'Masarat33017684', 'kkdasi', 'priyapa04546040', 'sapna_111', 'AnkushJindal100', 'Mohit86339088', 'CynthiaJamilah', 'PRAJAPATIK164', 'ROHIT08556157', 'BhavnaShakya4', 'deepti233', 'RamDula03011692', 'GirishTapodhan', 'VijayRathore97', 'VishalD32247916', 'AhsanAl75756050', 'jitendramehla', 'JyotiDasiA1', 'W3Mirchi', 'Satlok111', 'sakkugrewal', 'saritanamdev12', 'Satlok333', 'Kushal46945391', 'pramodkumarbhas', 'Patel_Disha79', 'DeepakC00463978', 'mehradei123', 'KabirPrakatDiws', 'shajadikhan147'] \n",
      "\n",
      "2021-06-21 23:39:42 [INFO] NetMap-Log -  Page: 0\n",
      "2021-06-21 23:39:42 [INFO] NetMap-Log -  Collected: ['RajeshK85909994', 'ReporterDinesh6', 'PANKAJS20649622', 'PuneetDalal6', 'Lovelysanipuriy', 'lotey_sharan', 'ps_mundra', 'dhanoa_gsd', 'jagroopsinghkh4', 'SurinderCheem20', 'Khalsa03395209', 'gurpree29696326', 'dalalpuneet21g1', 'TwitMasterGOGO', 'DHILLON21196292', 'JarnailSomal', 'AkkuHarbans', 'Amry11429579', 'Mangat80Mangat', 'JusticeGroup', 'SpsShanty', 'AviGill51728215', 'jaspree60175076', 'NagraMonty', 'RajeshV36292066', 'dhillon22ji65', 'SatnamS62108422'] \n",
      "\n",
      "2021-06-21 23:39:43 [INFO] NetMap-Log -  Page: 0\n",
      "2021-06-21 23:39:43 [INFO] NetMap-Log -  Collected: ['kemar_young'] \n",
      "\n",
      "2021-06-21 23:39:44 [INFO] NetMap-Log -  Page: 0\n",
      "2021-06-21 23:39:44 [INFO] NetMap-Log -  Collected: ['pb_RJR_photo', 'kellygiggles', 'BridgetMaryFitz', 'BelgerJack', 'JoeAndie1', 'noel_cervantez', 'Jonathangrice19', 'tanzaniaclark17', 'SymoneeFrancess', 'GeorgiaMeximo', 'DianahBethel', 'cinnic247', 'WAQARALAMLIVE', 'stokesarts', 'DylanHa75475599', 'Haironizam8480', 'ms0790016', 'zailoki448', 'INFJ__4', 'jo69___', 'bae____69', 'flimved', 'hippiezs', 'ilewminati_', 'muhjumat', 'OdumadeEsther', 'rjrartsfestival', 'HiddlesNinjas', 'kelvinkhanh38', 'HannahGrunstein', 'AFunderburkArt', 'JCWilliamsphoto', 'afatma97', 'RUSTY58222221', 'armyofloki', 'ahsfanon', 'EssentialDrWho', 'DoctorWho_Today', 'AlaskaToyBox', 'HiddleGoddesses', 'Pitoon15', 'Loki_Lego', 'PaulCostabile', 'hiddlestonsarmy', 'sonja_hopkins', 'klane45413', 'TheDefenders_TV', 'MathewSnipes', 'lifeafterflash', 'artistejbeach', 'quesi__', 'vsw_', 'autumnbanner'] \n",
      "\n",
      "2021-06-21 23:39:45 [INFO] NetMap-Log -  Page: 0\n",
      "2021-06-21 23:39:45 [INFO] NetMap-Log -  Collected: ['Midas20978889', 'DJWatkins22', 'marknoll15'] \n",
      "\n"
     ]
    }
   ],
   "source": [
    "followersDf = Tools.collect_randomly_chosen(selected_followers=selected_followers, client=client)"
   ]
  },
  {
   "cell_type": "code",
   "execution_count": 13,
   "metadata": {},
   "outputs": [
    {
     "output_type": "execute_result",
     "data": {
      "text/plain": [
       "                     id               id_str  \\\n",
       "0   1254550254512295937  1254550254512295937   \n",
       "1             392339135            392339135   \n",
       "0   1094503606190002176  1094503606190002176   \n",
       "1   1399963104071409668  1399963104071409668   \n",
       "2   1384684882249404566  1384684882249404566   \n",
       "..                  ...                  ...   \n",
       "51             40964818             40964818   \n",
       "52            110003913            110003913   \n",
       "0   1393272371612733445  1393272371612733445   \n",
       "1            2485422353           2485422353   \n",
       "2              49250791             49250791   \n",
       "\n",
       "                                name      screen_name            location  \\\n",
       "0                    wallace maxwell  wallacemaxwell7                       \n",
       "1   Roberta Zais \"LiberateWisconsin\"   wolfgordonpack  Merrill, Wisconsin   \n",
       "0                       Ashish Kumar  AshishK75670684         Satlok Dham   \n",
       "1                      Rahul Patidar  Rahulpatidar526    Neemuch MP India   \n",
       "2                  🇮🇳𝙹𝙰𝙶𝚂𝙴𝙴𝚁 𝚂𝙸𝙽𝙶𝙷❤️   JagseerKashyap   🏳️‍🌈Navodaya 🏳️‍🌈   \n",
       "..                               ...              ...                 ...   \n",
       "51                     V.S. Williams             vsw_                       \n",
       "52                     Autumn Banner     autumnbanner                       \n",
       "0        lets Talk money with Ashley    Midas20978889   Pennsylvania, USA   \n",
       "1                      DJ Watkins Jr      DJWatkins22     New Jersey, USA   \n",
       "2                          Mark Noll       marknoll15                       \n",
       "\n",
       "                                          description  \\\n",
       "0      single man,looking for friendship.#Jesus lover   \n",
       "1   #WeThePeople #FuckYourFeelings #ScrewBeingPC #...   \n",
       "0                      Kabir is supreme god\\n🙏🙏🙏🙏🙏🙏🙏🙏   \n",
       "1                           ।। सतगुरु अपना साथी है ।।   \n",
       "2                                   100% follow back.   \n",
       "..                                                ...   \n",
       "51  (she/her) Seeking liberation--for self & other...   \n",
       "52                                                      \n",
       "0   Welcome to Talk Money. An investing forum and ...   \n",
       "1                                           6’1 G ‘23   \n",
       "2                                                       \n",
       "\n",
       "                        url  \\\n",
       "0                      None   \n",
       "1                      None   \n",
       "0                      None   \n",
       "1                      None   \n",
       "2   https://t.co/ug4grM1iqQ   \n",
       "..                      ...   \n",
       "51                     None   \n",
       "52                     None   \n",
       "0                      None   \n",
       "1                      None   \n",
       "2                      None   \n",
       "\n",
       "                                             entities  protected  \\\n",
       "0                       {'description': {'urls': []}}      False   \n",
       "1                       {'description': {'urls': []}}      False   \n",
       "0                       {'description': {'urls': []}}      False   \n",
       "1                       {'description': {'urls': []}}      False   \n",
       "2   {'url': {'urls': [{'url': 'https://t.co/ug4grM...      False   \n",
       "..                                                ...        ...   \n",
       "51                      {'description': {'urls': []}}      False   \n",
       "52                      {'description': {'urls': []}}      False   \n",
       "0                       {'description': {'urls': []}}      False   \n",
       "1                       {'description': {'urls': []}}      False   \n",
       "2                       {'description': {'urls': []}}      False   \n",
       "\n",
       "    followers_count  ...  follow_request_sent  notifications muting  blocking  \\\n",
       "0                11  ...                False          False  False     False   \n",
       "1               576  ...                False          False  False     False   \n",
       "0               791  ...                False          False  False     False   \n",
       "1               213  ...                False          False  False     False   \n",
       "2              2088  ...                False          False  False     False   \n",
       "..              ...  ...                  ...            ...    ...       ...   \n",
       "51              734  ...                False          False  False     False   \n",
       "52               14  ...                False          False  False     False   \n",
       "0               135  ...                False          False  False     False   \n",
       "1                53  ...                False          False  False     False   \n",
       "2               132  ...                False          False  False     False   \n",
       "\n",
       "   blocked_by translator_type  withheld_in_countries             USER  \\\n",
       "0       False            none                     []  SusanDa24024215   \n",
       "1       False            none                     []  SusanDa24024215   \n",
       "0       False            none                     []    Balramchawla2   \n",
       "1       False            none                     []    Balramchawla2   \n",
       "2       False            none                     []    Balramchawla2   \n",
       "..        ...             ...                    ...              ...   \n",
       "51      False            none                     []     SarahisShock   \n",
       "52      False            none                     []     SarahisShock   \n",
       "0       False            none                     []    Jayon75601540   \n",
       "1       False            none                     []    Jayon75601540   \n",
       "2       False            none                     []    Jayon75601540   \n",
       "\n",
       "                                               status  \\\n",
       "0                                                 NaN   \n",
       "1   Status(_api=<tweepy.api.API object at 0x7f8aa0...   \n",
       "0   Status(_api=<tweepy.api.API object at 0x7f8aa0...   \n",
       "1   Status(_api=<tweepy.api.API object at 0x7f8aa0...   \n",
       "2   Status(_api=<tweepy.api.API object at 0x7f8aa0...   \n",
       "..                                                ...   \n",
       "51  Status(_api=<tweepy.api.API object at 0x7f8aa0...   \n",
       "52  Status(_api=<tweepy.api.API object at 0x7f8aa0...   \n",
       "0   Status(_api=<tweepy.api.API object at 0x7f8aa0...   \n",
       "1   Status(_api=<tweepy.api.API object at 0x7f8aa0...   \n",
       "2   Status(_api=<tweepy.api.API object at 0x7f8aa0...   \n",
       "\n",
       "                                   profile_banner_url  \n",
       "0                                                 NaN  \n",
       "1   https://pbs.twimg.com/profile_banners/39233913...  \n",
       "0   https://pbs.twimg.com/profile_banners/10945036...  \n",
       "1   https://pbs.twimg.com/profile_banners/13999631...  \n",
       "2   https://pbs.twimg.com/profile_banners/13846848...  \n",
       "..                                                ...  \n",
       "51  https://pbs.twimg.com/profile_banners/40964818...  \n",
       "52                                                NaN  \n",
       "0   https://pbs.twimg.com/profile_banners/13932723...  \n",
       "1   https://pbs.twimg.com/profile_banners/24854223...  \n",
       "2                                                 NaN  \n",
       "\n",
       "[209 rows x 49 columns]"
      ],
      "text/html": "<div>\n<style scoped>\n    .dataframe tbody tr th:only-of-type {\n        vertical-align: middle;\n    }\n\n    .dataframe tbody tr th {\n        vertical-align: top;\n    }\n\n    .dataframe thead th {\n        text-align: right;\n    }\n</style>\n<table border=\"1\" class=\"dataframe\">\n  <thead>\n    <tr style=\"text-align: right;\">\n      <th></th>\n      <th>id</th>\n      <th>id_str</th>\n      <th>name</th>\n      <th>screen_name</th>\n      <th>location</th>\n      <th>description</th>\n      <th>url</th>\n      <th>entities</th>\n      <th>protected</th>\n      <th>followers_count</th>\n      <th>...</th>\n      <th>follow_request_sent</th>\n      <th>notifications</th>\n      <th>muting</th>\n      <th>blocking</th>\n      <th>blocked_by</th>\n      <th>translator_type</th>\n      <th>withheld_in_countries</th>\n      <th>USER</th>\n      <th>status</th>\n      <th>profile_banner_url</th>\n    </tr>\n  </thead>\n  <tbody>\n    <tr>\n      <th>0</th>\n      <td>1254550254512295937</td>\n      <td>1254550254512295937</td>\n      <td>wallace maxwell</td>\n      <td>wallacemaxwell7</td>\n      <td></td>\n      <td>single man,looking for friendship.#Jesus lover</td>\n      <td>None</td>\n      <td>{'description': {'urls': []}}</td>\n      <td>False</td>\n      <td>11</td>\n      <td>...</td>\n      <td>False</td>\n      <td>False</td>\n      <td>False</td>\n      <td>False</td>\n      <td>False</td>\n      <td>none</td>\n      <td>[]</td>\n      <td>SusanDa24024215</td>\n      <td>NaN</td>\n      <td>NaN</td>\n    </tr>\n    <tr>\n      <th>1</th>\n      <td>392339135</td>\n      <td>392339135</td>\n      <td>Roberta Zais \"LiberateWisconsin\"</td>\n      <td>wolfgordonpack</td>\n      <td>Merrill, Wisconsin</td>\n      <td>#WeThePeople #FuckYourFeelings #ScrewBeingPC #...</td>\n      <td>None</td>\n      <td>{'description': {'urls': []}}</td>\n      <td>False</td>\n      <td>576</td>\n      <td>...</td>\n      <td>False</td>\n      <td>False</td>\n      <td>False</td>\n      <td>False</td>\n      <td>False</td>\n      <td>none</td>\n      <td>[]</td>\n      <td>SusanDa24024215</td>\n      <td>Status(_api=&lt;tweepy.api.API object at 0x7f8aa0...</td>\n      <td>https://pbs.twimg.com/profile_banners/39233913...</td>\n    </tr>\n    <tr>\n      <th>0</th>\n      <td>1094503606190002176</td>\n      <td>1094503606190002176</td>\n      <td>Ashish Kumar</td>\n      <td>AshishK75670684</td>\n      <td>Satlok Dham</td>\n      <td>Kabir is supreme god\\n🙏🙏🙏🙏🙏🙏🙏🙏</td>\n      <td>None</td>\n      <td>{'description': {'urls': []}}</td>\n      <td>False</td>\n      <td>791</td>\n      <td>...</td>\n      <td>False</td>\n      <td>False</td>\n      <td>False</td>\n      <td>False</td>\n      <td>False</td>\n      <td>none</td>\n      <td>[]</td>\n      <td>Balramchawla2</td>\n      <td>Status(_api=&lt;tweepy.api.API object at 0x7f8aa0...</td>\n      <td>https://pbs.twimg.com/profile_banners/10945036...</td>\n    </tr>\n    <tr>\n      <th>1</th>\n      <td>1399963104071409668</td>\n      <td>1399963104071409668</td>\n      <td>Rahul Patidar</td>\n      <td>Rahulpatidar526</td>\n      <td>Neemuch MP India</td>\n      <td>।। सतगुरु अपना साथी है ।।</td>\n      <td>None</td>\n      <td>{'description': {'urls': []}}</td>\n      <td>False</td>\n      <td>213</td>\n      <td>...</td>\n      <td>False</td>\n      <td>False</td>\n      <td>False</td>\n      <td>False</td>\n      <td>False</td>\n      <td>none</td>\n      <td>[]</td>\n      <td>Balramchawla2</td>\n      <td>Status(_api=&lt;tweepy.api.API object at 0x7f8aa0...</td>\n      <td>https://pbs.twimg.com/profile_banners/13999631...</td>\n    </tr>\n    <tr>\n      <th>2</th>\n      <td>1384684882249404566</td>\n      <td>1384684882249404566</td>\n      <td>🇮🇳𝙹𝙰𝙶𝚂𝙴𝙴𝚁 𝚂𝙸𝙽𝙶𝙷❤️</td>\n      <td>JagseerKashyap</td>\n      <td>🏳️‍🌈Navodaya 🏳️‍🌈</td>\n      <td>100% follow back.</td>\n      <td>https://t.co/ug4grM1iqQ</td>\n      <td>{'url': {'urls': [{'url': 'https://t.co/ug4grM...</td>\n      <td>False</td>\n      <td>2088</td>\n      <td>...</td>\n      <td>False</td>\n      <td>False</td>\n      <td>False</td>\n      <td>False</td>\n      <td>False</td>\n      <td>none</td>\n      <td>[]</td>\n      <td>Balramchawla2</td>\n      <td>Status(_api=&lt;tweepy.api.API object at 0x7f8aa0...</td>\n      <td>https://pbs.twimg.com/profile_banners/13846848...</td>\n    </tr>\n    <tr>\n      <th>...</th>\n      <td>...</td>\n      <td>...</td>\n      <td>...</td>\n      <td>...</td>\n      <td>...</td>\n      <td>...</td>\n      <td>...</td>\n      <td>...</td>\n      <td>...</td>\n      <td>...</td>\n      <td>...</td>\n      <td>...</td>\n      <td>...</td>\n      <td>...</td>\n      <td>...</td>\n      <td>...</td>\n      <td>...</td>\n      <td>...</td>\n      <td>...</td>\n      <td>...</td>\n      <td>...</td>\n    </tr>\n    <tr>\n      <th>51</th>\n      <td>40964818</td>\n      <td>40964818</td>\n      <td>V.S. Williams</td>\n      <td>vsw_</td>\n      <td></td>\n      <td>(she/her) Seeking liberation--for self &amp; other...</td>\n      <td>None</td>\n      <td>{'description': {'urls': []}}</td>\n      <td>False</td>\n      <td>734</td>\n      <td>...</td>\n      <td>False</td>\n      <td>False</td>\n      <td>False</td>\n      <td>False</td>\n      <td>False</td>\n      <td>none</td>\n      <td>[]</td>\n      <td>SarahisShock</td>\n      <td>Status(_api=&lt;tweepy.api.API object at 0x7f8aa0...</td>\n      <td>https://pbs.twimg.com/profile_banners/40964818...</td>\n    </tr>\n    <tr>\n      <th>52</th>\n      <td>110003913</td>\n      <td>110003913</td>\n      <td>Autumn Banner</td>\n      <td>autumnbanner</td>\n      <td></td>\n      <td></td>\n      <td>None</td>\n      <td>{'description': {'urls': []}}</td>\n      <td>False</td>\n      <td>14</td>\n      <td>...</td>\n      <td>False</td>\n      <td>False</td>\n      <td>False</td>\n      <td>False</td>\n      <td>False</td>\n      <td>none</td>\n      <td>[]</td>\n      <td>SarahisShock</td>\n      <td>Status(_api=&lt;tweepy.api.API object at 0x7f8aa0...</td>\n      <td>NaN</td>\n    </tr>\n    <tr>\n      <th>0</th>\n      <td>1393272371612733445</td>\n      <td>1393272371612733445</td>\n      <td>lets Talk money with Ashley</td>\n      <td>Midas20978889</td>\n      <td>Pennsylvania, USA</td>\n      <td>Welcome to Talk Money. An investing forum and ...</td>\n      <td>None</td>\n      <td>{'description': {'urls': []}}</td>\n      <td>False</td>\n      <td>135</td>\n      <td>...</td>\n      <td>False</td>\n      <td>False</td>\n      <td>False</td>\n      <td>False</td>\n      <td>False</td>\n      <td>none</td>\n      <td>[]</td>\n      <td>Jayon75601540</td>\n      <td>Status(_api=&lt;tweepy.api.API object at 0x7f8aa0...</td>\n      <td>https://pbs.twimg.com/profile_banners/13932723...</td>\n    </tr>\n    <tr>\n      <th>1</th>\n      <td>2485422353</td>\n      <td>2485422353</td>\n      <td>DJ Watkins Jr</td>\n      <td>DJWatkins22</td>\n      <td>New Jersey, USA</td>\n      <td>6’1 G ‘23</td>\n      <td>None</td>\n      <td>{'description': {'urls': []}}</td>\n      <td>False</td>\n      <td>53</td>\n      <td>...</td>\n      <td>False</td>\n      <td>False</td>\n      <td>False</td>\n      <td>False</td>\n      <td>False</td>\n      <td>none</td>\n      <td>[]</td>\n      <td>Jayon75601540</td>\n      <td>Status(_api=&lt;tweepy.api.API object at 0x7f8aa0...</td>\n      <td>https://pbs.twimg.com/profile_banners/24854223...</td>\n    </tr>\n    <tr>\n      <th>2</th>\n      <td>49250791</td>\n      <td>49250791</td>\n      <td>Mark Noll</td>\n      <td>marknoll15</td>\n      <td></td>\n      <td></td>\n      <td>None</td>\n      <td>{'description': {'urls': []}}</td>\n      <td>False</td>\n      <td>132</td>\n      <td>...</td>\n      <td>False</td>\n      <td>False</td>\n      <td>False</td>\n      <td>False</td>\n      <td>False</td>\n      <td>none</td>\n      <td>[]</td>\n      <td>Jayon75601540</td>\n      <td>Status(_api=&lt;tweepy.api.API object at 0x7f8aa0...</td>\n      <td>NaN</td>\n    </tr>\n  </tbody>\n</table>\n<p>209 rows × 49 columns</p>\n</div>"
     },
     "metadata": {},
     "execution_count": 13
    }
   ],
   "source": [
    "followersDf"
   ]
  },
  {
   "source": [
    "## SEARCH FUNCTIONALITY"
   ],
   "cell_type": "markdown",
   "metadata": {}
  },
  {
   "cell_type": "code",
   "execution_count": 6,
   "metadata": {},
   "outputs": [],
   "source": [
    "from NetMap import TwCli, SearchParams, Tools"
   ]
  },
  {
   "cell_type": "code",
   "execution_count": 7,
   "metadata": {},
   "outputs": [
    {
     "output_type": "stream",
     "name": "stdout",
     "text": [
      "2021-06-23 23:17:24 [INFO] NetMap-Log -  Finished\n"
     ]
    }
   ],
   "source": [
    "client = TwCli()\n",
    "params = SearchParams(locations=['manhattan', 'detroit'],\n",
    "                      words=['Biden', 'Covid19'],\n",
    "                      start_date='2021-06-21', num_days=7)"
   ]
  },
  {
   "cell_type": "code",
   "execution_count": 8,
   "metadata": {},
   "outputs": [
    {
     "output_type": "stream",
     "name": "stdout",
     "text": [
      "2021-06-23 23:17:26 [INFO] NetMap-Log - Calling Twitter | 2021-06-20 | 40.7830603,-73.9712488,4mi | #biden\n",
      "2021-06-23 23:17:27 [INFO] NetMap-Log - PAGE: 0 | Tweets Filtered: 93\n",
      "2021-06-23 23:17:28 [INFO] NetMap-Log - PAGE: 1 | Tweets Filtered: 193\n",
      "2021-06-23 23:17:29 [INFO] NetMap-Log - PAGE: 2 | Tweets Filtered: 293\n",
      "2021-06-23 23:17:30 [INFO] NetMap-Log - PAGE: 3 | Tweets Filtered: 379\n",
      "2021-06-23 23:17:30 [INFO] NetMap-Log - Calling Twitter | 2021-06-20 | 40.7830603,-73.9712488,4mi | #covid19\n",
      "2021-06-23 23:17:31 [INFO] NetMap-Log - PAGE: 0 | Tweets Filtered: 94\n",
      "2021-06-23 23:17:32 [INFO] NetMap-Log - PAGE: 1 | Tweets Filtered: 194\n",
      "2021-06-23 23:17:33 [INFO] NetMap-Log - PAGE: 2 | Tweets Filtered: 294\n",
      "2021-06-23 23:17:34 [INFO] NetMap-Log - PAGE: 3 | Tweets Filtered: 394\n",
      "2021-06-23 23:17:35 [INFO] NetMap-Log - PAGE: 4 | Tweets Filtered: 494\n",
      "2021-06-23 23:17:35 [INFO] NetMap-Log - Calling Twitter | 2021-06-20 | 42.331427,-83.0457538,4mi | #biden\n",
      "2021-06-23 23:17:36 [INFO] NetMap-Log - PAGE: 0 | Tweets Filtered: 3\n",
      "2021-06-23 23:17:36 [INFO] NetMap-Log - Calling Twitter | 2021-06-20 | 42.331427,-83.0457538,4mi | #covid19\n",
      "2021-06-23 23:17:37 [INFO] NetMap-Log - PAGE: 0 | Tweets Filtered: 100\n",
      "2021-06-23 23:17:37 [INFO] NetMap-Log - PAGE: 1 | Tweets Filtered: 125\n",
      "2021-06-23 23:17:38 [INFO] NetMap-Log - Calling Twitter | 2021-06-19 | 40.7830603,-73.9712488,4mi | #biden\n",
      "2021-06-23 23:17:38 [INFO] NetMap-Log - PAGE: 0 | Tweets Filtered: 93\n",
      "2021-06-23 23:17:39 [INFO] NetMap-Log - PAGE: 1 | Tweets Filtered: 193\n",
      "2021-06-23 23:17:40 [INFO] NetMap-Log - PAGE: 2 | Tweets Filtered: 293\n",
      "2021-06-23 23:17:41 [INFO] NetMap-Log - PAGE: 3 | Tweets Filtered: 393\n",
      "2021-06-23 23:17:42 [INFO] NetMap-Log - PAGE: 4 | Tweets Filtered: 466\n",
      "2021-06-23 23:17:42 [INFO] NetMap-Log - Calling Twitter | 2021-06-19 | 40.7830603,-73.9712488,4mi | #covid19\n",
      "2021-06-23 23:17:43 [INFO] NetMap-Log - PAGE: 0 | Tweets Filtered: 94\n",
      "2021-06-23 23:17:44 [INFO] NetMap-Log - PAGE: 1 | Tweets Filtered: 194\n",
      "2021-06-23 23:17:45 [INFO] NetMap-Log - PAGE: 2 | Tweets Filtered: 294\n",
      "2021-06-23 23:17:46 [INFO] NetMap-Log - PAGE: 3 | Tweets Filtered: 394\n",
      "2021-06-23 23:17:48 [INFO] NetMap-Log - PAGE: 4 | Tweets Filtered: 494\n",
      "2021-06-23 23:17:48 [INFO] NetMap-Log - Calling Twitter | 2021-06-19 | 42.331427,-83.0457538,4mi | #biden\n",
      "2021-06-23 23:17:48 [INFO] NetMap-Log - PAGE: 0 | Tweets Filtered: 5\n",
      "2021-06-23 23:17:49 [INFO] NetMap-Log - Calling Twitter | 2021-06-19 | 42.331427,-83.0457538,4mi | #covid19\n",
      "2021-06-23 23:17:50 [INFO] NetMap-Log - PAGE: 0 | Tweets Filtered: 100\n",
      "2021-06-23 23:17:50 [INFO] NetMap-Log - PAGE: 1 | Tweets Filtered: 139\n",
      "2021-06-23 23:17:51 [INFO] NetMap-Log - Calling Twitter | 2021-06-18 | 40.7830603,-73.9712488,4mi | #biden\n",
      "2021-06-23 23:17:52 [INFO] NetMap-Log - PAGE: 0 | Tweets Filtered: 93\n",
      "2021-06-23 23:17:53 [INFO] NetMap-Log - PAGE: 1 | Tweets Filtered: 193\n",
      "2021-06-23 23:17:54 [INFO] NetMap-Log - PAGE: 2 | Tweets Filtered: 293\n",
      "2021-06-23 23:17:55 [INFO] NetMap-Log - PAGE: 3 | Tweets Filtered: 393\n",
      "2021-06-23 23:17:55 [INFO] NetMap-Log - PAGE: 4 | Tweets Filtered: 493\n",
      "2021-06-23 23:17:55 [INFO] NetMap-Log - Calling Twitter | 2021-06-18 | 40.7830603,-73.9712488,4mi | #covid19\n",
      "2021-06-23 23:17:56 [INFO] NetMap-Log - PAGE: 0 | Tweets Filtered: 94\n",
      "2021-06-23 23:17:57 [INFO] NetMap-Log - PAGE: 1 | Tweets Filtered: 194\n",
      "2021-06-23 23:17:59 [INFO] NetMap-Log - PAGE: 2 | Tweets Filtered: 294\n",
      "2021-06-23 23:17:59 [INFO] NetMap-Log - PAGE: 3 | Tweets Filtered: 394\n",
      "2021-06-23 23:18:00 [INFO] NetMap-Log - PAGE: 4 | Tweets Filtered: 494\n",
      "2021-06-23 23:18:00 [INFO] NetMap-Log - Calling Twitter | 2021-06-18 | 42.331427,-83.0457538,4mi | #biden\n",
      "2021-06-23 23:18:01 [INFO] NetMap-Log - PAGE: 0 | Tweets Filtered: 5\n",
      "2021-06-23 23:18:01 [INFO] NetMap-Log - Calling Twitter | 2021-06-18 | 42.331427,-83.0457538,4mi | #covid19\n",
      "2021-06-23 23:18:02 [INFO] NetMap-Log - PAGE: 0 | Tweets Filtered: 100\n",
      "2021-06-23 23:18:03 [INFO] NetMap-Log - PAGE: 1 | Tweets Filtered: 165\n",
      "2021-06-23 23:18:03 [INFO] NetMap-Log - Calling Twitter | 2021-06-17 | 40.7830603,-73.9712488,4mi | #biden\n",
      "2021-06-23 23:18:04 [INFO] NetMap-Log - PAGE: 0 | Tweets Filtered: 93\n",
      "2021-06-23 23:18:05 [INFO] NetMap-Log - PAGE: 1 | Tweets Filtered: 193\n",
      "2021-06-23 23:18:08 [INFO] NetMap-Log - PAGE: 2 | Tweets Filtered: 293\n",
      "2021-06-23 23:18:09 [INFO] NetMap-Log - PAGE: 3 | Tweets Filtered: 393\n",
      "2021-06-23 23:18:10 [INFO] NetMap-Log - PAGE: 4 | Tweets Filtered: 493\n",
      "2021-06-23 23:18:10 [INFO] NetMap-Log - Calling Twitter | 2021-06-17 | 40.7830603,-73.9712488,4mi | #covid19\n",
      "2021-06-23 23:18:11 [INFO] NetMap-Log - PAGE: 0 | Tweets Filtered: 94\n",
      "2021-06-23 23:18:12 [INFO] NetMap-Log - PAGE: 1 | Tweets Filtered: 194\n",
      "2021-06-23 23:18:13 [INFO] NetMap-Log - PAGE: 2 | Tweets Filtered: 294\n",
      "2021-06-23 23:18:14 [INFO] NetMap-Log - PAGE: 3 | Tweets Filtered: 394\n",
      "2021-06-23 23:18:15 [INFO] NetMap-Log - PAGE: 4 | Tweets Filtered: 494\n",
      "2021-06-23 23:18:15 [INFO] NetMap-Log - Calling Twitter | 2021-06-17 | 42.331427,-83.0457538,4mi | #biden\n",
      "2021-06-23 23:18:15 [INFO] NetMap-Log - PAGE: 0 | Tweets Filtered: 8\n",
      "2021-06-23 23:18:15 [INFO] NetMap-Log - Calling Twitter | 2021-06-17 | 42.331427,-83.0457538,4mi | #covid19\n",
      "2021-06-23 23:18:16 [INFO] NetMap-Log - PAGE: 0 | Tweets Filtered: 100\n",
      "2021-06-23 23:18:17 [INFO] NetMap-Log - PAGE: 1 | Tweets Filtered: 169\n",
      "2021-06-23 23:18:18 [INFO] NetMap-Log - PAGE: 2 | Tweets Filtered: 209\n",
      "2021-06-23 23:18:18 [INFO] NetMap-Log - Calling Twitter | 2021-06-16 | 40.7830603,-73.9712488,4mi | #biden\n",
      "2021-06-23 23:18:19 [INFO] NetMap-Log - PAGE: 0 | Tweets Filtered: 93\n",
      "2021-06-23 23:18:20 [INFO] NetMap-Log - PAGE: 1 | Tweets Filtered: 193\n",
      "2021-06-23 23:18:21 [INFO] NetMap-Log - PAGE: 2 | Tweets Filtered: 293\n",
      "2021-06-23 23:18:22 [INFO] NetMap-Log - PAGE: 3 | Tweets Filtered: 393\n",
      "2021-06-23 23:18:23 [INFO] NetMap-Log - PAGE: 4 | Tweets Filtered: 493\n",
      "2021-06-23 23:18:23 [INFO] NetMap-Log - Calling Twitter | 2021-06-16 | 40.7830603,-73.9712488,4mi | #covid19\n",
      "2021-06-23 23:18:23 [INFO] NetMap-Log - PAGE: 0 | Tweets Filtered: 94\n",
      "2021-06-23 23:18:24 [INFO] NetMap-Log - PAGE: 1 | Tweets Filtered: 194\n",
      "2021-06-23 23:18:26 [INFO] NetMap-Log - PAGE: 2 | Tweets Filtered: 294\n",
      "2021-06-23 23:18:27 [INFO] NetMap-Log - PAGE: 3 | Tweets Filtered: 394\n",
      "2021-06-23 23:18:28 [INFO] NetMap-Log - PAGE: 4 | Tweets Filtered: 494\n",
      "2021-06-23 23:18:28 [INFO] NetMap-Log - Calling Twitter | 2021-06-16 | 42.331427,-83.0457538,4mi | #biden\n",
      "2021-06-23 23:18:28 [INFO] NetMap-Log - PAGE: 0 | Tweets Filtered: 14\n",
      "2021-06-23 23:18:28 [INFO] NetMap-Log - Calling Twitter | 2021-06-16 | 42.331427,-83.0457538,4mi | #covid19\n",
      "2021-06-23 23:18:29 [INFO] NetMap-Log - PAGE: 0 | Tweets Filtered: 100\n",
      "2021-06-23 23:18:30 [INFO] NetMap-Log - PAGE: 1 | Tweets Filtered: 169\n",
      "2021-06-23 23:18:31 [INFO] NetMap-Log - PAGE: 2 | Tweets Filtered: 232\n",
      "2021-06-23 23:18:31 [INFO] NetMap-Log - Calling Twitter | 2021-06-15 | 40.7830603,-73.9712488,4mi | #biden\n",
      "2021-06-23 23:18:32 [INFO] NetMap-Log - PAGE: 0 | Tweets Filtered: 93\n",
      "2021-06-23 23:18:33 [INFO] NetMap-Log - PAGE: 1 | Tweets Filtered: 193\n",
      "2021-06-23 23:18:34 [INFO] NetMap-Log - PAGE: 2 | Tweets Filtered: 293\n",
      "2021-06-23 23:18:35 [INFO] NetMap-Log - PAGE: 3 | Tweets Filtered: 393\n",
      "2021-06-23 23:18:36 [INFO] NetMap-Log - PAGE: 4 | Tweets Filtered: 493\n",
      "2021-06-23 23:18:36 [INFO] NetMap-Log - Calling Twitter | 2021-06-15 | 40.7830603,-73.9712488,4mi | #covid19\n",
      "2021-06-23 23:18:37 [INFO] NetMap-Log - PAGE: 0 | Tweets Filtered: 94\n",
      "2021-06-23 23:18:38 [INFO] NetMap-Log - PAGE: 1 | Tweets Filtered: 194\n",
      "2021-06-23 23:18:39 [INFO] NetMap-Log - PAGE: 2 | Tweets Filtered: 294\n",
      "2021-06-23 23:18:40 [INFO] NetMap-Log - PAGE: 3 | Tweets Filtered: 394\n",
      "2021-06-23 23:18:41 [INFO] NetMap-Log - PAGE: 4 | Tweets Filtered: 494\n",
      "2021-06-23 23:18:42 [INFO] NetMap-Log - Calling Twitter | 2021-06-15 | 42.331427,-83.0457538,4mi | #biden\n",
      "2021-06-23 23:18:42 [INFO] NetMap-Log - PAGE: 0 | Tweets Filtered: 14\n",
      "2021-06-23 23:18:42 [INFO] NetMap-Log - Calling Twitter | 2021-06-15 | 42.331427,-83.0457538,4mi | #covid19\n",
      "2021-06-23 23:18:43 [INFO] NetMap-Log - PAGE: 0 | Tweets Filtered: 100\n",
      "2021-06-23 23:18:44 [INFO] NetMap-Log - PAGE: 1 | Tweets Filtered: 169\n",
      "2021-06-23 23:18:45 [INFO] NetMap-Log - PAGE: 2 | Tweets Filtered: 251\n"
     ]
    }
   ],
   "source": [
    "df = Tools.collect_search(params=params, client=client, records=5)"
   ]
  },
  {
   "cell_type": "code",
   "execution_count": 12,
   "metadata": {},
   "outputs": [
    {
     "output_type": "execute_result",
     "data": {
      "text/plain": [
       "              tweet_time             tweet_id  \\\n",
       "0    2021-06-24T03:11:44  1407899214265208835   \n",
       "1    2021-06-24T03:00:34  1407896404371066881   \n",
       "2    2021-06-24T02:57:21  1407895591611514882   \n",
       "3    2021-06-24T02:56:53  1407895477471883265   \n",
       "4    2021-06-24T02:56:06  1407895276908654594   \n",
       "..                   ...                  ...   \n",
       "246  2021-06-15T15:00:23  1404816061103546376   \n",
       "247  2021-06-15T14:58:26  1404815567123533828   \n",
       "248  2021-06-15T14:50:19  1404813527987142658   \n",
       "249  2021-06-15T14:40:46  1404811121052336133   \n",
       "250  2021-06-15T14:29:45  1404808351477911557   \n",
       "\n",
       "                                             full_text text_range  \\\n",
       "0    RT @RichSementa: Is no one going to mention ho...   [0, 107]   \n",
       "1    RT @RichSementa: Is no one going to mention ho...   [0, 107]   \n",
       "2    RT @RichSementa: Is no one going to mention ho...   [0, 107]   \n",
       "3    RT @RichSementa: Is no one going to mention ho...   [0, 107]   \n",
       "4    RT @RichSementa: Is no one going to mention ho...   [0, 107]   \n",
       "..                                                 ...        ...   \n",
       "246  RT @sundaynightarmy: 🚨LATEST EPISODES🚨\\nApple👇...   [0, 140]   \n",
       "247  RT @drjkahn: One is NOT acceptable, let alone ...   [0, 124]   \n",
       "248  RT @drjkahn: One is NOT acceptable, let alone ...   [0, 124]   \n",
       "249  Ontario reports 296 new cases of #COVID19 with...   [0, 278]   \n",
       "250  RT @phoebesaid: The Pope Francis Center in the...   [0, 140]   \n",
       "\n",
       "           tweet_user_id               tweet_user_name tweet_user_screen_name  \\\n",
       "0             1640641176                  Joyce Smutko                JSmutko   \n",
       "1     776028206579216385                  Brenda Brown             Brendy5264   \n",
       "2    1359599622797336579                      Bugle112              Bugle1121   \n",
       "3              330675150  ☀️ Katie #FireFauci Yonke ☀️            JKHomestead   \n",
       "4    1177737169558999040                            gj             gj87587976   \n",
       "..                   ...                           ...                    ...   \n",
       "246  1205638192784908289         The Sunday Night Army        sundaynightarmy   \n",
       "247             28976392                   Mark Jøseph            VegasPaidMJ   \n",
       "248  1217630050000023552                 Sulley Truman           SulleyTruman   \n",
       "249            800940168                YourTV Windsor          yourtvwindsor   \n",
       "250           3982701912           Pope Francis Center        PopeFrancisCntr   \n",
       "\n",
       "    tweet_user_location                             tweet_user_description  \\\n",
       "0                                                                            \n",
       "1                                                   Don’t worry, be happy!   \n",
       "2                                              73-year-old retired female.   \n",
       "3           Kenosha, WI  🏡 ✝️ 🧀 🇺🇸👨👧👦👶\\n\\nTrolls and haters will be blo...   \n",
       "4          Columbus, TX                                         DIY & Home   \n",
       "..                  ...                                                ...   \n",
       "246    Windsor, Ontario  An award winning podcast where JAKUB talks abo...   \n",
       "247           Las Vegas  When you truly don't care what the fuck people...   \n",
       "248        New York, NY  I see beyond the world we have been given. The...   \n",
       "249    Windsor, Ontario  YourTV is an exclusive service provided to Cog...   \n",
       "250         Detroit, MI  The Pope Francis Center provides a welcoming, ...   \n",
       "\n",
       "     tweet_user_followers_count  ...  users_mentions_screennames_10  \\\n",
       "0                            22  ...                           None   \n",
       "1                           274  ...                           None   \n",
       "2                           167  ...                           None   \n",
       "3                          2101  ...                           None   \n",
       "4                            51  ...                           None   \n",
       "..                          ...  ...                            ...   \n",
       "246                        2851  ...                           None   \n",
       "247                         676  ...                           None   \n",
       "248                       17547  ...                           None   \n",
       "249                        2837  ...                           None   \n",
       "250                         175  ...                           None   \n",
       "\n",
       "    users_mentions_names_10  users_mentions_ids_10  \\\n",
       "0                      None                   None   \n",
       "1                      None                   None   \n",
       "2                      None                   None   \n",
       "3                      None                   None   \n",
       "4                      None                   None   \n",
       "..                      ...                    ...   \n",
       "246                    None                   None   \n",
       "247                    None                   None   \n",
       "248                    None                   None   \n",
       "249                    None                   None   \n",
       "250                    None                   None   \n",
       "\n",
       "     users_mentions_screennames_11  users_mentions_screennames_12  \\\n",
       "0                             None                           None   \n",
       "1                             None                           None   \n",
       "2                             None                           None   \n",
       "3                             None                           None   \n",
       "4                             None                           None   \n",
       "..                             ...                            ...   \n",
       "246                           None                           None   \n",
       "247                           None                           None   \n",
       "248                           None                           None   \n",
       "249                           None                           None   \n",
       "250                           None                           None   \n",
       "\n",
       "     users_mentions_names_11  users_mentions_names_12 users_mentions_ids_11  \\\n",
       "0                       None                     None                  None   \n",
       "1                       None                     None                  None   \n",
       "2                       None                     None                  None   \n",
       "3                       None                     None                  None   \n",
       "4                       None                     None                  None   \n",
       "..                       ...                      ...                   ...   \n",
       "246                     None                     None                  None   \n",
       "247                     None                     None                  None   \n",
       "248                     None                     None                  None   \n",
       "249                     None                     None                  None   \n",
       "250                     None                     None                  None   \n",
       "\n",
       "    users_mentions_ids_12 hashtags_18  \n",
       "0                    None        None  \n",
       "1                    None        None  \n",
       "2                    None        None  \n",
       "3                    None        None  \n",
       "4                    None        None  \n",
       "..                    ...         ...  \n",
       "246                  None        None  \n",
       "247                  None        None  \n",
       "248                  None        None  \n",
       "249                  None        None  \n",
       "250                  None        None  \n",
       "\n",
       "[6951 rows x 155 columns]"
      ],
      "text/html": "<div>\n<style scoped>\n    .dataframe tbody tr th:only-of-type {\n        vertical-align: middle;\n    }\n\n    .dataframe tbody tr th {\n        vertical-align: top;\n    }\n\n    .dataframe thead th {\n        text-align: right;\n    }\n</style>\n<table border=\"1\" class=\"dataframe\">\n  <thead>\n    <tr style=\"text-align: right;\">\n      <th></th>\n      <th>tweet_time</th>\n      <th>tweet_id</th>\n      <th>full_text</th>\n      <th>text_range</th>\n      <th>tweet_user_id</th>\n      <th>tweet_user_name</th>\n      <th>tweet_user_screen_name</th>\n      <th>tweet_user_location</th>\n      <th>tweet_user_description</th>\n      <th>tweet_user_followers_count</th>\n      <th>...</th>\n      <th>users_mentions_screennames_10</th>\n      <th>users_mentions_names_10</th>\n      <th>users_mentions_ids_10</th>\n      <th>users_mentions_screennames_11</th>\n      <th>users_mentions_screennames_12</th>\n      <th>users_mentions_names_11</th>\n      <th>users_mentions_names_12</th>\n      <th>users_mentions_ids_11</th>\n      <th>users_mentions_ids_12</th>\n      <th>hashtags_18</th>\n    </tr>\n  </thead>\n  <tbody>\n    <tr>\n      <th>0</th>\n      <td>2021-06-24T03:11:44</td>\n      <td>1407899214265208835</td>\n      <td>RT @RichSementa: Is no one going to mention ho...</td>\n      <td>[0, 107]</td>\n      <td>1640641176</td>\n      <td>Joyce Smutko</td>\n      <td>JSmutko</td>\n      <td></td>\n      <td></td>\n      <td>22</td>\n      <td>...</td>\n      <td>None</td>\n      <td>None</td>\n      <td>None</td>\n      <td>None</td>\n      <td>None</td>\n      <td>None</td>\n      <td>None</td>\n      <td>None</td>\n      <td>None</td>\n      <td>None</td>\n    </tr>\n    <tr>\n      <th>1</th>\n      <td>2021-06-24T03:00:34</td>\n      <td>1407896404371066881</td>\n      <td>RT @RichSementa: Is no one going to mention ho...</td>\n      <td>[0, 107]</td>\n      <td>776028206579216385</td>\n      <td>Brenda Brown</td>\n      <td>Brendy5264</td>\n      <td></td>\n      <td>Don’t worry, be happy!</td>\n      <td>274</td>\n      <td>...</td>\n      <td>None</td>\n      <td>None</td>\n      <td>None</td>\n      <td>None</td>\n      <td>None</td>\n      <td>None</td>\n      <td>None</td>\n      <td>None</td>\n      <td>None</td>\n      <td>None</td>\n    </tr>\n    <tr>\n      <th>2</th>\n      <td>2021-06-24T02:57:21</td>\n      <td>1407895591611514882</td>\n      <td>RT @RichSementa: Is no one going to mention ho...</td>\n      <td>[0, 107]</td>\n      <td>1359599622797336579</td>\n      <td>Bugle112</td>\n      <td>Bugle1121</td>\n      <td></td>\n      <td>73-year-old retired female.</td>\n      <td>167</td>\n      <td>...</td>\n      <td>None</td>\n      <td>None</td>\n      <td>None</td>\n      <td>None</td>\n      <td>None</td>\n      <td>None</td>\n      <td>None</td>\n      <td>None</td>\n      <td>None</td>\n      <td>None</td>\n    </tr>\n    <tr>\n      <th>3</th>\n      <td>2021-06-24T02:56:53</td>\n      <td>1407895477471883265</td>\n      <td>RT @RichSementa: Is no one going to mention ho...</td>\n      <td>[0, 107]</td>\n      <td>330675150</td>\n      <td>☀️ Katie #FireFauci Yonke ☀️</td>\n      <td>JKHomestead</td>\n      <td>Kenosha, WI</td>\n      <td>🏡 ✝️ 🧀 🇺🇸👨👧👦👶\\n\\nTrolls and haters will be blo...</td>\n      <td>2101</td>\n      <td>...</td>\n      <td>None</td>\n      <td>None</td>\n      <td>None</td>\n      <td>None</td>\n      <td>None</td>\n      <td>None</td>\n      <td>None</td>\n      <td>None</td>\n      <td>None</td>\n      <td>None</td>\n    </tr>\n    <tr>\n      <th>4</th>\n      <td>2021-06-24T02:56:06</td>\n      <td>1407895276908654594</td>\n      <td>RT @RichSementa: Is no one going to mention ho...</td>\n      <td>[0, 107]</td>\n      <td>1177737169558999040</td>\n      <td>gj</td>\n      <td>gj87587976</td>\n      <td>Columbus, TX</td>\n      <td>DIY &amp; Home</td>\n      <td>51</td>\n      <td>...</td>\n      <td>None</td>\n      <td>None</td>\n      <td>None</td>\n      <td>None</td>\n      <td>None</td>\n      <td>None</td>\n      <td>None</td>\n      <td>None</td>\n      <td>None</td>\n      <td>None</td>\n    </tr>\n    <tr>\n      <th>...</th>\n      <td>...</td>\n      <td>...</td>\n      <td>...</td>\n      <td>...</td>\n      <td>...</td>\n      <td>...</td>\n      <td>...</td>\n      <td>...</td>\n      <td>...</td>\n      <td>...</td>\n      <td>...</td>\n      <td>...</td>\n      <td>...</td>\n      <td>...</td>\n      <td>...</td>\n      <td>...</td>\n      <td>...</td>\n      <td>...</td>\n      <td>...</td>\n      <td>...</td>\n      <td>...</td>\n    </tr>\n    <tr>\n      <th>246</th>\n      <td>2021-06-15T15:00:23</td>\n      <td>1404816061103546376</td>\n      <td>RT @sundaynightarmy: 🚨LATEST EPISODES🚨\\nApple👇...</td>\n      <td>[0, 140]</td>\n      <td>1205638192784908289</td>\n      <td>The Sunday Night Army</td>\n      <td>sundaynightarmy</td>\n      <td>Windsor, Ontario</td>\n      <td>An award winning podcast where JAKUB talks abo...</td>\n      <td>2851</td>\n      <td>...</td>\n      <td>None</td>\n      <td>None</td>\n      <td>None</td>\n      <td>None</td>\n      <td>None</td>\n      <td>None</td>\n      <td>None</td>\n      <td>None</td>\n      <td>None</td>\n      <td>None</td>\n    </tr>\n    <tr>\n      <th>247</th>\n      <td>2021-06-15T14:58:26</td>\n      <td>1404815567123533828</td>\n      <td>RT @drjkahn: One is NOT acceptable, let alone ...</td>\n      <td>[0, 124]</td>\n      <td>28976392</td>\n      <td>Mark Jøseph</td>\n      <td>VegasPaidMJ</td>\n      <td>Las Vegas</td>\n      <td>When you truly don't care what the fuck people...</td>\n      <td>676</td>\n      <td>...</td>\n      <td>None</td>\n      <td>None</td>\n      <td>None</td>\n      <td>None</td>\n      <td>None</td>\n      <td>None</td>\n      <td>None</td>\n      <td>None</td>\n      <td>None</td>\n      <td>None</td>\n    </tr>\n    <tr>\n      <th>248</th>\n      <td>2021-06-15T14:50:19</td>\n      <td>1404813527987142658</td>\n      <td>RT @drjkahn: One is NOT acceptable, let alone ...</td>\n      <td>[0, 124]</td>\n      <td>1217630050000023552</td>\n      <td>Sulley Truman</td>\n      <td>SulleyTruman</td>\n      <td>New York, NY</td>\n      <td>I see beyond the world we have been given. The...</td>\n      <td>17547</td>\n      <td>...</td>\n      <td>None</td>\n      <td>None</td>\n      <td>None</td>\n      <td>None</td>\n      <td>None</td>\n      <td>None</td>\n      <td>None</td>\n      <td>None</td>\n      <td>None</td>\n      <td>None</td>\n    </tr>\n    <tr>\n      <th>249</th>\n      <td>2021-06-15T14:40:46</td>\n      <td>1404811121052336133</td>\n      <td>Ontario reports 296 new cases of #COVID19 with...</td>\n      <td>[0, 278]</td>\n      <td>800940168</td>\n      <td>YourTV Windsor</td>\n      <td>yourtvwindsor</td>\n      <td>Windsor, Ontario</td>\n      <td>YourTV is an exclusive service provided to Cog...</td>\n      <td>2837</td>\n      <td>...</td>\n      <td>None</td>\n      <td>None</td>\n      <td>None</td>\n      <td>None</td>\n      <td>None</td>\n      <td>None</td>\n      <td>None</td>\n      <td>None</td>\n      <td>None</td>\n      <td>None</td>\n    </tr>\n    <tr>\n      <th>250</th>\n      <td>2021-06-15T14:29:45</td>\n      <td>1404808351477911557</td>\n      <td>RT @phoebesaid: The Pope Francis Center in the...</td>\n      <td>[0, 140]</td>\n      <td>3982701912</td>\n      <td>Pope Francis Center</td>\n      <td>PopeFrancisCntr</td>\n      <td>Detroit, MI</td>\n      <td>The Pope Francis Center provides a welcoming, ...</td>\n      <td>175</td>\n      <td>...</td>\n      <td>None</td>\n      <td>None</td>\n      <td>None</td>\n      <td>None</td>\n      <td>None</td>\n      <td>None</td>\n      <td>None</td>\n      <td>None</td>\n      <td>None</td>\n      <td>None</td>\n    </tr>\n  </tbody>\n</table>\n<p>6951 rows × 155 columns</p>\n</div>"
     },
     "metadata": {},
     "execution_count": 12
    }
   ],
   "source": [
    "df.fillna('None')"
   ]
  },
  {
   "cell_type": "code",
   "execution_count": 21,
   "metadata": {},
   "outputs": [],
   "source": [
    "#TODO: \n",
    "#question -- at one point do we enter into SQL DB and how should the DB be organized?\n",
    "#question -- should the networkX display be querying the SQL DB - rather than the csv?\n",
    "#question -- overtime can the networkX display continue to grow and display more complex search words?"
   ]
  },
  {
   "cell_type": "code",
   "execution_count": 19,
   "metadata": {},
   "outputs": [
    {
     "output_type": "stream",
     "name": "stdout",
     "text": [
      "tweet_time\n<class 'str'>\ntweet_id\n<class 'numpy.int64'>\nfull_text\n<class 'str'>\ntext_range\n<class 'list'>\ntweet_user_id\n<class 'numpy.int64'>\ntweet_user_name\n<class 'str'>\ntweet_user_screen_name\n<class 'str'>\ntweet_user_location\n<class 'str'>\ntweet_user_description\n<class 'str'>\ntweet_user_followers_count\n<class 'numpy.int64'>\ntweet_user_friends_count\n<class 'numpy.int64'>\ntweet_user_creation\n<class 'str'>\ntweet_user_tweet_count\n<class 'numpy.int64'>\ntweet_retweeted\n<class 'numpy.bool_'>\ntweet_favorited\n<class 'numpy.bool_'>\ntweet_retweet_count\n<class 'numpy.int64'>\ntweet_favorite_count\n<class 'numpy.int64'>\ntweet_in_reply_to_status_id\n<class 'str'>\ntweet_in_reply_to_user_id\n<class 'str'>\ntweet_in_reply_to_user_screen_name\n<class 'str'>\nretweeted_tweet_time\n<class 'str'>\nretweeted_full_text\n<class 'str'>\nretweeted_text_range\n<class 'list'>\nretweeted_tweet_id\n<class 'float'>\nretweeted_source\n<class 'str'>\nretweet_in_reply_to_id\n<class 'str'>\nretweet_in_reply_to_user_id\n<class 'str'>\nretweet_in_reply_to_user_screenname\n<class 'str'>\nretweet_user_id\n<class 'float'>\nretweet_user_screen_name\n<class 'str'>\nretweet_user_description\n<class 'str'>\nretweet_user_creation\n<class 'str'>\nretweet_user_followers\n<class 'float'>\nretweet_user_friends_count\n<class 'float'>\nretweet_retweeted_count\n<class 'float'>\nretweet_favorited_count\n<class 'float'>\nhashtags_0\n<class 'str'>\nusers_mentions_screennames_0\n<class 'str'>\nusers_mentions_names_0\n<class 'str'>\nusers_mentions_ids_0\n<class 'float'>\nretweeted_hashtags_0\n<class 'str'>\nsearch_query\n<class 'str'>\nhashtags_1\n<class 'str'>\nhashtags_2\n<class 'str'>\nhashtags_3\n<class 'str'>\nhashtags_4\n<class 'str'>\nhashtags_5\n<class 'str'>\nhashtags_6\n<class 'str'>\nusers_mentions_screennames_1\n<class 'str'>\nusers_mentions_names_1\n<class 'str'>\nusers_mentions_ids_1\n<class 'str'>\nretweeted_mentions_screennames_0\n<class 'str'>\nretweeted_mentions_names_0\n<class 'str'>\nretweeted_mentions_ids_0\n<class 'str'>\nretweeted_hashtags_1\n<class 'str'>\nretweeted_hashtags_2\n<class 'str'>\nretweeted_hashtags_3\n<class 'str'>\nretweeted_hashtags_4\n<class 'str'>\nretweeted_hashtags_5\n<class 'str'>\nretweeted_mentions_screennames_1\n<class 'str'>\nretweeted_mentions_names_1\n<class 'str'>\nretweeted_mentions_ids_1\n<class 'str'>\nusers_mentions_screennames_2\n<class 'str'>\nusers_mentions_names_2\n<class 'str'>\nusers_mentions_ids_2\n<class 'str'>\nretweeted_hashtags_6\n<class 'str'>\nretweeted_hashtags_7\n<class 'str'>\nretweeted_mentions_screennames_2\n<class 'str'>\nretweeted_mentions_names_2\n<class 'str'>\nretweeted_mentions_ids_2\n<class 'str'>\nhashtags_7\n<class 'str'>\nhashtags_8\n<class 'str'>\nusers_mentions_screennames_3\n<class 'str'>\nusers_mentions_screennames_4\n<class 'str'>\nusers_mentions_screennames_5\n<class 'str'>\nusers_mentions_screennames_6\n<class 'str'>\nusers_mentions_screennames_7\n<class 'str'>\nusers_mentions_screennames_8\n<class 'str'>\nusers_mentions_names_3\n<class 'str'>\nusers_mentions_names_4\n<class 'str'>\nusers_mentions_names_5\n<class 'str'>\nusers_mentions_names_6\n<class 'str'>\nusers_mentions_names_7\n<class 'str'>\nusers_mentions_names_8\n<class 'str'>\nusers_mentions_ids_3\n<class 'str'>\nusers_mentions_ids_4\n<class 'str'>\nusers_mentions_ids_5\n<class 'str'>\nusers_mentions_ids_6\n<class 'str'>\nusers_mentions_ids_7\n<class 'str'>\nusers_mentions_ids_8\n<class 'str'>\nretweeted_hashtags_8\n<class 'str'>\nretweeted_hashtags_9\n<class 'str'>\nretweeted_hashtags_10\n<class 'str'>\nretweeted_hashtags_11\n<class 'str'>\nretweeted_mentions_screennames_3\n<class 'str'>\nretweeted_mentions_screennames_4\n<class 'str'>\nretweeted_mentions_screennames_5\n<class 'str'>\nretweeted_mentions_screennames_6\n<class 'str'>\nretweeted_mentions_screennames_7\n<class 'str'>\nretweeted_mentions_screennames_8\n<class 'str'>\nretweeted_mentions_screennames_9\n<class 'str'>\nretweeted_mentions_screennames_10\n<class 'str'>\nretweeted_mentions_screennames_11\n<class 'str'>\nretweeted_mentions_screennames_12\n<class 'str'>\nretweeted_mentions_screennames_13\n<class 'str'>\nretweeted_mentions_names_3\n<class 'str'>\nretweeted_mentions_names_4\n<class 'str'>\nretweeted_mentions_names_5\n<class 'str'>\nretweeted_mentions_names_6\n<class 'str'>\nretweeted_mentions_names_7\n<class 'str'>\nretweeted_mentions_names_8\n<class 'str'>\nretweeted_mentions_names_9\n<class 'str'>\nretweeted_mentions_names_10\n<class 'str'>\nretweeted_mentions_names_11\n<class 'str'>\nretweeted_mentions_names_12\n<class 'str'>\nretweeted_mentions_names_13\n<class 'str'>\nretweeted_mentions_ids_3\n<class 'str'>\nretweeted_mentions_ids_4\n<class 'str'>\nretweeted_mentions_ids_5\n<class 'str'>\nretweeted_mentions_ids_6\n<class 'str'>\nretweeted_mentions_ids_7\n<class 'str'>\nretweeted_mentions_ids_8\n<class 'str'>\nretweeted_mentions_ids_9\n<class 'str'>\nretweeted_mentions_ids_10\n<class 'str'>\nretweeted_mentions_ids_11\n<class 'str'>\nretweeted_mentions_ids_12\n<class 'str'>\nretweeted_mentions_ids_13\n<class 'str'>\nhashtags_9\n<class 'str'>\nhashtags_10\n<class 'str'>\nhashtags_11\n<class 'str'>\nhashtags_12\n<class 'str'>\nhashtags_13\n<class 'str'>\nhashtags_14\n<class 'str'>\nhashtags_15\n<class 'str'>\nhashtags_16\n<class 'str'>\nusers_mentions_screennames_9\n<class 'str'>\nusers_mentions_names_9\n<class 'str'>\nusers_mentions_ids_9\n<class 'str'>\nretweeted_hashtags_12\n<class 'str'>\nretweeted_hashtags_13\n<class 'str'>\nretweeted_hashtags_14\n<class 'str'>\nretweeted_hashtags_15\n<class 'str'>\nhashtags_17\n<class 'str'>\nretweeted_hashtags_16\n<class 'str'>\nretweeted_hashtags_17\n<class 'float'>\nusers_mentions_screennames_10\n<class 'float'>\nusers_mentions_names_10\n<class 'float'>\nusers_mentions_ids_10\n<class 'float'>\nusers_mentions_screennames_11\n<class 'float'>\nusers_mentions_screennames_12\n<class 'float'>\nusers_mentions_names_11\n<class 'float'>\nusers_mentions_names_12\n<class 'float'>\nusers_mentions_ids_11\n<class 'float'>\nusers_mentions_ids_12\n<class 'float'>\nhashtags_18\n<class 'float'>\n"
     ]
    }
   ],
   "source": [
    "for e in list(df.columns):\n",
    "\n",
    "    print(e)\n",
    "    print(type(df[e].iloc[0]))"
   ]
  },
  {
   "cell_type": "code",
   "execution_count": null,
   "metadata": {},
   "outputs": [],
   "source": []
  }
 ]
}